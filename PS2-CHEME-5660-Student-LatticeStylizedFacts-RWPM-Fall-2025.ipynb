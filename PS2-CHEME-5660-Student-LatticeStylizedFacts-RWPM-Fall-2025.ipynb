{
 "cells": [
  {
   "cell_type": "markdown",
   "id": "57dd9915-cbd9-4908-aa0a-1d2cee1b44b0",
   "metadata": {
    "tags": []
   },
   "source": [
    "# PS2: Binomial Lattice Simulation of Stylized Facts\n",
    "In this problem set, you will explore by simulation whether a simple binomial lattice model can replicate stylized facts of equity returns. We've derived the binomial lattice model in class, and our analysis suggested that it can replicate some, but not all, of the stylized facts of equity returns.\n",
    "\n",
    "> __Learning Objectives:__\n",
    ">\n",
    "> * **Parameter Estimation from Historical Data**: In this task, estimate binomial lattice parameters ($u$, $d$, $p$) from real market data by analyzing S&P 500 firm growth rates and implementing the real-world probability measure estimation algorithm.\n",
    "> * **Lattice Model Implementation and Validation**: Next, we'll build and populate binomial price trees using estimated parameters, then evaluate model performance by comparing simulated price paths with actual market data using confidence intervals and functional success tests.\n",
    "> * **Stylized Facts Analysis**: Lastly, we'll investigate whether binomial lattice models can replicate key empirical features of financial returns by testing autocorrelation properties, examining growth rate distributions, and applying statistical tests like Anderson-Darling to assess normality assumptions.\n",
    "\n",
    "\n",
    "Let's get started! Changes\n",
    "___"
   ]
  },
  {
   "cell_type": "markdown",
   "id": "7abe30da-5563-492e-82ea-892c472683eb",
   "metadata": {
    "tags": []
   },
   "source": [
    "## Setup, Data, and Prerequisites\n",
    "First, we set up the computational environment by including the `Include.jl` file and loading any needed resources.\n",
    "\n",
    ">__Include:__ The [`include(...)` command](https://docs.julialang.org/en/v1/base/base/#include) evaluates the contents of the input source file, `Include.jl`, in the notebook's global scope. The `Include.jl` file sets paths, loads required external packages, etc. For additional information on functions and types used in this material, see the [Julia programming language documentation](https://docs.julialang.org/en/v1/). \n",
    "\n",
    "Let's set up our code environment:"
   ]
  },
  {
   "cell_type": "code",
   "execution_count": 1,
   "id": "44c62894-3bb8-4fe1-b020-d17d2ca28d74",
   "metadata": {
    "tags": []
   },
   "outputs": [],
   "source": [
    "include(joinpath(@__DIR__, \"Include.jl\")); # include the Include.jl file"
   ]
  },
  {
   "cell_type": "markdown",
   "id": "6ae2088b",
   "metadata": {},
   "source": [
    "For additional information on functions and types used in this material, see the [Julia programming language documentation](https://docs.julialang.org/en/v1/) and the [VLQuantitativeFinancePackage.jl documentation](https://github.com/varnerlab/VLQuantitativeFinancePackage.jl). "
   ]
  },
  {
   "cell_type": "markdown",
   "id": "2b146331",
   "metadata": {},
   "source": [
    "### Data\n",
    "We gathered daily open-high-low-close (OHLC) data for each firm in the [S&P500](https://en.wikipedia.org/wiki/S%26P_500) from `01-03-2014` until `12-31-2024`, along with data for a few exchange-traded funds and volatility products during that time period. \n",
    "\n",
    "Let's load the `original_dataset::DataFrame` by calling [the `MyTrainingMarketDataSet()` function](https://varnerlab.github.io/VLQuantitativeFinancePackage.jl/dev/data/#VLQuantitativeFinancePackage.MyTrainingMarketDataSet) and remove firms that do not have the maximum number of trading days. The cleaned dataset $\\mathcal{D}$ will be stored in the `dataset` variable."
   ]
  },
  {
   "cell_type": "code",
   "execution_count": 2,
   "id": "e79f32c4",
   "metadata": {},
   "outputs": [],
   "source": [
    "original_dataset = MyTrainingMarketDataSet() |> x-> x[\"dataset\"];"
   ]
  },
  {
   "cell_type": "markdown",
   "id": "8064e7b0",
   "metadata": {},
   "source": [
    "Not all tickers in our dataset have the maximum number of trading days for various reasons, e.g., acquisition or delisting events. Let's collect only those tickers with the maximum number of trading days.\n",
    "\n",
    "First, let's compute the number of records for a firm that we know has the maximum value, e.g., `AAPL`, and save that value in the `maximum_number_trading_days::Int64` variable:"
   ]
  },
  {
   "cell_type": "code",
   "execution_count": 3,
   "id": "94af0e1f",
   "metadata": {},
   "outputs": [
    {
     "data": {
      "text/plain": [
       "2767"
      ]
     },
     "metadata": {},
     "output_type": "display_data"
    }
   ],
   "source": [
    "maximum_number_trading_days = original_dataset[\"AAPL\"] |> nrow # nrow returns the number of rows (check out: DataFrames.jl)"
   ]
  },
  {
   "cell_type": "markdown",
   "id": "3bb2adcc",
   "metadata": {},
   "source": [
    "Now, let's iterate through our data and collect only tickers with `maximum_number_trading_days` records. We'll save that data in the `dataset::Dict{String,DataFrame}` variable:"
   ]
  },
  {
   "cell_type": "code",
   "execution_count": 4,
   "id": "40c91e91",
   "metadata": {},
   "outputs": [],
   "source": [
    "dataset = let\n",
    "\n",
    "    # initialize -\n",
    "    dataset = Dict{String, DataFrame}();\n",
    "\n",
    "    # iterate through the dictionary; we can't guarantee a particular order\n",
    "    for (ticker, data) ∈ original_dataset  # we get each (K, V) pair!\n",
    "        if (nrow(data) == maximum_number_trading_days) # check if this firm has the maximum number of trading days\n",
    "            dataset[ticker] = data;\n",
    "        end\n",
    "    end\n",
    "    dataset; # return\n",
    "end;"
   ]
  },
  {
   "cell_type": "markdown",
   "id": "420fa03d",
   "metadata": {},
   "source": [
    "How many firms do we have with the full number of trading days? Let's use [the `length(...)` method](https://docs.julialang.org/en/v1/base/collections/#Base.length) — notice this works for dictionaries, in addition to arrays, sets, and other collections."
   ]
  },
  {
   "cell_type": "code",
   "execution_count": 5,
   "id": "5eb683ba",
   "metadata": {},
   "outputs": [
    {
     "data": {
      "text/plain": [
       "424"
      ]
     },
     "metadata": {},
     "output_type": "display_data"
    }
   ],
   "source": [
    "length(dataset) # tells us how many keys are in the dictionary (i.e., how many firms in our dataset)"
   ]
  },
  {
   "cell_type": "markdown",
   "id": "51137681",
   "metadata": {},
   "source": [
    "Finally, let's get a list of the firms in our cleaned dataset and sort them alphabetically. We store the sorted firm ticker symbols in the `list_of_tickers::Array{String,1}` variable."
   ]
  },
  {
   "cell_type": "code",
   "execution_count": 6,
   "id": "70d2fe4e",
   "metadata": {},
   "outputs": [],
   "source": [
    "list_of_tickers = keys(dataset) |> collect |> sort; # list of firm \"ticker\" symbols in alphabetical order"
   ]
  },
  {
   "cell_type": "markdown",
   "id": "4f554aed-3afc-4d8b-b902-a8f88ac95150",
   "metadata": {},
   "source": [
    "### Constants\n",
    "Finally, let's set some constants we'll use later in this notebook. The comments describe the constants, their units, and permissible values, etc."
   ]
  },
  {
   "cell_type": "code",
   "execution_count": 7,
   "id": "0bcc642b-e5e5-4188-bb63-9eddc59350b2",
   "metadata": {},
   "outputs": [],
   "source": [
    "TSIM = 42; # number of trading days to simulate\n",
    "Δt = (1.0/252.0); # step size: 1 trading day in units of years"
   ]
  },
  {
   "cell_type": "markdown",
   "id": "72c09619",
   "metadata": {},
   "source": [
    "___"
   ]
  },
  {
   "cell_type": "markdown",
   "id": "07824201-8993-4dfa-aeb5-7bedd874a6d2",
   "metadata": {
    "tags": []
   },
   "source": [
    "## Task 1: Estimate lattice parameters from historical data\n",
    "Now it's time to utilize historical data to compute a share price prediction. To create a binomial lattice model for future share prices, we must estimate three critical parameters: $p$, $u$, and $d$.\n",
    "\n",
    "> __Parameter Definitions__\n",
    ">\n",
    ">* The $p$ parameter represents the probability of a share price increase or an `up` move between two consecutive periods $j\\rightarrow{j+1}$. Since a binary lattice model only allows `up` and `down` moves, the probability of a `down` move is $1-p$.\n",
    ">* The $u$ parameter represents the magnitude of an `up` move. If $S_{j}$ denotes the share price in period $j$, and $S_{j+1}$ is the share price in the next period, then an `up` move results in $S_{j+1} = u\\cdot{S}_{j}$.\n",
    ">* The $d$ parameter represents the magnitude of a `down` move. If $S_{j}$ denotes the share price in period $j$, and $S_{j+1}$ is the share price in the next period, then a `down` move results in $S_{j+1} = d\\cdot{S}_{j}$.\n",
    "\n",
    "To start, let's select a firm from the dataset to explore."
   ]
  },
  {
   "cell_type": "code",
   "execution_count": 8,
   "id": "3d5cb68a-f29a-404a-9fad-76835711f664",
   "metadata": {},
   "outputs": [],
   "source": [
    "# random_firm_ticker = rand(list_of_tickers);\n",
    "random_firm_ticker = \"PG\" # TODO: You change this to any ticker in the list_of_tickers!\n",
    "random_firm_index = findfirst(x-> x == random_firm_ticker, list_of_tickers);\n",
    "random_firm_data = dataset[random_firm_ticker];"
   ]
  },
  {
   "cell_type": "markdown",
   "id": "37d04dad-363d-440f-9a2e-cb06aa47a5f1",
   "metadata": {},
   "source": [
    "### Estimate the u, d, and probability p parameters from the data\n",
    "Let's estimate the up $u$ and down $d$ factors and the probability $p$ from historical data.\n",
    "\n",
    "__Initialize__: Given the growth rate sequence $\\{\\mu_{2},\\mu_{3},\\dots,\\mu_{T}\\}$ for firm $(i)$ (we omit the superscript $i$ for simplicity) and a time step $\\Delta{t} > 0$ (units: years), initialize the up factors collection $U = \\emptyset$ and down factors collection $D = \\emptyset$.\n",
    "\n",
    "1. For $t = 2,3,\\dots,T$, __do__:\n",
    "    - If $\\mu_{t} > 0$, then update $U \\leftarrow U \\cup \\{e^{\\mu_{t}\\Delta{t}}\\}$, where $U$ is a collection of up factors.\n",
    "    - If $\\mu_{t} < 0$, then update $D \\leftarrow D \\cup \\{e^{\\mu_{t}\\Delta{t}}\\}$, where $D$ is a collection of down factors.\n",
    "    - If $\\mu_{t} = 0$, skip (no price change).\n",
    "2. Compute the up factor $u$ as the mean of the up factors collection $U$: $u = \\frac{1}{|U|} \\sum_{v \\in U} v$.\n",
    "3. Compute the down factor $d$ as the mean of the down factors collection $D$: $d = \\frac{1}{|D|} \\sum_{v \\in D} v$.\n",
    "4. Compute the probability $p$ as the fraction of up movements: $p = \\frac{|U|}{|U| + |D|}$.\n",
    "\n",
    "We use daily data; thus, the natural time frame between $S_{j-1}$ and $S_{j}$ is a single day. However, it is more convenient to use an annualized value for the $\\mu$ parameter; thus, we let $\\Delta{t} = 1/252$, i.e., the fraction of a year that corresponds to a single trading day.\n",
    "\n",
    "The [`log_growth_matrix(...)` method](https://varnerlab.github.io/VLQuantitativeFinancePackage.jl/dev/equity/#VLQuantitativeFinancePackage.log_growth_matrix) takes the cleaned dataset $\\mathcal{D}$, which contains $T$ days of data for each firm, a list of firms $\\mathcal{L}$, and computes the growth rate values for each firm as a function of time. \n",
    "\n",
    "The data is returned as a $(T - 1)\\times\\dim\\mathcal{L}$ array (time on the rows, firm $i$ on the columns). We store the data in the `log_growth_array::Array{Float64,1}` variable:"
   ]
  },
  {
   "cell_type": "code",
   "execution_count": 9,
   "id": "b7a3b8e5-6927-4469-a7c4-5e95a5d8c5dd",
   "metadata": {},
   "outputs": [],
   "source": [
    "log_growth_array = let\n",
    "\n",
    "    # initialize -\n",
    "    log_growth_array = nothing;\n",
    "\n",
    "    # TODO: call the log_growth_matrix(...) function here to compute the log growth array for the randomly selected firm\n",
    "    # TODO: the function takes two inputs: (1) the dataset dictionary, and (2) the randomly selected firm ticker symbol\n",
    "    # TODO: uncomment the line below and re-run this cell to compute the log growth array\n",
    "    log_growth_array = log_growth_matrix(dataset, random_firm_ticker); \n",
    "\n",
    "    log_growth_array; # return\n",
    "end;"
   ]
  },
  {
   "cell_type": "markdown",
   "id": "6526af85",
   "metadata": {},
   "source": [
    "### Visualize the log growth rate distribution\n",
    "Let's visualize the distribution of log growth rates for our randomly selected firm to understand the data before estimating the lattice parameters."
   ]
  },
  {
   "cell_type": "code",
   "execution_count": 10,
   "id": "859b5d3e",
   "metadata": {},
   "outputs": [
    {
     "data": {
      "image/png": "[encoded data removed]",
      "image/svg+xml": [
       "<?xml version=\"1.0\" encoding=\"utf-8\"?>\n",
       "<svg xmlns=\"http://www.w3.org/2000/svg\" xmlns:xlink=\"http://www.w3.org/1999/xlink\" width=\"600\" height=\"400\" viewBox=\"0 0 2400 1600\">\n",
       "<defs>\n",
       "  <clipPath id=\"clip260\">\n",
       "    <rect x=\"0\" y=\"0\" width=\"2400\" height=\"1600\"/>\n",
       "  </clipPath>\n",
       "</defs>\n",
       "<path clip-path=\"url(#clip260)\" d=\"M0 1600 L2400 1600 L2400 8.88178e-14 L0 8.88178e-14  Z\" fill=\"#ffffff\" fill-rule=\"evenodd\" fill-opacity=\"1\"/>\n",
       "<defs>\n",
       "  <clipPath id=\"clip261\">\n",
       "    <rect x=\"480\" y=\"0\" width=\"1681\" height=\"1600\"/>\n",
       "  </clipPath>\n",
       "</defs>\n",
       "<path clip-path=\"url(#clip260)\" d=\"M249.542 1423.18 L2352.76 1423.18 L2352.76 47.2441 L249.542 47.2441  Z\" fill=\"#f2f2f2\" fill-rule=\"evenodd\" fill-opacity=\"1\"/>\n",
       "<defs>\n",
       "  <clipPath id=\"clip262\">\n",
       "    <rect x=\"249\" y=\"47\" width=\"2104\" height=\"1377\"/>\n",
       "  </clipPath>\n",
       "</defs>\n",
       "<polyline clip-path=\"url(#clip262)\" style=\"stroke:#000000; stroke-linecap:round; stroke-linejoin:round; stroke-width:2; stroke-opacity:0.1; fill:none\" points=\"409.895,1423.18 409.895,47.2441 \"/>\n",
       "<polyline clip-path=\"url(#clip262)\" style=\"stroke:#000000; stroke-linecap:round; stroke-linejoin:round; stroke-width:2; stroke-opacity:0.1; fill:none\" points=\"890.754,1423.18 890.754,47.2441 \"/>\n",
       "<polyline clip-path=\"url(#clip262)\" style=\"stroke:#000000; stroke-linecap:round; stroke-linejoin:round; stroke-width:2; stroke-opacity:0.1; fill:none\" points=\"1371.61,1423.18 1371.61,47.2441 \"/>\n",
       "<polyline clip-path=\"url(#clip262)\" style=\"stroke:#000000; stroke-linecap:round; stroke-linejoin:round; stroke-width:2; stroke-opacity:0.1; fill:none\" points=\"1852.47,1423.18 1852.47,47.2441 \"/>\n",
       "<polyline clip-path=\"url(#clip262)\" style=\"stroke:#000000; stroke-linecap:round; stroke-linejoin:round; stroke-width:2; stroke-opacity:0.1; fill:none\" points=\"2333.33,1423.18 2333.33,47.2441 \"/>\n",
       "<polyline clip-path=\"url(#clip262)\" style=\"stroke:#000000; stroke-linecap:round; stroke-linejoin:round; stroke-width:2; stroke-opacity:0.1; fill:none\" points=\"409.895,1423.18 409.895,47.2441 \"/>\n",
       "<polyline clip-path=\"url(#clip262)\" style=\"stroke:#000000; stroke-linecap:round; stroke-linejoin:round; stroke-width:2; stroke-opacity:0.1; fill:none\" points=\"890.754,1423.18 890.754,47.2441 \"/>\n",
       "<polyline clip-path=\"url(#clip262)\" style=\"stroke:#000000; stroke-linecap:round; stroke-linejoin:round; stroke-width:2; stroke-opacity:0.1; fill:none\" points=\"1371.61,1423.18 1371.61,47.2441 \"/>\n",
       "<polyline clip-path=\"url(#clip262)\" style=\"stroke:#000000; stroke-linecap:round; stroke-linejoin:round; stroke-width:2; stroke-opacity:0.1; fill:none\" points=\"1852.47,1423.18 1852.47,47.2441 \"/>\n",
       "<polyline clip-path=\"url(#clip262)\" style=\"stroke:#000000; stroke-linecap:round; stroke-linejoin:round; stroke-width:2; stroke-opacity:0.1; fill:none\" points=\"2333.33,1423.18 2333.33,47.2441 \"/>\n",
       "<polyline clip-path=\"url(#clip262)\" style=\"stroke:#000000; stroke-linecap:round; stroke-linejoin:round; stroke-width:2; stroke-opacity:0.1; fill:none\" points=\"249.542,1384.24 2352.76,1384.24 \"/>\n",
       "<polyline clip-path=\"url(#clip262)\" style=\"stroke:#000000; stroke-linecap:round; stroke-linejoin:round; stroke-width:2; stroke-opacity:0.1; fill:none\" points=\"249.542,1098.36 2352.76,1098.36 \"/>\n",
       "<polyline clip-path=\"url(#clip262)\" style=\"stroke:#000000; stroke-linecap:round; stroke-linejoin:round; stroke-width:2; stroke-opacity:0.1; fill:none\" points=\"249.542,812.481 2352.76,812.481 \"/>\n",
       "<polyline clip-path=\"url(#clip262)\" style=\"stroke:#000000; stroke-linecap:round; stroke-linejoin:round; stroke-width:2; stroke-opacity:0.1; fill:none\" points=\"249.542,526.602 2352.76,526.602 \"/>\n",
       "<polyline clip-path=\"url(#clip262)\" style=\"stroke:#000000; stroke-linecap:round; stroke-linejoin:round; stroke-width:2; stroke-opacity:0.1; fill:none\" points=\"249.542,240.723 2352.76,240.723 \"/>\n",
       "<polyline clip-path=\"url(#clip262)\" style=\"stroke:#000000; stroke-linecap:round; stroke-linejoin:round; stroke-width:2; stroke-opacity:0.1; fill:none\" points=\"249.542,1384.24 2352.76,1384.24 \"/>\n",
       "<polyline clip-path=\"url(#clip262)\" style=\"stroke:#000000; stroke-linecap:round; stroke-linejoin:round; stroke-width:2; stroke-opacity:0.1; fill:none\" points=\"249.542,1098.36 2352.76,1098.36 \"/>\n",
       "<polyline clip-path=\"url(#clip262)\" style=\"stroke:#000000; stroke-linecap:round; stroke-linejoin:round; stroke-width:2; stroke-opacity:0.1; fill:none\" points=\"249.542,812.481 2352.76,812.481 \"/>\n",
       "<polyline clip-path=\"url(#clip262)\" style=\"stroke:#000000; stroke-linecap:round; stroke-linejoin:round; stroke-width:2; stroke-opacity:0.1; fill:none\" points=\"249.542,526.602 2352.76,526.602 \"/>\n",
       "<polyline clip-path=\"url(#clip262)\" style=\"stroke:#000000; stroke-linecap:round; stroke-linejoin:round; stroke-width:2; stroke-opacity:0.1; fill:none\" points=\"249.542,240.723 2352.76,240.723 \"/>\n",
       "<polyline clip-path=\"url(#clip260)\" style=\"stroke:#000000; stroke-linecap:round; stroke-linejoin:round; stroke-width:4; stroke-opacity:1; fill:none\" points=\"249.542,1423.18 2352.76,1423.18 \"/>\n",
       "<polyline clip-path=\"url(#clip260)\" style=\"stroke:#000000; stroke-linecap:round; stroke-linejoin:round; stroke-width:4; stroke-opacity:1; fill:none\" points=\"249.542,47.2441 2352.76,47.2441 \"/>\n",
       "<polyline clip-path=\"url(#clip260)\" style=\"stroke:#000000; stroke-linecap:round; stroke-linejoin:round; stroke-width:4; stroke-opacity:1; fill:none\" points=\"409.895,1423.18 409.895,1404.28 \"/>\n",
       "<polyline clip-path=\"url(#clip260)\" style=\"stroke:#000000; stroke-linecap:round; stroke-linejoin:round; stroke-width:4; stroke-opacity:1; fill:none\" points=\"890.754,1423.18 890.754,1404.28 \"/>\n",
       "<polyline clip-path=\"url(#clip260)\" style=\"stroke:#000000; stroke-linecap:round; stroke-linejoin:round; stroke-width:4; stroke-opacity:1; fill:none\" points=\"1371.61,1423.18 1371.61,1404.28 \"/>\n",
       "<polyline clip-path=\"url(#clip260)\" style=\"stroke:#000000; stroke-linecap:round; stroke-linejoin:round; stroke-width:4; stroke-opacity:1; fill:none\" points=\"1852.47,1423.18 1852.47,1404.28 \"/>\n",
       "<polyline clip-path=\"url(#clip260)\" style=\"stroke:#000000; stroke-linecap:round; stroke-linejoin:round; stroke-width:4; stroke-opacity:1; fill:none\" points=\"2333.33,1423.18 2333.33,1404.28 \"/>\n",
       "<polyline clip-path=\"url(#clip260)\" style=\"stroke:#000000; stroke-linecap:round; stroke-linejoin:round; stroke-width:4; stroke-opacity:1; fill:none\" points=\"409.895,47.2441 409.895,66.1417 \"/>\n",
       "<polyline clip-path=\"url(#clip260)\" style=\"stroke:#000000; stroke-linecap:round; stroke-linejoin:round; stroke-width:4; stroke-opacity:1; fill:none\" points=\"890.754,47.2441 890.754,66.1417 \"/>\n",
       "<polyline clip-path=\"url(#clip260)\" style=\"stroke:#000000; stroke-linecap:round; stroke-linejoin:round; stroke-width:4; stroke-opacity:1; fill:none\" points=\"1371.61,47.2441 1371.61,66.1417 \"/>\n",
       "<polyline clip-path=\"url(#clip260)\" style=\"stroke:#000000; stroke-linecap:round; stroke-linejoin:round; stroke-width:4; stroke-opacity:1; fill:none\" points=\"1852.47,47.2441 1852.47,66.1417 \"/>\n",
       "<polyline clip-path=\"url(#clip260)\" style=\"stroke:#000000; stroke-linecap:round; stroke-linejoin:round; stroke-width:4; stroke-opacity:1; fill:none\" points=\"2333.33,47.2441 2333.33,66.1417 \"/>\n",
       "<path clip-path=\"url(#clip260)\" d=\"M363.958 1468.75 L393.633 1468.75 L393.633 1472.69 L363.958 1472.69 L363.958 1468.75 Z\" fill=\"#000000\" fill-rule=\"nonzero\" fill-opacity=\"1\" /><path clip-path=\"url(#clip260)\" d=\"M407.754 1481.64 L424.073 1481.64 L424.073 1485.58 L402.129 1485.58 L402.129 1481.64 Q404.791 1478.89 409.374 1474.26 Q413.98 1469.61 415.161 1468.27 Q417.406 1465.74 418.286 1464.01 Q419.189 1462.25 419.189 1460.56 Q419.189 1457.8 417.244 1456.07 Q415.323 1454.33 412.221 1454.33 Q410.022 1454.33 407.568 1455.09 Q405.138 1455.86 402.36 1457.41 L402.36 1452.69 Q405.184 1451.55 407.638 1450.97 Q410.092 1450.39 412.129 1450.39 Q417.499 1450.39 420.693 1453.08 Q423.888 1455.77 423.888 1460.26 Q423.888 1462.39 423.078 1464.31 Q422.291 1466.2 420.184 1468.8 Q419.605 1469.47 416.504 1472.69 Q413.402 1475.88 407.754 1481.64 Z\" fill=\"#000000\" fill-rule=\"nonzero\" fill-opacity=\"1\" /><path clip-path=\"url(#clip260)\" d=\"M443.888 1454.1 Q440.277 1454.1 438.448 1457.66 Q436.642 1461.2 436.642 1468.33 Q436.642 1475.44 438.448 1479.01 Q440.277 1482.55 443.888 1482.55 Q447.522 1482.55 449.328 1479.01 Q451.156 1475.44 451.156 1468.33 Q451.156 1461.2 449.328 1457.66 Q447.522 1454.1 443.888 1454.1 M443.888 1450.39 Q449.698 1450.39 452.753 1455 Q455.832 1459.58 455.832 1468.33 Q455.832 1477.06 452.753 1481.67 Q449.698 1486.25 443.888 1486.25 Q438.078 1486.25 434.999 1481.67 Q431.943 1477.06 431.943 1468.33 Q431.943 1459.58 434.999 1455 Q438.078 1450.39 443.888 1450.39 Z\" fill=\"#000000\" fill-rule=\"nonzero\" fill-opacity=\"1\" /><path clip-path=\"url(#clip260)\" d=\"M844.817 1468.75 L874.493 1468.75 L874.493 1472.69 L844.817 1472.69 L844.817 1468.75 Z\" fill=\"#000000\" fill-rule=\"nonzero\" fill-opacity=\"1\" /><path clip-path=\"url(#clip260)\" d=\"M885.395 1481.64 L893.034 1481.64 L893.034 1455.28 L884.724 1456.95 L884.724 1452.69 L892.988 1451.02 L897.664 1451.02 L897.664 1481.64 L905.303 1481.64 L905.303 1485.58 L885.395 1485.58 L885.395 1481.64 Z\" fill=\"#000000\" fill-rule=\"nonzero\" fill-opacity=\"1\" /><path clip-path=\"url(#clip260)\" d=\"M924.747 1454.1 Q921.136 1454.1 919.307 1457.66 Q917.502 1461.2 917.502 1468.33 Q917.502 1475.44 919.307 1479.01 Q921.136 1482.55 924.747 1482.55 Q928.381 1482.55 930.187 1479.01 Q932.015 1475.44 932.015 1468.33 Q932.015 1461.2 930.187 1457.66 Q928.381 1454.1 924.747 1454.1 M924.747 1450.39 Q930.557 1450.39 933.613 1455 Q936.691 1459.58 936.691 1468.33 Q936.691 1477.06 933.613 1481.67 Q930.557 1486.25 924.747 1486.25 Q918.937 1486.25 915.858 1481.67 Q912.803 1477.06 912.803 1468.33 Q912.803 1459.58 915.858 1455 Q918.937 1450.39 924.747 1450.39 Z\" fill=\"#000000\" fill-rule=\"nonzero\" fill-opacity=\"1\" /><path clip-path=\"url(#clip260)\" d=\"M1371.61 1454.1 Q1368 1454.1 1366.17 1457.66 Q1364.37 1461.2 1364.37 1468.33 Q1364.37 1475.44 1366.17 1479.01 Q1368 1482.55 1371.61 1482.55 Q1375.25 1482.55 1377.05 1479.01 Q1378.88 1475.44 1378.88 1468.33 Q1378.88 1461.2 1377.05 1457.66 Q1375.25 1454.1 1371.61 1454.1 M1371.61 1450.39 Q1377.42 1450.39 1380.48 1455 Q1383.56 1459.58 1383.56 1468.33 Q1383.56 1477.06 1380.48 1481.67 Q1377.42 1486.25 1371.61 1486.25 Q1365.8 1486.25 1362.72 1481.67 Q1359.67 1477.06 1359.67 1468.33 Q1359.67 1459.58 1362.72 1455 Q1365.8 1450.39 1371.61 1450.39 Z\" fill=\"#000000\" fill-rule=\"nonzero\" fill-opacity=\"1\" /><path clip-path=\"url(#clip260)\" d=\"M1827.16 1481.64 L1834.8 1481.64 L1834.8 1455.28 L1826.49 1456.95 L1826.49 1452.69 L1834.75 1451.02 L1839.43 1451.02 L1839.43 1481.64 L1847.07 1481.64 L1847.07 1485.58 L1827.16 1485.58 L1827.16 1481.64 Z\" fill=\"#000000\" fill-rule=\"nonzero\" fill-opacity=\"1\" /><path clip-path=\"url(#clip260)\" d=\"M1866.51 1454.1 Q1862.9 1454.1 1861.07 1457.66 Q1859.27 1461.2 1859.27 1468.33 Q1859.27 1475.44 1861.07 1479.01 Q1862.9 1482.55 1866.51 1482.55 Q1870.15 1482.55 1871.95 1479.01 Q1873.78 1475.44 1873.78 1468.33 Q1873.78 1461.2 1871.95 1457.66 Q1870.15 1454.1 1866.51 1454.1 M1866.51 1450.39 Q1872.32 1450.39 1875.38 1455 Q1878.46 1459.58 1878.46 1468.33 Q1878.46 1477.06 1875.38 1481.67 Q1872.32 1486.25 1866.51 1486.25 Q1860.7 1486.25 1857.62 1481.67 Q1854.57 1477.06 1854.57 1468.33 Q1854.57 1459.58 1857.62 1455 Q1860.7 1450.39 1866.51 1450.39 Z\" fill=\"#000000\" fill-rule=\"nonzero\" fill-opacity=\"1\" /><path clip-path=\"url(#clip260)\" d=\"M2312.1 1481.64 L2328.42 1481.64 L2328.42 1485.58 L2306.48 1485.58 L2306.48 1481.64 Q2309.14 1478.89 2313.73 1474.26 Q2318.33 1469.61 2319.51 1468.27 Q2321.76 1465.74 2322.64 1464.01 Q2323.54 1462.25 2323.54 1460.56 Q2323.54 1457.8 2321.6 1456.07 Q2319.67 1454.33 2316.57 1454.33 Q2314.37 1454.33 2311.92 1455.09 Q2309.49 1455.86 2306.71 1457.41 L2306.71 1452.69 Q2309.54 1451.55 2311.99 1450.97 Q2314.44 1450.39 2316.48 1450.39 Q2321.85 1450.39 2325.04 1453.08 Q2328.24 1455.77 2328.24 1460.26 Q2328.24 1462.39 2327.43 1464.31 Q2326.64 1466.2 2324.54 1468.8 Q2323.96 1469.47 2320.85 1472.69 Q2317.75 1475.88 2312.1 1481.64 Z\" fill=\"#000000\" fill-rule=\"nonzero\" fill-opacity=\"1\" /><path clip-path=\"url(#clip260)\" d=\"M2348.24 1454.1 Q2344.63 1454.1 2342.8 1457.66 Q2340.99 1461.2 2340.99 1468.33 Q2340.99 1475.44 2342.8 1479.01 Q2344.63 1482.55 2348.24 1482.55 Q2351.87 1482.55 2353.68 1479.01 Q2355.51 1475.44 2355.51 1468.33 Q2355.51 1461.2 2353.68 1457.66 Q2351.87 1454.1 2348.24 1454.1 M2348.24 1450.39 Q2354.05 1450.39 2357.1 1455 Q2360.18 1459.58 2360.18 1468.33 Q2360.18 1477.06 2357.1 1481.67 Q2354.05 1486.25 2348.24 1486.25 Q2342.43 1486.25 2339.35 1481.67 Q2336.29 1477.06 2336.29 1468.33 Q2336.29 1459.58 2339.35 1455 Q2342.43 1450.39 2348.24 1450.39 Z\" fill=\"#000000\" fill-rule=\"nonzero\" fill-opacity=\"1\" /><path clip-path=\"url(#clip260)\" d=\"M878.307 1520.52 L884.736 1520.52 L884.736 1562.63 L907.876 1562.63 L907.876 1568.04 L878.307 1568.04 L878.307 1520.52 Z\" fill=\"#000000\" fill-rule=\"nonzero\" fill-opacity=\"1\" /><path clip-path=\"url(#clip260)\" d=\"M927.036 1536.5 Q922.326 1536.5 919.589 1540.19 Q916.851 1543.85 916.851 1550.25 Q916.851 1556.65 919.557 1560.34 Q922.294 1564 927.036 1564 Q931.715 1564 934.452 1560.31 Q937.19 1556.62 937.19 1550.25 Q937.19 1543.92 934.452 1540.23 Q931.715 1536.5 927.036 1536.5 M927.036 1531.54 Q934.675 1531.54 939.036 1536.5 Q943.396 1541.47 943.396 1550.25 Q943.396 1559 939.036 1564 Q934.675 1568.97 927.036 1568.97 Q919.366 1568.97 915.005 1564 Q910.677 1559 910.677 1550.25 Q910.677 1541.47 915.005 1536.5 Q919.366 1531.54 927.036 1531.54 Z\" fill=\"#000000\" fill-rule=\"nonzero\" fill-opacity=\"1\" /><path clip-path=\"url(#clip260)\" d=\"M976.562 1549.81 Q976.562 1543.44 973.92 1539.94 Q971.31 1536.44 966.567 1536.44 Q961.857 1536.44 959.215 1539.94 Q956.605 1543.44 956.605 1549.81 Q956.605 1556.14 959.215 1559.64 Q961.857 1563.14 966.567 1563.14 Q971.31 1563.14 973.92 1559.64 Q976.562 1556.14 976.562 1549.81 M982.418 1563.62 Q982.418 1572.72 978.376 1577.15 Q974.334 1581.6 965.995 1581.6 Q962.907 1581.6 960.17 1581.13 Q957.433 1580.68 954.855 1579.72 L954.855 1574.03 Q957.433 1575.43 959.947 1576.1 Q962.462 1576.76 965.071 1576.76 Q970.832 1576.76 973.697 1573.74 Q976.562 1570.75 976.562 1564.67 L976.562 1561.77 Q974.747 1564.92 971.915 1566.48 Q969.082 1568.04 965.135 1568.04 Q958.578 1568.04 954.568 1563.05 Q950.558 1558.05 950.558 1549.81 Q950.558 1541.53 954.568 1536.53 Q958.578 1531.54 965.135 1531.54 Q969.082 1531.54 971.915 1533.1 Q974.747 1534.66 976.562 1537.81 L976.562 1532.4 L982.418 1532.4 L982.418 1563.62 Z\" fill=\"#000000\" fill-rule=\"nonzero\" fill-opacity=\"1\" /><path clip-path=\"url(#clip260)\" d=\"M1047.86 1561.26 L1047.86 1548.5 L1037.35 1548.5 L1037.35 1543.22 L1054.22 1543.22 L1054.22 1563.62 Q1050.5 1566.26 1046.01 1567.63 Q1041.52 1568.97 1036.43 1568.97 Q1025.29 1568.97 1018.99 1562.47 Q1012.72 1555.95 1012.72 1544.33 Q1012.72 1532.68 1018.99 1526.19 Q1025.29 1519.66 1036.43 1519.66 Q1041.08 1519.66 1045.25 1520.81 Q1049.45 1521.96 1052.98 1524.18 L1052.98 1531.03 Q1049.42 1528 1045.41 1526.48 Q1041.4 1524.95 1036.97 1524.95 Q1028.25 1524.95 1023.86 1529.82 Q1019.5 1534.69 1019.5 1544.33 Q1019.5 1553.94 1023.86 1558.81 Q1028.25 1563.68 1036.97 1563.68 Q1040.38 1563.68 1043.05 1563.11 Q1045.72 1562.51 1047.86 1561.26 Z\" fill=\"#000000\" fill-rule=\"nonzero\" fill-opacity=\"1\" /><path clip-path=\"url(#clip260)\" d=\"M1086.37 1537.87 Q1085.38 1537.3 1084.21 1537.04 Q1083.06 1536.76 1081.66 1536.76 Q1076.69 1536.76 1074.02 1540 Q1071.38 1543.22 1071.38 1549.27 L1071.38 1568.04 L1065.49 1568.04 L1065.49 1532.4 L1071.38 1532.4 L1071.38 1537.93 Q1073.22 1534.69 1076.18 1533.13 Q1079.14 1531.54 1083.38 1531.54 Q1083.98 1531.54 1084.71 1531.63 Q1085.45 1531.7 1086.34 1531.85 L1086.37 1537.87 Z\" fill=\"#000000\" fill-rule=\"nonzero\" fill-opacity=\"1\" /><path clip-path=\"url(#clip260)\" d=\"M1104.89 1536.5 Q1100.18 1536.5 1097.45 1540.19 Q1094.71 1543.85 1094.71 1550.25 Q1094.71 1556.65 1097.41 1560.34 Q1100.15 1564 1104.89 1564 Q1109.57 1564 1112.31 1560.31 Q1115.05 1556.62 1115.05 1550.25 Q1115.05 1543.92 1112.31 1540.23 Q1109.57 1536.5 1104.89 1536.5 M1104.89 1531.54 Q1112.53 1531.54 1116.89 1536.5 Q1121.25 1541.47 1121.25 1550.25 Q1121.25 1559 1116.89 1564 Q1112.53 1568.97 1104.89 1568.97 Q1097.22 1568.97 1092.86 1564 Q1088.53 1559 1088.53 1550.25 Q1088.53 1541.47 1092.86 1536.5 Q1097.22 1531.54 1104.89 1531.54 Z\" fill=\"#000000\" fill-rule=\"nonzero\" fill-opacity=\"1\" /><path clip-path=\"url(#clip260)\" d=\"M1127.56 1532.4 L1133.41 1532.4 L1140.73 1560.21 L1148.02 1532.4 L1154.93 1532.4 L1162.25 1560.21 L1169.54 1532.4 L1175.39 1532.4 L1166.07 1568.04 L1159.16 1568.04 L1151.49 1538.83 L1143.79 1568.04 L1136.88 1568.04 L1127.56 1532.4 Z\" fill=\"#000000\" fill-rule=\"nonzero\" fill-opacity=\"1\" /><path clip-path=\"url(#clip260)\" d=\"M1190.07 1522.27 L1190.07 1532.4 L1202.13 1532.4 L1202.13 1536.95 L1190.07 1536.95 L1190.07 1556.3 Q1190.07 1560.66 1191.25 1561.9 Q1192.45 1563.14 1196.11 1563.14 L1202.13 1563.14 L1202.13 1568.04 L1196.11 1568.04 Q1189.34 1568.04 1186.76 1565.53 Q1184.18 1562.98 1184.18 1556.3 L1184.18 1536.95 L1179.88 1536.95 L1179.88 1532.4 L1184.18 1532.4 L1184.18 1522.27 L1190.07 1522.27 Z\" fill=\"#000000\" fill-rule=\"nonzero\" fill-opacity=\"1\" /><path clip-path=\"url(#clip260)\" d=\"M1239.47 1546.53 L1239.47 1568.04 L1233.61 1568.04 L1233.61 1546.72 Q1233.61 1541.66 1231.64 1539.14 Q1229.66 1536.63 1225.72 1536.63 Q1220.97 1536.63 1218.24 1539.65 Q1215.5 1542.68 1215.5 1547.9 L1215.5 1568.04 L1209.61 1568.04 L1209.61 1518.52 L1215.5 1518.52 L1215.5 1537.93 Q1217.6 1534.72 1220.43 1533.13 Q1223.3 1531.54 1227.02 1531.54 Q1233.16 1531.54 1236.31 1535.36 Q1239.47 1539.14 1239.47 1546.53 Z\" fill=\"#000000\" fill-rule=\"nonzero\" fill-opacity=\"1\" /><path clip-path=\"url(#clip260)\" d=\"M1294.66 1545.76 Q1296.72 1546.46 1298.67 1548.76 Q1300.64 1551.05 1302.61 1555.06 L1309.14 1568.04 L1302.23 1568.04 L1296.15 1555.85 Q1293.8 1551.08 1291.57 1549.52 Q1289.37 1547.96 1285.55 1547.96 L1278.55 1547.96 L1278.55 1568.04 L1272.12 1568.04 L1272.12 1520.52 L1286.64 1520.52 Q1294.78 1520.52 1298.79 1523.93 Q1302.8 1527.34 1302.8 1534.21 Q1302.8 1538.7 1300.7 1541.66 Q1298.63 1544.62 1294.66 1545.76 M1278.55 1525.81 L1278.55 1542.68 L1286.64 1542.68 Q1291.28 1542.68 1293.64 1540.54 Q1296.02 1538.38 1296.02 1534.21 Q1296.02 1530.04 1293.64 1527.94 Q1291.28 1525.81 1286.64 1525.81 L1278.55 1525.81 Z\" fill=\"#000000\" fill-rule=\"nonzero\" fill-opacity=\"1\" /><path clip-path=\"url(#clip260)\" d=\"M1331.93 1550.12 Q1324.83 1550.12 1322.09 1551.75 Q1319.35 1553.37 1319.35 1557.29 Q1319.35 1560.4 1321.39 1562.25 Q1323.46 1564.07 1326.99 1564.07 Q1331.86 1564.07 1334.79 1560.63 Q1337.75 1557.16 1337.75 1551.43 L1337.75 1550.12 L1331.93 1550.12 M1343.61 1547.71 L1343.61 1568.04 L1337.75 1568.04 L1337.75 1562.63 Q1335.75 1565.88 1332.75 1567.44 Q1329.76 1568.97 1325.43 1568.97 Q1319.96 1568.97 1316.71 1565.91 Q1313.5 1562.82 1313.5 1557.67 Q1313.5 1551.65 1317.51 1548.6 Q1321.55 1545.54 1329.54 1545.54 L1337.75 1545.54 L1337.75 1544.97 Q1337.75 1540.93 1335.08 1538.73 Q1332.44 1536.5 1327.63 1536.5 Q1324.57 1536.5 1321.68 1537.23 Q1318.78 1537.97 1316.11 1539.43 L1316.11 1534.02 Q1319.32 1532.78 1322.35 1532.17 Q1325.37 1531.54 1328.24 1531.54 Q1335.97 1531.54 1339.79 1535.55 Q1343.61 1539.56 1343.61 1547.71 Z\" fill=\"#000000\" fill-rule=\"nonzero\" fill-opacity=\"1\" /><path clip-path=\"url(#clip260)\" d=\"M1361.46 1522.27 L1361.46 1532.4 L1373.53 1532.4 L1373.53 1536.95 L1361.46 1536.95 L1361.46 1556.3 Q1361.46 1560.66 1362.64 1561.9 Q1363.85 1563.14 1367.51 1563.14 L1373.53 1563.14 L1373.53 1568.04 L1367.51 1568.04 Q1360.73 1568.04 1358.15 1565.53 Q1355.58 1562.98 1355.58 1556.3 L1355.58 1536.95 L1351.28 1536.95 L1351.28 1532.4 L1355.58 1532.4 L1355.58 1522.27 L1361.46 1522.27 Z\" fill=\"#000000\" fill-rule=\"nonzero\" fill-opacity=\"1\" /><path clip-path=\"url(#clip260)\" d=\"M1411.72 1548.76 L1411.72 1551.62 L1384.79 1551.62 Q1385.18 1557.67 1388.42 1560.85 Q1391.7 1564 1397.53 1564 Q1400.9 1564 1404.05 1563.17 Q1407.23 1562.35 1410.35 1560.69 L1410.35 1566.23 Q1407.2 1567.57 1403.89 1568.27 Q1400.58 1568.97 1397.18 1568.97 Q1388.65 1568.97 1383.65 1564 Q1378.68 1559.04 1378.68 1550.57 Q1378.68 1541.82 1383.39 1536.69 Q1388.14 1531.54 1396.16 1531.54 Q1403.35 1531.54 1407.52 1536.18 Q1411.72 1540.8 1411.72 1548.76 M1405.86 1547.04 Q1405.8 1542.23 1403.16 1539.37 Q1400.55 1536.5 1396.22 1536.5 Q1391.32 1536.5 1388.36 1539.27 Q1385.43 1542.04 1384.99 1547.07 L1405.86 1547.04 Z\" fill=\"#000000\" fill-rule=\"nonzero\" fill-opacity=\"1\" /><path clip-path=\"url(#clip260)\" d=\"M1456.12 1518.58 Q1451.86 1525.9 1449.79 1533.06 Q1447.72 1540.23 1447.72 1547.58 Q1447.72 1554.93 1449.79 1562.16 Q1451.89 1569.35 1456.12 1576.64 L1451.03 1576.64 Q1446.26 1569.16 1443.87 1561.93 Q1441.51 1554.71 1441.51 1547.58 Q1441.51 1540.48 1443.87 1533.29 Q1446.22 1526.09 1451.03 1518.58 L1456.12 1518.58 Z\" fill=\"#000000\" fill-rule=\"nonzero\" fill-opacity=\"1\" /><path clip-path=\"url(#clip260)\" d=\"M1469.43 1562.63 L1479.93 1562.63 L1479.93 1526.38 L1468.5 1528.67 L1468.5 1522.82 L1479.87 1520.52 L1486.3 1520.52 L1486.3 1562.63 L1496.8 1562.63 L1496.8 1568.04 L1469.43 1568.04 L1469.43 1562.63 Z\" fill=\"#000000\" fill-rule=\"nonzero\" fill-opacity=\"1\" /><path clip-path=\"url(#clip260)\" d=\"M1519.37 1520.52 L1524.78 1520.52 L1508.23 1574.09 L1502.81 1574.09 L1519.37 1520.52 Z\" fill=\"#000000\" fill-rule=\"nonzero\" fill-opacity=\"1\" /><path clip-path=\"url(#clip260)\" d=\"M1545.75 1571.35 Q1543.27 1577.72 1540.91 1579.66 Q1538.56 1581.6 1534.61 1581.6 L1529.93 1581.6 L1529.93 1576.7 L1533.37 1576.7 Q1535.79 1576.7 1537.13 1575.56 Q1538.46 1574.41 1540.09 1570.14 L1541.14 1567.47 L1526.72 1532.4 L1532.92 1532.4 L1544.06 1560.28 L1555.2 1532.4 L1561.41 1532.4 L1545.75 1571.35 Z\" fill=\"#000000\" fill-rule=\"nonzero\" fill-opacity=\"1\" /><path clip-path=\"url(#clip260)\" d=\"M1599.99 1548.76 L1599.99 1551.62 L1573.06 1551.62 Q1573.44 1557.67 1576.69 1560.85 Q1579.97 1564 1585.79 1564 Q1589.17 1564 1592.32 1563.17 Q1595.5 1562.35 1598.62 1560.69 L1598.62 1566.23 Q1595.47 1567.57 1592.16 1568.27 Q1588.85 1568.97 1585.44 1568.97 Q1576.91 1568.97 1571.91 1564 Q1566.95 1559.04 1566.95 1550.57 Q1566.95 1541.82 1571.66 1536.69 Q1576.4 1531.54 1584.42 1531.54 Q1591.62 1531.54 1595.79 1536.18 Q1599.99 1540.8 1599.99 1548.76 M1594.13 1547.04 Q1594.07 1542.23 1591.43 1539.37 Q1588.82 1536.5 1584.49 1536.5 Q1579.58 1536.5 1576.62 1539.27 Q1573.7 1542.04 1573.25 1547.07 L1594.13 1547.04 Z\" fill=\"#000000\" fill-rule=\"nonzero\" fill-opacity=\"1\" /><path clip-path=\"url(#clip260)\" d=\"M1625.8 1550.12 Q1618.7 1550.12 1615.96 1551.75 Q1613.23 1553.37 1613.23 1557.29 Q1613.23 1560.4 1615.26 1562.25 Q1617.33 1564.07 1620.87 1564.07 Q1625.74 1564.07 1628.66 1560.63 Q1631.62 1557.16 1631.62 1551.43 L1631.62 1550.12 L1625.8 1550.12 M1637.48 1547.71 L1637.48 1568.04 L1631.62 1568.04 L1631.62 1562.63 Q1629.62 1565.88 1626.63 1567.44 Q1623.64 1568.97 1619.31 1568.97 Q1613.83 1568.97 1610.59 1565.91 Q1607.37 1562.82 1607.37 1557.67 Q1607.37 1551.65 1611.38 1548.6 Q1615.42 1545.54 1623.41 1545.54 L1631.62 1545.54 L1631.62 1544.97 Q1631.62 1540.93 1628.95 1538.73 Q1626.31 1536.5 1621.5 1536.5 Q1618.45 1536.5 1615.55 1537.23 Q1612.65 1537.97 1609.98 1539.43 L1609.98 1534.02 Q1613.2 1532.78 1616.22 1532.17 Q1619.24 1531.54 1622.11 1531.54 Q1629.84 1531.54 1633.66 1535.55 Q1637.48 1539.56 1637.48 1547.71 Z\" fill=\"#000000\" fill-rule=\"nonzero\" fill-opacity=\"1\" /><path clip-path=\"url(#clip260)\" d=\"M1670.2 1537.87 Q1669.21 1537.3 1668.04 1537.04 Q1666.89 1536.76 1665.49 1536.76 Q1660.52 1536.76 1657.85 1540 Q1655.21 1543.22 1655.21 1549.27 L1655.21 1568.04 L1649.32 1568.04 L1649.32 1532.4 L1655.21 1532.4 L1655.21 1537.93 Q1657.06 1534.69 1660.02 1533.13 Q1662.98 1531.54 1667.21 1531.54 Q1667.81 1531.54 1668.55 1531.63 Q1669.28 1531.7 1670.17 1531.85 L1670.2 1537.87 Z\" fill=\"#000000\" fill-rule=\"nonzero\" fill-opacity=\"1\" /><path clip-path=\"url(#clip260)\" d=\"M1699.07 1533.45 L1699.07 1538.98 Q1696.59 1537.71 1693.91 1537.07 Q1691.24 1536.44 1688.37 1536.44 Q1684.01 1536.44 1681.82 1537.77 Q1679.65 1539.11 1679.65 1541.79 Q1679.65 1543.82 1681.21 1545 Q1682.77 1546.15 1687.48 1547.2 L1689.49 1547.64 Q1695.73 1548.98 1698.34 1551.43 Q1700.98 1553.85 1700.98 1558.21 Q1700.98 1563.17 1697.03 1566.07 Q1693.12 1568.97 1686.24 1568.97 Q1683.38 1568.97 1680.26 1568.39 Q1677.17 1567.85 1673.73 1566.74 L1673.73 1560.69 Q1676.98 1562.38 1680.13 1563.24 Q1683.28 1564.07 1686.37 1564.07 Q1690.51 1564.07 1692.74 1562.66 Q1694.96 1561.23 1694.96 1558.65 Q1694.96 1556.27 1693.34 1554.99 Q1691.75 1553.72 1686.31 1552.54 L1684.27 1552.07 Q1678.83 1550.92 1676.41 1548.56 Q1673.99 1546.18 1673.99 1542.04 Q1673.99 1537.01 1677.55 1534.27 Q1681.12 1531.54 1687.67 1531.54 Q1690.92 1531.54 1693.79 1532.01 Q1696.65 1532.49 1699.07 1533.45 Z\" fill=\"#000000\" fill-rule=\"nonzero\" fill-opacity=\"1\" /><path clip-path=\"url(#clip260)\" d=\"M1709.38 1518.58 L1714.47 1518.58 Q1719.25 1526.09 1721.6 1533.29 Q1723.99 1540.48 1723.99 1547.58 Q1723.99 1554.71 1721.6 1561.93 Q1719.25 1569.16 1714.47 1576.64 L1709.38 1576.64 Q1713.61 1569.35 1715.68 1562.16 Q1717.78 1554.93 1717.78 1547.58 Q1717.78 1540.23 1715.68 1533.06 Q1713.61 1525.9 1709.38 1518.58 Z\" fill=\"#000000\" fill-rule=\"nonzero\" fill-opacity=\"1\" /><polyline clip-path=\"url(#clip260)\" style=\"stroke:#000000; stroke-linecap:round; stroke-linejoin:round; stroke-width:4; stroke-opacity:1; fill:none\" points=\"249.542,1423.18 249.542,47.2441 \"/>\n",
       "<polyline clip-path=\"url(#clip260)\" style=\"stroke:#000000; stroke-linecap:round; stroke-linejoin:round; stroke-width:4; stroke-opacity:1; fill:none\" points=\"2352.76,1423.18 2352.76,47.2441 \"/>\n",
       "<polyline clip-path=\"url(#clip260)\" style=\"stroke:#000000; stroke-linecap:round; stroke-linejoin:round; stroke-width:4; stroke-opacity:1; fill:none\" points=\"249.542,1384.24 268.44,1384.24 \"/>\n",
       "<polyline clip-path=\"url(#clip260)\" style=\"stroke:#000000; stroke-linecap:round; stroke-linejoin:round; stroke-width:4; stroke-opacity:1; fill:none\" points=\"249.542,1098.36 268.44,1098.36 \"/>\n",
       "<polyline clip-path=\"url(#clip260)\" style=\"stroke:#000000; stroke-linecap:round; stroke-linejoin:round; stroke-width:4; stroke-opacity:1; fill:none\" points=\"249.542,812.481 268.44,812.481 \"/>\n",
       "<polyline clip-path=\"url(#clip260)\" style=\"stroke:#000000; stroke-linecap:round; stroke-linejoin:round; stroke-width:4; stroke-opacity:1; fill:none\" points=\"249.542,526.602 268.44,526.602 \"/>\n",
       "<polyline clip-path=\"url(#clip260)\" style=\"stroke:#000000; stroke-linecap:round; stroke-linejoin:round; stroke-width:4; stroke-opacity:1; fill:none\" points=\"249.542,240.723 268.44,240.723 \"/>\n",
       "<polyline clip-path=\"url(#clip260)\" style=\"stroke:#000000; stroke-linecap:round; stroke-linejoin:round; stroke-width:4; stroke-opacity:1; fill:none\" points=\"2352.76,1384.24 2333.86,1384.24 \"/>\n",
       "<polyline clip-path=\"url(#clip260)\" style=\"stroke:#000000; stroke-linecap:round; stroke-linejoin:round; stroke-width:4; stroke-opacity:1; fill:none\" points=\"2352.76,1098.36 2333.86,1098.36 \"/>\n",
       "<polyline clip-path=\"url(#clip260)\" style=\"stroke:#000000; stroke-linecap:round; stroke-linejoin:round; stroke-width:4; stroke-opacity:1; fill:none\" points=\"2352.76,812.481 2333.86,812.481 \"/>\n",
       "<polyline clip-path=\"url(#clip260)\" style=\"stroke:#000000; stroke-linecap:round; stroke-linejoin:round; stroke-width:4; stroke-opacity:1; fill:none\" points=\"2352.76,526.602 2333.86,526.602 \"/>\n",
       "<polyline clip-path=\"url(#clip260)\" style=\"stroke:#000000; stroke-linecap:round; stroke-linejoin:round; stroke-width:4; stroke-opacity:1; fill:none\" points=\"2352.76,240.723 2333.86,240.723 \"/>\n",
       "<path clip-path=\"url(#clip260)\" d=\"M126.205 1370.04 Q122.593 1370.04 120.765 1373.6 Q118.959 1377.14 118.959 1384.27 Q118.959 1391.38 120.765 1394.94 Q122.593 1398.49 126.205 1398.49 Q129.839 1398.49 131.644 1394.94 Q133.473 1391.38 133.473 1384.27 Q133.473 1377.14 131.644 1373.6 Q129.839 1370.04 126.205 1370.04 M126.205 1366.33 Q132.015 1366.33 135.07 1370.94 Q138.149 1375.52 138.149 1384.27 Q138.149 1393 135.07 1397.61 Q132.015 1402.19 126.205 1402.19 Q120.394 1402.19 117.316 1397.61 Q114.26 1393 114.26 1384.27 Q114.26 1375.52 117.316 1370.94 Q120.394 1366.33 126.205 1366.33 Z\" fill=\"#000000\" fill-rule=\"nonzero\" fill-opacity=\"1\" /><path clip-path=\"url(#clip260)\" d=\"M146.366 1395.64 L151.251 1395.64 L151.251 1401.52 L146.366 1401.52 L146.366 1395.64 Z\" fill=\"#000000\" fill-rule=\"nonzero\" fill-opacity=\"1\" /><path clip-path=\"url(#clip260)\" d=\"M171.436 1370.04 Q167.825 1370.04 165.996 1373.6 Q164.19 1377.14 164.19 1384.27 Q164.19 1391.38 165.996 1394.94 Q167.825 1398.49 171.436 1398.49 Q175.07 1398.49 176.876 1394.94 Q178.704 1391.38 178.704 1384.27 Q178.704 1377.14 176.876 1373.6 Q175.07 1370.04 171.436 1370.04 M171.436 1366.33 Q177.246 1366.33 180.301 1370.94 Q183.38 1375.52 183.38 1384.27 Q183.38 1393 180.301 1397.61 Q177.246 1402.19 171.436 1402.19 Q165.626 1402.19 162.547 1397.61 Q159.491 1393 159.491 1384.27 Q159.491 1375.52 162.547 1370.94 Q165.626 1366.33 171.436 1366.33 Z\" fill=\"#000000\" fill-rule=\"nonzero\" fill-opacity=\"1\" /><path clip-path=\"url(#clip260)\" d=\"M201.598 1370.04 Q197.987 1370.04 196.158 1373.6 Q194.352 1377.14 194.352 1384.27 Q194.352 1391.38 196.158 1394.94 Q197.987 1398.49 201.598 1398.49 Q205.232 1398.49 207.037 1394.94 Q208.866 1391.38 208.866 1384.27 Q208.866 1377.14 207.037 1373.6 Q205.232 1370.04 201.598 1370.04 M201.598 1366.33 Q207.408 1366.33 210.463 1370.94 Q213.542 1375.52 213.542 1384.27 Q213.542 1393 210.463 1397.61 Q207.408 1402.19 201.598 1402.19 Q195.787 1402.19 192.709 1397.61 Q189.653 1393 189.653 1384.27 Q189.653 1375.52 192.709 1370.94 Q195.787 1366.33 201.598 1366.33 Z\" fill=\"#000000\" fill-rule=\"nonzero\" fill-opacity=\"1\" /><path clip-path=\"url(#clip260)\" d=\"M127.2 1084.16 Q123.589 1084.16 121.76 1087.72 Q119.955 1091.26 119.955 1098.39 Q119.955 1105.5 121.76 1109.07 Q123.589 1112.61 127.2 1112.61 Q130.834 1112.61 132.64 1109.07 Q134.468 1105.5 134.468 1098.39 Q134.468 1091.26 132.64 1087.72 Q130.834 1084.16 127.2 1084.16 M127.2 1080.45 Q133.01 1080.45 136.066 1085.06 Q139.144 1089.64 139.144 1098.39 Q139.144 1107.12 136.066 1111.73 Q133.01 1116.31 127.2 1116.31 Q121.39 1116.31 118.311 1111.73 Q115.256 1107.12 115.256 1098.39 Q115.256 1089.64 118.311 1085.06 Q121.39 1080.45 127.2 1080.45 Z\" fill=\"#000000\" fill-rule=\"nonzero\" fill-opacity=\"1\" /><path clip-path=\"url(#clip260)\" d=\"M147.362 1109.76 L152.246 1109.76 L152.246 1115.64 L147.362 1115.64 L147.362 1109.76 Z\" fill=\"#000000\" fill-rule=\"nonzero\" fill-opacity=\"1\" /><path clip-path=\"url(#clip260)\" d=\"M172.431 1084.16 Q168.82 1084.16 166.991 1087.72 Q165.186 1091.26 165.186 1098.39 Q165.186 1105.5 166.991 1109.07 Q168.82 1112.61 172.431 1112.61 Q176.065 1112.61 177.871 1109.07 Q179.7 1105.5 179.7 1098.39 Q179.7 1091.26 177.871 1087.72 Q176.065 1084.16 172.431 1084.16 M172.431 1080.45 Q178.241 1080.45 181.297 1085.06 Q184.376 1089.64 184.376 1098.39 Q184.376 1107.12 181.297 1111.73 Q178.241 1116.31 172.431 1116.31 Q166.621 1116.31 163.542 1111.73 Q160.487 1107.12 160.487 1098.39 Q160.487 1089.64 163.542 1085.06 Q166.621 1080.45 172.431 1080.45 Z\" fill=\"#000000\" fill-rule=\"nonzero\" fill-opacity=\"1\" /><path clip-path=\"url(#clip260)\" d=\"M192.639 1081.08 L210.996 1081.08 L210.996 1085.01 L196.922 1085.01 L196.922 1093.49 Q197.94 1093.14 198.959 1092.98 Q199.977 1092.79 200.996 1092.79 Q206.783 1092.79 210.162 1095.96 Q213.542 1099.13 213.542 1104.55 Q213.542 1110.13 210.07 1113.23 Q206.598 1116.31 200.278 1116.31 Q198.102 1116.31 195.834 1115.94 Q193.588 1115.57 191.181 1114.83 L191.181 1110.13 Q193.264 1111.26 195.487 1111.82 Q197.709 1112.38 200.186 1112.38 Q204.19 1112.38 206.528 1110.27 Q208.866 1108.16 208.866 1104.55 Q208.866 1100.94 206.528 1098.83 Q204.19 1096.73 200.186 1096.73 Q198.311 1096.73 196.436 1097.14 Q194.584 1097.56 192.639 1098.44 L192.639 1081.08 Z\" fill=\"#000000\" fill-rule=\"nonzero\" fill-opacity=\"1\" /><path clip-path=\"url(#clip260)\" d=\"M126.205 798.279 Q122.593 798.279 120.765 801.844 Q118.959 805.386 118.959 812.515 Q118.959 819.622 120.765 823.187 Q122.593 826.728 126.205 826.728 Q129.839 826.728 131.644 823.187 Q133.473 819.622 133.473 812.515 Q133.473 805.386 131.644 801.844 Q129.839 798.279 126.205 798.279 M126.205 794.576 Q132.015 794.576 135.07 799.182 Q138.149 803.765 138.149 812.515 Q138.149 821.242 135.07 825.849 Q132.015 830.432 126.205 830.432 Q120.394 830.432 117.316 825.849 Q114.26 821.242 114.26 812.515 Q114.26 803.765 117.316 799.182 Q120.394 794.576 126.205 794.576 Z\" fill=\"#000000\" fill-rule=\"nonzero\" fill-opacity=\"1\" /><path clip-path=\"url(#clip260)\" d=\"M146.366 823.881 L151.251 823.881 L151.251 829.761 L146.366 829.761 L146.366 823.881 Z\" fill=\"#000000\" fill-rule=\"nonzero\" fill-opacity=\"1\" /><path clip-path=\"url(#clip260)\" d=\"M162.246 825.826 L169.885 825.826 L169.885 799.46 L161.575 801.127 L161.575 796.867 L169.839 795.201 L174.514 795.201 L174.514 825.826 L182.153 825.826 L182.153 829.761 L162.246 829.761 L162.246 825.826 Z\" fill=\"#000000\" fill-rule=\"nonzero\" fill-opacity=\"1\" /><path clip-path=\"url(#clip260)\" d=\"M201.598 798.279 Q197.987 798.279 196.158 801.844 Q194.352 805.386 194.352 812.515 Q194.352 819.622 196.158 823.187 Q197.987 826.728 201.598 826.728 Q205.232 826.728 207.037 823.187 Q208.866 819.622 208.866 812.515 Q208.866 805.386 207.037 801.844 Q205.232 798.279 201.598 798.279 M201.598 794.576 Q207.408 794.576 210.463 799.182 Q213.542 803.765 213.542 812.515 Q213.542 821.242 210.463 825.849 Q207.408 830.432 201.598 830.432 Q195.787 830.432 192.709 825.849 Q189.653 821.242 189.653 812.515 Q189.653 803.765 192.709 799.182 Q195.787 794.576 201.598 794.576 Z\" fill=\"#000000\" fill-rule=\"nonzero\" fill-opacity=\"1\" /><path clip-path=\"url(#clip260)\" d=\"M127.2 512.401 Q123.589 512.401 121.76 515.965 Q119.955 519.507 119.955 526.637 Q119.955 533.743 121.76 537.308 Q123.589 540.85 127.2 540.85 Q130.834 540.85 132.64 537.308 Q134.468 533.743 134.468 526.637 Q134.468 519.507 132.64 515.965 Q130.834 512.401 127.2 512.401 M127.2 508.697 Q133.01 508.697 136.066 513.303 Q139.144 517.887 139.144 526.637 Q139.144 535.363 136.066 539.97 Q133.01 544.553 127.2 544.553 Q121.39 544.553 118.311 539.97 Q115.256 535.363 115.256 526.637 Q115.256 517.887 118.311 513.303 Q121.39 508.697 127.2 508.697 Z\" fill=\"#000000\" fill-rule=\"nonzero\" fill-opacity=\"1\" /><path clip-path=\"url(#clip260)\" d=\"M147.362 538.002 L152.246 538.002 L152.246 543.882 L147.362 543.882 L147.362 538.002 Z\" fill=\"#000000\" fill-rule=\"nonzero\" fill-opacity=\"1\" /><path clip-path=\"url(#clip260)\" d=\"M163.241 539.947 L170.88 539.947 L170.88 513.581 L162.57 515.248 L162.57 510.989 L170.834 509.322 L175.51 509.322 L175.51 539.947 L183.149 539.947 L183.149 543.882 L163.241 543.882 L163.241 539.947 Z\" fill=\"#000000\" fill-rule=\"nonzero\" fill-opacity=\"1\" /><path clip-path=\"url(#clip260)\" d=\"M192.639 509.322 L210.996 509.322 L210.996 513.257 L196.922 513.257 L196.922 521.729 Q197.94 521.382 198.959 521.22 Q199.977 521.035 200.996 521.035 Q206.783 521.035 210.162 524.206 Q213.542 527.377 213.542 532.794 Q213.542 538.373 210.07 541.475 Q206.598 544.553 200.278 544.553 Q198.102 544.553 195.834 544.183 Q193.588 543.812 191.181 543.072 L191.181 538.373 Q193.264 539.507 195.487 540.062 Q197.709 540.618 200.186 540.618 Q204.19 540.618 206.528 538.512 Q208.866 536.405 208.866 532.794 Q208.866 529.183 206.528 527.076 Q204.19 524.97 200.186 524.97 Q198.311 524.97 196.436 525.387 Q194.584 525.803 192.639 526.683 L192.639 509.322 Z\" fill=\"#000000\" fill-rule=\"nonzero\" fill-opacity=\"1\" /><path clip-path=\"url(#clip260)\" d=\"M126.205 226.522 Q122.593 226.522 120.765 230.087 Q118.959 233.628 118.959 240.758 Q118.959 247.864 120.765 251.429 Q122.593 254.971 126.205 254.971 Q129.839 254.971 131.644 251.429 Q133.473 247.864 133.473 240.758 Q133.473 233.628 131.644 230.087 Q129.839 226.522 126.205 226.522 M126.205 222.818 Q132.015 222.818 135.07 227.425 Q138.149 232.008 138.149 240.758 Q138.149 249.485 135.07 254.091 Q132.015 258.674 126.205 258.674 Q120.394 258.674 117.316 254.091 Q114.26 249.485 114.26 240.758 Q114.26 232.008 117.316 227.425 Q120.394 222.818 126.205 222.818 Z\" fill=\"#000000\" fill-rule=\"nonzero\" fill-opacity=\"1\" /><path clip-path=\"url(#clip260)\" d=\"M146.366 252.124 L151.251 252.124 L151.251 258.003 L146.366 258.003 L146.366 252.124 Z\" fill=\"#000000\" fill-rule=\"nonzero\" fill-opacity=\"1\" /><path clip-path=\"url(#clip260)\" d=\"M165.464 254.068 L181.783 254.068 L181.783 258.003 L159.839 258.003 L159.839 254.068 Q162.501 251.313 167.084 246.684 Q171.69 242.031 172.871 240.688 Q175.116 238.165 175.996 236.429 Q176.899 234.67 176.899 232.98 Q176.899 230.225 174.954 228.489 Q173.033 226.753 169.931 226.753 Q167.732 226.753 165.278 227.517 Q162.848 228.281 160.07 229.832 L160.07 225.11 Q162.894 223.976 165.348 223.397 Q167.802 222.818 169.839 222.818 Q175.209 222.818 178.403 225.503 Q181.598 228.188 181.598 232.679 Q181.598 234.809 180.788 236.73 Q180.001 238.628 177.894 241.221 Q177.315 241.892 174.214 245.11 Q171.112 248.304 165.464 254.068 Z\" fill=\"#000000\" fill-rule=\"nonzero\" fill-opacity=\"1\" /><path clip-path=\"url(#clip260)\" d=\"M201.598 226.522 Q197.987 226.522 196.158 230.087 Q194.352 233.628 194.352 240.758 Q194.352 247.864 196.158 251.429 Q197.987 254.971 201.598 254.971 Q205.232 254.971 207.037 251.429 Q208.866 247.864 208.866 240.758 Q208.866 233.628 207.037 230.087 Q205.232 226.522 201.598 226.522 M201.598 222.818 Q207.408 222.818 210.463 227.425 Q213.542 232.008 213.542 240.758 Q213.542 249.485 210.463 254.091 Q207.408 258.674 201.598 258.674 Q195.787 258.674 192.709 254.091 Q189.653 249.485 189.653 240.758 Q189.653 232.008 192.709 227.425 Q195.787 222.818 201.598 222.818 Z\" fill=\"#000000\" fill-rule=\"nonzero\" fill-opacity=\"1\" /><path clip-path=\"url(#clip260)\" d=\"M21.7677 848.522 L58.7206 848.522 L58.7206 840.755 Q58.7206 830.92 54.2646 826.369 Q49.8086 821.786 40.1964 821.786 Q30.6479 821.786 26.2237 826.369 Q21.7677 830.92 21.7677 840.755 L21.7677 848.522 M16.4842 854.951 L16.4842 841.742 Q16.4842 827.928 22.2451 821.467 Q27.9743 815.006 40.1964 815.006 Q52.4822 815.006 58.2432 821.499 Q64.0042 827.992 64.0042 841.742 L64.0042 854.951 L16.4842 854.951 Z\" fill=\"#000000\" fill-rule=\"nonzero\" fill-opacity=\"1\" /><path clip-path=\"url(#clip260)\" d=\"M44.7161 774.52 L47.5806 774.52 L47.5806 801.447 Q53.6281 801.065 56.8109 797.819 Q59.9619 794.54 59.9619 788.716 Q59.9619 785.342 59.1344 782.191 Q58.3069 779.008 56.6518 775.889 L62.1899 775.889 Q63.5267 779.04 64.227 782.35 Q64.9272 785.66 64.9272 789.066 Q64.9272 797.596 59.9619 802.593 Q54.9967 807.558 46.5303 807.558 Q37.7774 807.558 32.6531 802.848 Q27.4968 798.105 27.4968 790.084 Q27.4968 782.891 32.1438 778.722 Q36.7589 774.52 44.7161 774.52 M42.9973 780.377 Q38.1912 780.44 35.3266 783.082 Q32.4621 785.692 32.4621 790.021 Q32.4621 794.922 35.2312 797.882 Q38.0002 800.811 43.0292 801.256 L42.9973 780.377 Z\" fill=\"#000000\" fill-rule=\"nonzero\" fill-opacity=\"1\" /><path clip-path=\"url(#clip260)\" d=\"M42.4881 735.276 L64.0042 735.276 L64.0042 741.132 L42.679 741.132 Q37.6183 741.132 35.1038 743.105 Q32.5894 745.079 32.5894 749.026 Q32.5894 753.768 35.6131 756.505 Q38.6368 759.243 43.8567 759.243 L64.0042 759.243 L64.0042 765.131 L28.3562 765.131 L28.3562 759.243 L33.8944 759.243 Q30.6797 757.142 29.0883 754.309 Q27.4968 751.445 27.4968 747.721 Q27.4968 741.578 31.3163 738.427 Q35.1038 735.276 42.4881 735.276 Z\" fill=\"#000000\" fill-rule=\"nonzero\" fill-opacity=\"1\" /><path clip-path=\"url(#clip260)\" d=\"M29.4065 700.869 L34.9447 700.869 Q33.6716 703.352 33.035 706.025 Q32.3984 708.699 32.3984 711.563 Q32.3984 715.924 33.7352 718.12 Q35.072 720.284 37.7456 720.284 Q39.7826 720.284 40.9603 718.725 Q42.1061 717.165 43.1565 712.455 L43.6021 710.449 Q44.9389 704.211 47.3897 701.601 Q49.8086 698.959 54.1691 698.959 Q59.1344 698.959 62.0308 702.906 Q64.9272 706.821 64.9272 713.696 Q64.9272 716.56 64.3543 719.68 Q63.8132 722.767 62.6992 726.204 L56.6518 726.204 Q58.3387 722.958 59.198 719.807 Q60.0256 716.656 60.0256 713.569 Q60.0256 709.431 58.6251 707.203 Q57.1929 704.975 54.6147 704.975 Q52.2276 704.975 50.9545 706.598 Q49.6813 708.19 48.5037 713.632 L48.0262 715.669 Q46.8804 721.112 44.5251 723.531 Q42.138 725.95 38.0002 725.95 Q32.9713 725.95 30.2341 722.385 Q27.4968 718.82 27.4968 712.264 Q27.4968 709.017 27.9743 706.153 Q28.4517 703.288 29.4065 700.869 Z\" fill=\"#000000\" fill-rule=\"nonzero\" fill-opacity=\"1\" /><path clip-path=\"url(#clip260)\" d=\"M28.3562 689.634 L28.3562 683.777 L64.0042 683.777 L64.0042 689.634 L28.3562 689.634 M14.479 689.634 L14.479 683.777 L21.895 683.777 L21.895 689.634 L14.479 689.634 Z\" fill=\"#000000\" fill-rule=\"nonzero\" fill-opacity=\"1\" /><path clip-path=\"url(#clip260)\" d=\"M18.2347 665.73 L28.3562 665.73 L28.3562 653.667 L32.9077 653.667 L32.9077 665.73 L52.2594 665.73 Q56.6199 665.73 57.8613 664.553 Q59.1026 663.343 59.1026 659.683 L59.1026 653.667 L64.0042 653.667 L64.0042 659.683 Q64.0042 666.462 61.4897 669.04 Q58.9434 671.619 52.2594 671.619 L32.9077 671.619 L32.9077 675.915 L28.3562 675.915 L28.3562 671.619 L18.2347 671.619 L18.2347 665.73 Z\" fill=\"#000000\" fill-rule=\"nonzero\" fill-opacity=\"1\" /><path clip-path=\"url(#clip260)\" d=\"M67.3143 631.133 Q73.68 633.615 75.6216 635.971 Q77.5631 638.326 77.5631 642.273 L77.5631 646.951 L72.6615 646.951 L72.6615 643.514 Q72.6615 641.095 71.5157 639.758 Q70.3699 638.421 66.1048 636.798 L63.4312 635.748 L28.3562 650.166 L28.3562 643.96 L56.238 632.82 L28.3562 621.68 L28.3562 615.473 L67.3143 631.133 Z\" fill=\"#000000\" fill-rule=\"nonzero\" fill-opacity=\"1\" /><polyline clip-path=\"url(#clip262)\" style=\"stroke:#ff0000; stroke-linecap:round; stroke-linejoin:round; stroke-width:12; stroke-opacity:1; fill:none\" points=\"309.067,1384.24 319.038,1384.23 329.008,1384.17 338.979,1383.96 348.95,1383.46 358.92,1382.68 368.891,1382.02 378.862,1382 388.832,1382.63 398.803,1383.42 408.774,1383.94 418.744,1384.16 428.715,1384.23 438.686,1384.24 448.656,1384.24 458.627,1384.24 468.598,1384.24 478.568,1384.22 488.539,1384.15 498.51,1383.91 508.48,1383.33 518.451,1382.49 528.422,1381.76 538.392,1381.46 548.363,1381.43 558.334,1381.42 568.304,1381.65 578.275,1382.35 588.246,1383.23 598.216,1383.86 608.187,1384.14 618.158,1384.22 628.129,1384.24 638.099,1384.24 648.07,1384.23 658.041,1384.21 668.011,1384.11 677.982,1383.77 687.953,1383.06 697.923,1382.17 707.894,1381.63 717.865,1381.55 727.835,1381.28 737.806,1380.37 747.777,1379.57 757.747,1379.91 767.718,1381.33 777.689,1382.81 787.659,1383.55 797.63,1383.27 807.601,1381.82 817.571,1379.47 827.542,1377.41 837.513,1376.93 847.483,1377.73 857.454,1378.36 867.425,1378.22 877.395,1377.7 887.366,1376.79 897.337,1375.35 907.307,1374.06 917.278,1373.71 927.249,1374.14 937.219,1375.01 947.19,1376.47 957.161,1378.21 967.131,1379.01 977.102,1377.99 987.073,1375.55 997.043,1372.56 1007.01,1369.51 1016.98,1366.6 1026.96,1363.94 1036.93,1361.72 1046.9,1360.38 1056.87,1360.04 1066.84,1359.77 1076.81,1358.31 1086.78,1355.24 1096.75,1350.84 1106.72,1344.77 1116.69,1335.62 1126.66,1323.16 1136.63,1310.35 1146.6,1300.5 1156.57,1293.22 1166.54,1285.04 1176.52,1272.18 1186.49,1251.69 1196.46,1221.32 1206.43,1181.24 1216.4,1136.28 1226.37,1092.11 1236.34,1046.69 1246.31,990.886 1256.28,922.511 1266.25,854.325 1276.22,799.191 1286.19,751.273 1296.16,691.305 1306.13,608.185 1316.1,508.925 1326.08,408.128 1336.05,313.99 1346.02,228.798 1355.99,156.797 1365.96,106.259 1375.93,86.1857 1385.9,100.204 1395.87,145.436 1405.84,218.206 1415.81,311.037 1425.78,405.47 1435.75,482.979 1445.72,542.974 1455.69,601.704 1465.67,675.026 1475.64,765.138 1485.61,862.584 1495.58,955.719 1505.55,1034.28 1515.52,1090.5 1525.49,1124.55 1535.46,1147.11 1545.43,1171.95 1555.4,1204.55 1565.37,1239.17 1575.34,1267.23 1585.31,1285.91 1595.28,1298.33 1605.25,1309.49 1615.23,1322.1 1625.2,1334.23 1635.17,1341.83 1645.14,1343.81 1655.11,1343.8 1665.08,1346.78 1675.05,1354.02 1685.02,1362.46 1694.99,1368.64 1704.96,1371.27 1714.93,1370.76 1724.9,1368.47 1734.87,1366.42 1744.84,1366.45 1754.81,1369.06 1764.79,1373.27 1774.76,1377.02 1784.73,1378.2 1794.7,1376.35 1804.67,1373.58 1814.64,1373 1824.61,1375.53 1834.58,1379.24 1844.55,1381.77 1854.52,1382.26 1864.49,1381.27 1874.46,1379.97 1884.43,1379.31 1894.4,1379.27 1904.37,1379.17 1914.35,1378.98 1924.32,1379.44 1934.29,1380.69 1944.26,1381.85 1954.23,1382.16 1964.2,1381.91 1974.17,1381.91 1984.14,1382.45 1994.11,1382.95 2004.08,1382.62 2014.05,1381.06 2024.02,1378.86 2033.99,1377.49 2043.96,1378.1 2053.93,1380.2 2063.91,1382.33 2073.88,1383.59 2083.85,1384.08 2093.82,1384.21 2103.79,1384.24 2113.76,1384.24 2123.73,1384.24 2133.7,1384.24 2143.67,1384.24 2153.64,1384.24 2163.61,1384.24 2173.58,1384.23 2183.55,1384.16 2193.52,1383.94 2203.49,1383.42 2213.47,1382.63 2223.44,1382 2233.41,1382.02 2243.38,1382.68 2253.35,1383.46 2263.32,1383.96 2273.29,1384.17 2283.26,1384.23 2293.23,1384.24 \"/>\n",
       "<path clip-path=\"url(#clip260)\" d=\"M1770.41 196.789 L2282.65 196.789 L2282.65 93.1086 L1770.41 93.1086  Z\" fill=\"#f2f2f2\" fill-rule=\"evenodd\" fill-opacity=\"1\"/>\n",
       "<polyline clip-path=\"url(#clip260)\" style=\"stroke:#000000; stroke-linecap:round; stroke-linejoin:round; stroke-width:4; stroke-opacity:0; fill:none\" points=\"1770.41,196.789 2282.65,196.789 2282.65,93.1086 1770.41,93.1086 1770.41,196.789 \"/>\n",
       "<polyline clip-path=\"url(#clip260)\" style=\"stroke:#ff0000; stroke-linecap:round; stroke-linejoin:round; stroke-width:12; stroke-opacity:1; fill:none\" points=\"1793.78,144.949 1933.99,144.949 \"/>\n",
       "<path clip-path=\"url(#clip260)\" d=\"M1973.38 130.84 Q1968.29 130.84 1965.28 134.636 Q1962.29 138.432 1962.29 144.983 Q1962.29 151.511 1965.28 155.307 Q1968.29 159.104 1973.38 159.104 Q1978.47 159.104 1981.43 155.307 Q1984.42 151.511 1984.42 144.983 Q1984.42 138.432 1981.43 134.636 Q1978.47 130.84 1973.38 130.84 M1973.38 127.044 Q1980.65 127.044 1985 131.928 Q1989.35 136.789 1989.35 144.983 Q1989.35 153.155 1985 158.039 Q1980.65 162.9 1973.38 162.9 Q1966.09 162.9 1961.71 158.039 Q1957.36 153.178 1957.36 144.983 Q1957.36 136.789 1961.71 131.928 Q1966.09 127.044 1973.38 127.044 Z\" fill=\"#000000\" fill-rule=\"nonzero\" fill-opacity=\"1\" /><path clip-path=\"url(#clip260)\" d=\"M2015.09 149.289 Q2015.09 144.59 2013.15 141.928 Q2011.23 139.243 2007.85 139.243 Q2004.47 139.243 2002.52 141.928 Q2000.6 144.59 2000.6 149.289 Q2000.6 153.988 2002.52 156.673 Q2004.47 159.335 2007.85 159.335 Q2011.23 159.335 2013.15 156.673 Q2015.09 153.988 2015.09 149.289 M2000.6 140.238 Q2001.94 137.923 2003.98 136.812 Q2006.04 135.678 2008.89 135.678 Q2013.61 135.678 2016.55 139.428 Q2019.51 143.178 2019.51 149.289 Q2019.51 155.4 2016.55 159.15 Q2013.61 162.9 2008.89 162.9 Q2006.04 162.9 2003.98 161.789 Q2001.94 160.655 2000.6 158.34 L2000.6 162.229 L1996.32 162.229 L1996.32 126.21 L2000.6 126.21 L2000.6 140.238 Z\" fill=\"#000000\" fill-rule=\"nonzero\" fill-opacity=\"1\" /><path clip-path=\"url(#clip260)\" d=\"M2043.1 137.067 L2043.1 141.094 Q2041.29 140.169 2039.35 139.706 Q2037.41 139.243 2035.32 139.243 Q2032.15 139.243 2030.55 140.215 Q2028.98 141.187 2028.98 143.131 Q2028.98 144.613 2030.11 145.469 Q2031.25 146.303 2034.67 147.067 L2036.13 147.391 Q2040.67 148.363 2042.57 150.145 Q2044.49 151.905 2044.49 155.076 Q2044.49 158.687 2041.62 160.793 Q2038.77 162.9 2033.77 162.9 Q2031.69 162.9 2029.42 162.483 Q2027.17 162.09 2024.67 161.28 L2024.67 156.881 Q2027.04 158.108 2029.33 158.733 Q2031.62 159.335 2033.86 159.335 Q2036.87 159.335 2038.49 158.317 Q2040.11 157.275 2040.11 155.4 Q2040.11 153.664 2038.93 152.738 Q2037.78 151.812 2033.82 150.956 L2032.34 150.608 Q2028.38 149.775 2026.62 148.062 Q2024.86 146.326 2024.86 143.317 Q2024.86 139.659 2027.45 137.669 Q2030.04 135.678 2034.81 135.678 Q2037.17 135.678 2039.26 136.025 Q2041.34 136.372 2043.1 137.067 Z\" fill=\"#000000\" fill-rule=\"nonzero\" fill-opacity=\"1\" /><path clip-path=\"url(#clip260)\" d=\"M2073.45 148.201 L2073.45 150.284 L2053.86 150.284 Q2054.14 154.682 2056.5 156.997 Q2058.89 159.289 2063.12 159.289 Q2065.58 159.289 2067.87 158.687 Q2070.18 158.085 2072.45 156.881 L2072.45 160.909 Q2070.16 161.881 2067.75 162.391 Q2065.35 162.9 2062.87 162.9 Q2056.67 162.9 2053.03 159.289 Q2049.42 155.678 2049.42 149.52 Q2049.42 143.155 2052.85 139.428 Q2056.29 135.678 2062.13 135.678 Q2067.36 135.678 2070.39 139.057 Q2073.45 142.414 2073.45 148.201 M2069.19 146.951 Q2069.14 143.456 2067.22 141.372 Q2065.32 139.289 2062.17 139.289 Q2058.61 139.289 2056.46 141.303 Q2054.33 143.317 2054 146.974 L2069.19 146.951 Z\" fill=\"#000000\" fill-rule=\"nonzero\" fill-opacity=\"1\" /><path clip-path=\"url(#clip260)\" d=\"M2095.46 140.284 Q2094.74 139.868 2093.89 139.682 Q2093.05 139.474 2092.04 139.474 Q2088.42 139.474 2086.48 141.835 Q2084.56 144.173 2084.56 148.571 L2084.56 162.229 L2080.28 162.229 L2080.28 136.303 L2084.56 136.303 L2084.56 140.331 Q2085.9 137.969 2088.05 136.835 Q2090.21 135.678 2093.29 135.678 Q2093.73 135.678 2094.26 135.747 Q2094.79 135.794 2095.44 135.909 L2095.46 140.284 Z\" fill=\"#000000\" fill-rule=\"nonzero\" fill-opacity=\"1\" /><path clip-path=\"url(#clip260)\" d=\"M2096.87 136.303 L2101.39 136.303 L2109.49 158.062 L2117.59 136.303 L2122.1 136.303 L2112.38 162.229 L2106.6 162.229 L2096.87 136.303 Z\" fill=\"#000000\" fill-rule=\"nonzero\" fill-opacity=\"1\" /><path clip-path=\"url(#clip260)\" d=\"M2150.16 148.201 L2150.16 150.284 L2130.58 150.284 Q2130.85 154.682 2133.22 156.997 Q2135.6 159.289 2139.84 159.289 Q2142.29 159.289 2144.58 158.687 Q2146.9 158.085 2149.16 156.881 L2149.16 160.909 Q2146.87 161.881 2144.47 162.391 Q2142.06 162.9 2139.58 162.9 Q2133.38 162.9 2129.74 159.289 Q2126.13 155.678 2126.13 149.52 Q2126.13 143.155 2129.56 139.428 Q2133.01 135.678 2138.84 135.678 Q2144.07 135.678 2147.1 139.057 Q2150.16 142.414 2150.16 148.201 M2145.9 146.951 Q2145.85 143.456 2143.93 141.372 Q2142.03 139.289 2138.89 139.289 Q2135.32 139.289 2133.17 141.303 Q2131.04 143.317 2130.72 146.974 L2145.9 146.951 Z\" fill=\"#000000\" fill-rule=\"nonzero\" fill-opacity=\"1\" /><path clip-path=\"url(#clip260)\" d=\"M2174.21 140.238 L2174.21 126.21 L2178.47 126.21 L2178.47 162.229 L2174.21 162.229 L2174.21 158.34 Q2172.87 160.655 2170.81 161.789 Q2168.77 162.9 2165.9 162.9 Q2161.2 162.9 2158.24 159.15 Q2155.3 155.4 2155.3 149.289 Q2155.3 143.178 2158.24 139.428 Q2161.2 135.678 2165.9 135.678 Q2168.77 135.678 2170.81 136.812 Q2172.87 137.923 2174.21 140.238 M2159.7 149.289 Q2159.7 153.988 2161.62 156.673 Q2163.56 159.335 2166.94 159.335 Q2170.32 159.335 2172.27 156.673 Q2174.21 153.988 2174.21 149.289 Q2174.21 144.59 2172.27 141.928 Q2170.32 139.243 2166.94 139.243 Q2163.56 139.243 2161.62 141.928 Q2159.7 144.59 2159.7 149.289 Z\" fill=\"#000000\" fill-rule=\"nonzero\" fill-opacity=\"1\" /><path clip-path=\"url(#clip260)\" d=\"M2207.17 131.511 L2207.17 144.497 L2213.05 144.497 Q2216.32 144.497 2218.1 142.807 Q2219.88 141.118 2219.88 137.993 Q2219.88 134.891 2218.1 133.201 Q2216.32 131.511 2213.05 131.511 L2207.17 131.511 M2202.5 127.669 L2213.05 127.669 Q2218.86 127.669 2221.83 130.307 Q2224.81 132.923 2224.81 137.993 Q2224.81 143.108 2221.83 145.724 Q2218.86 148.34 2213.05 148.34 L2207.17 148.34 L2207.17 162.229 L2202.5 162.229 L2202.5 127.669 Z\" fill=\"#000000\" fill-rule=\"nonzero\" fill-opacity=\"1\" /><path clip-path=\"url(#clip260)\" d=\"M2254.65 157.298 L2254.65 148.016 L2247.01 148.016 L2247.01 144.173 L2259.28 144.173 L2259.28 159.011 Q2256.57 160.932 2253.31 161.928 Q2250.04 162.9 2246.34 162.9 Q2238.24 162.9 2233.65 158.178 Q2229.09 153.432 2229.09 144.983 Q2229.09 136.511 2233.65 131.789 Q2238.24 127.044 2246.34 127.044 Q2249.72 127.044 2252.75 127.877 Q2255.81 128.71 2258.38 130.331 L2258.38 135.307 Q2255.78 133.108 2252.87 131.997 Q2249.95 130.886 2246.73 130.886 Q2240.39 130.886 2237.2 134.428 Q2234.03 137.969 2234.03 144.983 Q2234.03 151.974 2237.2 155.516 Q2240.39 159.057 2246.73 159.057 Q2249.21 159.057 2251.15 158.641 Q2253.1 158.201 2254.65 157.298 Z\" fill=\"#000000\" fill-rule=\"nonzero\" fill-opacity=\"1\" /></svg>\n"
      ],
      "text/html": [
       "<img src=\"data:image/png;base64,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\" />"
      ]
     },
     "metadata": {},
     "output_type": "display_data"
    }
   ],
   "source": [
    "let\n",
    "    density(log_growth_array, label=\"Observed $(random_firm_ticker)\", lw=3, c=:red)\n",
    "    xlabel!(\"Log Growth Rate (1/years)\", fontsize=18)\n",
    "    ylabel!(\"Density\", fontsize=18)\n",
    "    plot!(bg=\"gray95\", background_color_outside=\"white\", framestyle = :box, fg_legend = :transparent);\n",
    "end"
   ]
  },
  {
   "cell_type": "markdown",
   "id": "f819175b",
   "metadata": {},
   "source": [
    "### Is the observed distribution approximately normal? \n",
    "Let's use the Anderson-Darling test to quantify how well the log growth rate distribution fits a normal distribution.\n",
    "\n",
    "> __Anderson–Darling test:__ The Anderson–Darling (AD) test is a statistical test of whether a given sample of data is drawn from a specified probability distribution. It is a type of goodness-of-fit test that compares the empirical cumulative distribution function of the sample data to the cumulative distribution function of the specified distribution. The AD test is particularly sensitive to differences in the tails of the distributions, making it useful for detecting deviations from the assumed distribution in those regions.\n",
    "\n",
    "> __Null hypothesis:__ The Anderson–Darling test examines the null hypothesis that the data in vector $x$ come from the distribution $d$ against the alternative hypothesis that the sample is not drawn from $d$. This test reports a p-value, the probability that, assuming the null hypothesis is true (your data really are i.i.d. from $d$), the AD test statistic would be at least as extreme as the one computed from your data. \n",
    "\n",
    "So, let's run the test on the log growth rate data for our randomly selected firm."
   ]
  },
  {
   "cell_type": "code",
   "execution_count": 11,
   "id": "78e448c8",
   "metadata": {},
   "outputs": [
    {
     "ename": "MethodError",
     "evalue": "MethodError: no method matching fit_mle(::Type{Normal}, ::Nothing)\nThe function `fit_mle` exists, but no method is defined for this combination of argument types.\n\nClosest candidates are:\n  fit_mle(::Type{D}, !Matched::AbstractArray) where D<:(UnivariateDistribution)\n   @ Distributions ~/.julia/packages/Distributions/YQSrn/src/genericfit.jl:27\n  fit_mle(::Type{<:Normal}, !Matched::AbstractArray{T}; mu, sigma) where T<:Real\n   @ Distributions ~/.julia/packages/Distributions/YQSrn/src/univariate/continuous/normal.jl:240\n  fit_mle(::Type{D}, !Matched::AbstractArray, !Matched::AbstractArray) where D<:(UnivariateDistribution)\n   @ Distributions ~/.julia/packages/Distributions/YQSrn/src/genericfit.jl:28\n  ...\n",
     "output_type": "error",
     "traceback": [
      "MethodError: no method matching fit_mle(::Type{Normal}, ::Nothing)\n",
      "The function `fit_mle` exists, but no method is defined for this combination of argument types.\n",
      "\n",
      "Closest candidates are:\n",
      "  fit_mle(::Type{D}, !Matched::AbstractArray) where D<:(UnivariateDistribution)\n",
      "   @ Distributions ~/.julia/packages/Distributions/YQSrn/src/genericfit.jl:27\n",
      "  fit_mle(::Type{<:Normal}, !Matched::AbstractArray{T}; mu, sigma) where T<:Real\n",
      "   @ Distributions ~/.julia/packages/Distributions/YQSrn/src/univariate/continuous/normal.jl:240\n",
      "  fit_mle(::Type{D}, !Matched::AbstractArray, !Matched::AbstractArray) where D<:(UnivariateDistribution)\n",
      "   @ Distributions ~/.julia/packages/Distributions/YQSrn/src/genericfit.jl:28\n",
      "  ...\n",
      "\n",
      "\n",
      "Stacktrace:\n",
      " [1] top-level scope\n",
      "   @ ~/Desktop/julia_work/CHEME-5660-Fall-2025/PS2-CHEME-5660-TEMPLATE-Fall-2025/jl_notebook_cell_df34fa98e69747e1a8f8a730347b8e2f_X33sZmlsZQ==.jl:5"
     ]
    }
   ],
   "source": [
    "let\n",
    "\n",
    "    # initialize -\n",
    "    μ = log_growth_array; # get the log growth array for the randomly selected firm\n",
    "    d = fit_mle(Normal, μ); # fit the distribution using maximum likelihood estimation\n",
    "\n",
    "    # TODO: Uncomment the line below to perform the Anderson-Darling test\n",
    "    # TODO: reject the null hypothesis => NOT from a normal distribution\n",
    "    # TODO: A^2 big => data CDF does not fit theoretical CDF well\n",
    "    # ad_test_normal = HypothesisTests.OneSampleADTest(μ, d);\n",
    "end"
   ]
  },
  {
   "cell_type": "markdown",
   "id": "da604142",
   "metadata": {},
   "source": [
    "Is the Anderson-Darling result consistent with our expectations: Is the observed growth rate normally distributed?"
   ]
  },
  {
   "cell_type": "code",
   "execution_count": 12,
   "id": "03e070b8",
   "metadata": {},
   "outputs": [],
   "source": [
    "is_observed_growth_rate_distribution_normal = nothing; # set to true if normal, false otherwise"
   ]
  },
  {
   "cell_type": "markdown",
   "id": "c022f13d-3129-4d7a-8534-594d1101cc83",
   "metadata": {
    "tags": []
   },
   "source": [
    "### Compute binomial model parameters\n",
    "Using the `log_growth_array::Array{Float64,1}`, we compute the expected magnitude of an up move $\\bar{u}$, the expected magnitude of a down move $\\bar{d}$, and the estimated probability $\\bar{p}$ of an up move by passing the return data to [a `RealWorldBinomialProbabilityMeasure` instance](https://varnerlab.github.io/VLQuantitativeFinancePackage.jl/dev/equity/#VLQuantitativeFinancePackage.RealWorldBinomialProbabilityMeasure), which returns the $(u,d,p)$ tuple.\n",
    "\n",
    "> __Syntax sugar__: Behind the scenes, this call points to a private function that computes $\\bar{u}$, $\\bar{d}$, and $\\bar{p}$ by analyzing the growth rate time series data in the `log_growth_array::Array{Float64,1}` variable. Although it appears we are using a type as a function name, we are actually invoking a callable constructor—this is a useful Julia feature!\n",
    "\n",
    "What values did we obtain for our randomly selected firm?"
   ]
  },
  {
   "cell_type": "code",
   "execution_count": 13,
   "id": "af81411e-eea6-4b89-b327-7b4bdc681dc1",
   "metadata": {
    "tags": []
   },
   "outputs": [],
   "source": [
    "(ū,d̄,p̄) = let\n",
    "\n",
    "    # initialize -\n",
    "    u = nothing; \n",
    "    d = nothing; \n",
    "    p = nothing; \n",
    "\n",
    "    # TODO: Uncomment the line below to compute the RWPM parameters for the randomly selected firm\n",
    "    # (u,d,p) = (RealWorldBinomialProbabilityMeasure())(log_growth_array; Δt = Δt)\n",
    "    \n",
    "    (u,d,p); # return\n",
    "end;"
   ]
  },
  {
   "cell_type": "markdown",
   "id": "bc35e176",
   "metadata": {},
   "source": [
    "Make a table for the binomial lattice parameters:"
   ]
  },
  {
   "cell_type": "code",
   "execution_count": 14,
   "id": "82ca3cf5",
   "metadata": {},
   "outputs": [
    {
     "name": "stdout",
     "output_type": "stream",
     "text": [
      " -------- ---------- ------------ -------------\n",
      " \u001b[1m ticker \u001b[0m \u001b[1m upfactor \u001b[0m \u001b[1m downfactor \u001b[0m \u001b[1m probability \u001b[0m\n",
      " \u001b[90m String \u001b[0m \u001b[90m  Nothing \u001b[0m \u001b[90m    Nothing \u001b[0m \u001b[90m     Nothing \u001b[0m\n",
      " -------- ---------- ------------ -------------\n",
      "      PG    nothing      nothing       nothing\n",
      " -------- ---------- ------------ -------------\n"
     ]
    }
   ],
   "source": [
    "let\n",
    "\n",
    "    # initialize -\n",
    "    df = DataFrame();\n",
    "\n",
    "    row_df = (\n",
    "        ticker = random_firm_ticker,\n",
    "        upfactor = ū,\n",
    "        downfactor = d̄,\n",
    "        probability = p̄,\n",
    "    );\n",
    "    push!(df, row_df);\n",
    "\n",
    "      # display the table -\n",
    "    pretty_table(df, backend = :text,\n",
    "         table_format = TextTableFormat(borders = text_table_borders__compact));    \n",
    "    \n",
    "end"
   ]
  },
  {
   "cell_type": "markdown",
   "id": "c9893e7e-fa9d-4b83-ba60-49ffab890d7a",
   "metadata": {
    "tags": []
   },
   "source": [
    "### Build binomial lattice model using historical parameters\n",
    "Let's construct an instance of [the `MyBinomialEquityPriceTree` type](https://varnerlab.github.io/VLQuantitativeFinancePackage.jl/dev/equity/#VLQuantitativeFinancePackage.MyBinomialEquityPriceTree) using the estimated values for the parameters ($\\bar{u}$, $\\bar{d}$, $\\bar{p}$) from above. \n",
    "\n",
    "This enables us to calculate the prices and probabilities in the tree. We store the populated model in the variable `random_test_model` for future use.\n",
    "\n",
    "First, specify the `start_index::Int64` as the trading day index in the dataset, which will serve as the tree's starting point or `L = 0`. For reproducibility, let's hard-code this value as `start_index = 1187`, which corresponds to the trading day `2018-09-19` for our dataset."
   ]
  },
  {
   "cell_type": "code",
   "execution_count": 15,
   "id": "ebe52580-48da-4513-a5fb-98ed15e7b70c",
   "metadata": {
    "tags": []
   },
   "outputs": [
    {
     "name": "stdout",
     "output_type": "stream",
     "text": [
      "Visualize Firm-305 between trading days (1187 -> 1229)\n"
     ]
    }
   ],
   "source": [
    "start_index = 1187; # DO NOT CHANGE hardcoded start-time for reproducibility\n",
    "stop_index = start_index + TSIM # TSIM defines the number of trading days to simulate\n",
    "println(\"Visualize Firm-$(random_firm_index) between trading days ($(start_index) -> $(stop_index))\")"
   ]
  },
  {
   "cell_type": "markdown",
   "id": "51539c27",
   "metadata": {},
   "source": [
    "Next, let's build and populate the binomial lattice model using the estimated parameters and the initial share price $S_{0}$, which we set as the volume-weighted average price (VWAP) on the `start_index` trading day.\n",
    "\n",
    "We save the populated model in the `random_test_model::MyBinomialEquityPriceTree` variable:"
   ]
  },
  {
   "cell_type": "code",
   "execution_count": 16,
   "id": "d62e2a59-37db-4e59-9988-f5ec2e8c504a",
   "metadata": {
    "tags": []
   },
   "outputs": [],
   "source": [
    "random_test_model = let\n",
    "\n",
    "    # initialize -\n",
    "    model = nothing;\n",
    "    Sₒ = random_firm_data[start_index, :volume_weighted_average_price]; # set the initial share price\n",
    "    \n",
    "    \n",
    "    # TODO: Uncomment the line below and re-run this cell to build and populate the binomial equity price tree model\n",
    "    # TODO: using the (ū, d̄, p̄) values computed above (real-world parameters)\n",
    "    # model = build(MyBinomialEquityPriceTree, (\n",
    "    #    u = ū, d = d̄, p = p̄)) |> (model -> populate(model, Sₒ = Sₒ, h = TSIM));\n",
    "    \n",
    "    \n",
    "    model; # return\n",
    "end;"
   ]
  },
  {
   "cell_type": "markdown",
   "id": "0ad77528",
   "metadata": {},
   "source": [
    "What's in the `random_test_model::MyBinomialEquityPriceTree` instance?"
   ]
  },
  {
   "cell_type": "code",
   "execution_count": 17,
   "id": "502f8cae",
   "metadata": {},
   "outputs": [
    {
     "data": {
      "text/plain": [
       "()"
      ]
     },
     "metadata": {},
     "output_type": "display_data"
    }
   ],
   "source": [
    "typeof(random_test_model) |> T-> fieldnames(T)"
   ]
  },
  {
   "cell_type": "markdown",
   "id": "e44c9a7c",
   "metadata": {},
   "source": [
    "You can check out the fields using the dot syntax, for example: let's look at the data:"
   ]
  },
  {
   "cell_type": "code",
   "execution_count": 18,
   "id": "afeb9d19",
   "metadata": {},
   "outputs": [
    {
     "ename": "ErrorException",
     "evalue": "type Nothing has no field data",
     "output_type": "error",
     "traceback": [
      "type Nothing has no field data\n",
      "\n",
      "Stacktrace:\n",
      " [1] getproperty(x::Nothing, f::Symbol)\n",
      "   @ Base ./Base.jl:49\n",
      " [2] top-level scope\n",
      "   @ ~/Desktop/julia_work/CHEME-5660-Fall-2025/PS2-CHEME-5660-TEMPLATE-Fall-2025/jl_notebook_cell_df34fa98e69747e1a8f8a730347b8e2f_X53sZmlsZQ==.jl:1"
     ]
    }
   ],
   "source": [
    "random_test_model.data"
   ]
  },
  {
   "cell_type": "markdown",
   "id": "c32d5a74-ab92-4c4a-ae22-7b9179d76f3e",
   "metadata": {},
   "source": [
    "### Visualize binomial lattice price simulation\n",
    "An obvious question is: How well does the binomial lattice model simulate the actual share price? Let's visualize the results for our randomly selected firm, over the time interval defined by `start_index` and `stop_index`.\n",
    "\n",
    "> __What are we plotting?__  We'll compute the expected value and the variance of the simulated price as a function of time, i.e., at each level in the tree using the local [`𝔼(...)`](src/Compute.jl) and [`Var(...)` functions](src/Compute.jl) functions. We'll compare these values with the price observed in the market.\n",
    "\n",
    "__Unhide__ the code block below to see how we plotted the model simulated expected value and variance and the observed prices for your randomly selected firm using a binomial lattice model.\n",
    "\n",
    "> __What do we see?__ The dashed line represents the expected share price predicted by the lattice model, while the shaded regions denote levels of uncertainty $\\mu\\pm{z}\\cdot\\sigma$ for $z=$ `1.0, 1.96, 2.576`. The solid red line with circles represents the [observed VWAP price](https://en.wikipedia.org/wiki/Volume-weighted_average_price) for the selected firm and date range.\n",
    "\n",
    "Depending upon the ticker we've selected, the observed price (red line with points) may or may not lie within the $\\pm\\,{z}\\cdot\\sigma$ confidence ranges, where `z = {1, 1.96, 2.576}` are shown in progressively lighter shades of blue. The dashed dark blue line shows the expected value."
   ]
  },
  {
   "cell_type": "code",
   "execution_count": 19,
   "id": "4ee34b98-2524-4b74-820e-da12fb92983e",
   "metadata": {
    "jupyter": {
     "source_hidden": true
    },
    "tags": []
   },
   "outputs": [
    {
     "ename": "MethodError",
     "evalue": "MethodError: no method matching 𝔼(::Nothing, ::Vector{Int64})\nThe function `𝔼` exists, but no method is defined for this combination of argument types.\n\nClosest candidates are:\n  𝔼(!Matched::MyBinomialEquityPriceTree, ::Vector{Int64}; startindex)\n   @ Main ~/Desktop/julia_work/CHEME-5660-Fall-2025/PS2-CHEME-5660-TEMPLATE-Fall-2025/src/Compute.jl:45\n  𝔼(!Matched::MyBinomialEquityPriceTree; level)\n   @ Main ~/Desktop/julia_work/CHEME-5660-Fall-2025/PS2-CHEME-5660-TEMPLATE-Fall-2025/src/Compute.jl:6\n",
     "output_type": "error",
     "traceback": [
      "MethodError: no method matching 𝔼(::Nothing, ::Vector{Int64})\n",
      "The function `𝔼` exists, but no method is defined for this combination of argument types.\n",
      "\n",
      "Closest candidates are:\n",
      "  𝔼(!Matched::MyBinomialEquityPriceTree, ::Vector{Int64}; startindex)\n",
      "   @ Main ~/Desktop/julia_work/CHEME-5660-Fall-2025/PS2-CHEME-5660-TEMPLATE-Fall-2025/src/Compute.jl:45\n",
      "  𝔼(!Matched::MyBinomialEquityPriceTree; level)\n",
      "   @ Main ~/Desktop/julia_work/CHEME-5660-Fall-2025/PS2-CHEME-5660-TEMPLATE-Fall-2025/src/Compute.jl:6\n",
      "\n",
      "\n",
      "Stacktrace:\n",
      " [1] top-level scope\n",
      "   @ ~/Desktop/julia_work/CHEME-5660-Fall-2025/PS2-CHEME-5660-TEMPLATE-Fall-2025/jl_notebook_cell_df34fa98e69747e1a8f8a730347b8e2f_X55sZmlsZQ==.jl:4"
     ]
    }
   ],
   "source": [
    "let \n",
    "\n",
    "    levels = [k for k ∈ 0:(TSIM-1)]\n",
    "    expectation = 𝔼(random_test_model, levels); # compute the expected value\n",
    "    variance = Var(random_test_model, levels); # compute the variance\n",
    "\n",
    "\n",
    "    # initialize -\n",
    "    L68 = expectation[:,2] .- sqrt.(variance[:,2])\n",
    "    U68 = expectation[:,2] .+ sqrt.(variance[:,2])\n",
    "    L95 = expectation[:,2] .- 1.96*sqrt.(variance[:,2])\n",
    "    U95 = expectation[:,2] .+ 1.96*sqrt.(variance[:,2])\n",
    "    L99 = expectation[:,2] .- 2.576*sqrt.(variance[:,2])\n",
    "    U99 = expectation[:,2] .+ 2.576*sqrt.(variance[:,2])\n",
    "\n",
    "    T_range = range(start_index,stop=stop_index-1,step=1) |> collect \n",
    "    T_sim = T_range*Δt .- Δt\n",
    "\n",
    "    plot(T_range, expectation[:,2], fillrange=L68, c=:deepskyblue1, alpha=0.4, label=\"\")\n",
    "    plot!(T_range, expectation[:,2], fillrange=U68, c=:deepskyblue1, alpha=0.4, label=\"\")\n",
    "    plot!(T_range, expectation[:,2], fillrange=L95, c=:deepskyblue1, alpha=0.3, label=\"\")\n",
    "    plot!(T_range, expectation[:,2], fillrange=U95, c=:deepskyblue1, alpha=0.3, label=\"\")\n",
    "    plot!(T_range, expectation[:,2], fillrange=L99, c=:deepskyblue1, alpha=0.2, label=\"\")\n",
    "    plot!(T_range, expectation[:,2], fillrange=U99, c=:deepskyblue1, alpha=0.2, label=\"\")\n",
    "    plot!(T_range, expectation[:,2],c=:blue, lw=3,ls=:dash, label=\"expectation\")\n",
    "    plot!(T_range, random_firm_data[levels .+ start_index, :volume_weighted_average_price],  \n",
    "        lw=4, c=:red, label=\"Firm-$(random_firm_ticker)\", legend = :topleft)\n",
    "    scatter!(T_range, random_firm_data[levels .+ start_index, :volume_weighted_average_price], label=\"\", \n",
    "        msc=:red, mc=:white)\n",
    "\n",
    "    plot!(bg=\"gray95\", background_color_outside=\"white\", framestyle = :box, fg_legend = :transparent);\n",
    "\n",
    "    xlabel!(\"Trading Day Index (AU)\", fontsize=18)\n",
    "    ylabel!(\"Firm-$(random_firm_ticker) VWAP (USD/share)\", fontsize=18)\n",
    "end"
   ]
  },
  {
   "cell_type": "code",
   "execution_count": 20,
   "id": "6ef3cd61",
   "metadata": {},
   "outputs": [],
   "source": [
    "do_I_see_price_simulation_figure = nothing; # set to true if you see the price simulation figure above, otherwise set to false"
   ]
  },
  {
   "cell_type": "markdown",
   "id": "5f334dc0-c5f9-402c-99c9-973609a7fc94",
   "metadata": {},
   "source": [
    "### Was this a successful simulation?\n",
    "Determining whether a model accurately represents data can be done in various ways, but we will utilize a simple, straightforward functional test. \n",
    "\n",
    "> __Functional test__\n",
    "> \n",
    "> * __Success__: If the simulated price falls within a specified lower bound ($L_{j}$) and upper bound ($U_{j}$) for all times $t_j$ within a given interval ($t_{j}\\in\\mathcal{I}_{k}$), then the model is deemed a `success.`\n",
    "> * __Failure__: However, if the actual price exceeds the given bounds __at any point__, the simulation is considered a `failure.`\n",
    ">\n",
    "> So, did we succeed or fail?\n",
    "\n",
    "We save the result of this functional test in the `was_simulation_successful::Bool` variable. "
   ]
  },
  {
   "cell_type": "code",
   "execution_count": 21,
   "id": "049a1ffc-2955-401b-993d-55714df603c8",
   "metadata": {
    "jupyter": {
     "source_hidden": true
    },
    "tags": []
   },
   "outputs": [
    {
     "ename": "MethodError",
     "evalue": "MethodError: no method matching 𝔼(::Nothing, ::Vector{Int64})\nThe function `𝔼` exists, but no method is defined for this combination of argument types.\n\nClosest candidates are:\n  𝔼(!Matched::MyBinomialEquityPriceTree, ::Vector{Int64}; startindex)\n   @ Main ~/Desktop/julia_work/CHEME-5660-Fall-2025/PS2-CHEME-5660-TEMPLATE-Fall-2025/src/Compute.jl:45\n  𝔼(!Matched::MyBinomialEquityPriceTree; level)\n   @ Main ~/Desktop/julia_work/CHEME-5660-Fall-2025/PS2-CHEME-5660-TEMPLATE-Fall-2025/src/Compute.jl:6\n",
     "output_type": "error",
     "traceback": [
      "MethodError: no method matching 𝔼(::Nothing, ::Vector{Int64})\n",
      "The function `𝔼` exists, but no method is defined for this combination of argument types.\n",
      "\n",
      "Closest candidates are:\n",
      "  𝔼(!Matched::MyBinomialEquityPriceTree, ::Vector{Int64}; startindex)\n",
      "   @ Main ~/Desktop/julia_work/CHEME-5660-Fall-2025/PS2-CHEME-5660-TEMPLATE-Fall-2025/src/Compute.jl:45\n",
      "  𝔼(!Matched::MyBinomialEquityPriceTree; level)\n",
      "   @ Main ~/Desktop/julia_work/CHEME-5660-Fall-2025/PS2-CHEME-5660-TEMPLATE-Fall-2025/src/Compute.jl:6\n",
      "\n",
      "\n",
      "Stacktrace:\n",
      " [1] top-level scope\n",
      "   @ ~/Desktop/julia_work/CHEME-5660-Fall-2025/PS2-CHEME-5660-TEMPLATE-Fall-2025/jl_notebook_cell_df34fa98e69747e1a8f8a730347b8e2f_X61sZmlsZQ==.jl:6"
     ]
    }
   ],
   "source": [
    "was_simulation_successful = let\n",
    "\n",
    "    # initialize -\n",
    "    was_simulation_successful = nothing;\n",
    "    levels = [k for k ∈ 0:(TSIM-1)]\n",
    "    expectation = 𝔼(random_test_model, levels); # compute the expected value\n",
    "    variance = Var(random_test_model, levels); # compute the variance\n",
    "\n",
    "    z = 2.576 # If you wanted a tighter confidence interval, you could change this value\n",
    "    L = expectation[:,2] .- z*sqrt.(variance[:,2])\n",
    "    U = expectation[:,2] .+ z*sqrt.(variance[:,2])\n",
    "    \n",
    "    # check the bounds: if below L, or above U then simulation failed\n",
    "    was_simulation_successful = true;\n",
    "    for k ∈ 1:TSIM\n",
    "\n",
    "        price_value = random_firm_data[start_index+k-1,:volume_weighted_average_price];\n",
    "        if (price_value < L[k]) || (price_value > U[k])\n",
    "            was_simulation_successful = false;\n",
    "            break;\n",
    "        end\n",
    "    end\n",
    "\n",
    "    was_simulation_successful; # return\n",
    "end;"
   ]
  },
  {
   "cell_type": "code",
   "execution_count": 22,
   "id": "8565dbe9",
   "metadata": {},
   "outputs": [
    {
     "ename": "UndefVarError",
     "evalue": "UndefVarError: `was_simulation_successful` not defined in `Main`\nSuggestion: check for spelling errors or missing imports.",
     "output_type": "error",
     "traceback": [
      "UndefVarError: `was_simulation_successful` not defined in `Main`\n",
      "Suggestion: check for spelling errors or missing imports.\n",
      "\n",
      "Stacktrace:\n",
      " [1] top-level scope\n",
      "   @ ~/Desktop/julia_work/CHEME-5660-Fall-2025/PS2-CHEME-5660-TEMPLATE-Fall-2025/jl_notebook_cell_df34fa98e69747e1a8f8a730347b8e2f_X62sZmlsZQ==.jl:1"
     ]
    }
   ],
   "source": [
    "println(\"Was the $(random_firm_ticker) simulation between days ($(start_index) -> $(stop_index)) successful? $(was_simulation_successful)\")"
   ]
  },
  {
   "cell_type": "markdown",
   "id": "2aa6f7f1",
   "metadata": {},
   "source": [
    "___"
   ]
  },
  {
   "cell_type": "markdown",
   "id": "8fde8a0d",
   "metadata": {},
   "source": [
    "## Task 3: Check the Stylized Facts for the Binomial Lattice Model\n",
    "In this task, we will evaluate whether our binomial lattice model can replicate the well-known stylized facts of equity returns: heavy tails, vanishing autocorrelation, and volatility clustering. \n",
    "\n",
    "> __Stylized Facts of Binomial Returns:__ We already know from lecture that the binomial lattice model can replicate the vanishing autocorrelation stylized fact, but __not__ the heavy tails or volatility clustering stylized facts. Let's verify the autocorrelation function for our simulated growth rates to demonstrate this.\n",
    "\n",
    "### Single step growth rates\n",
    "We know (from our analysis of the data) that the one-step growth rates $\\{\\mu_{2},\\mu_{3},\\dots,\\mu_{T}\\}$ are __approximately__ independent and identically distributed (i.i.d.) random variables. Thus, the autocorrelation function for the growth rates should be __approximately__ zero for all lags $\\tau > 1$. The growth rate $\\mu_{j,j-1}$ between two consecutive time periods $j-1$ and $j$ is given by:\n",
    "$$\n",
    "\\boxed{\n",
    "    \\begin{align*}\n",
    "    \\mu_{j,j-1}\n",
    "    & = \\frac{1}{\\Delta t}\\Big[X_j\\ln u + (1-X_j)\\ln d\\Big] \\\\\n",
    "    & = \\frac{1}{\\Delta t}\\Big[\\ln d + X_j\\ln\\!\\Big({u}/{d}\\Big)\\Big]\\quad\\blacksquare\n",
    "    \\end{align*}\n",
    "}\n",
    "$$\n",
    "where $X_j\\sim\\texttt{Bernoulli}(p)$. We'll use this expression to generate a $T-1$ length sequence of single step growth rates $\\{\\mu_{2},\\mu_{3},\\dots,\\mu_{T}\\}$ by simulating $T-1$ independent Bernoulli trials. We'll save the growth rate sequence in the `single_step_simulated_growth_array::Array{Float64,1}` variable."
   ]
  },
  {
   "cell_type": "code",
   "execution_count": 23,
   "id": "eb80e9b4",
   "metadata": {},
   "outputs": [
    {
     "ename": "MethodError",
     "evalue": "MethodError: no method matching Bernoulli(::Nothing)\nThe type `Bernoulli` exists, but no method is defined for this combination of argument types when trying to construct it.\n\nClosest candidates are:\n  Bernoulli()\n   @ Distributions ~/.julia/packages/Distributions/YQSrn/src/univariate/discrete/bernoulli.jl:39\n  Bernoulli(!Matched::Integer; check_args)\n   @ Distributions ~/.julia/packages/Distributions/YQSrn/src/univariate/discrete/bernoulli.jl:38\n  Bernoulli(!Matched::Real; check_args)\n   @ Distributions ~/.julia/packages/Distributions/YQSrn/src/univariate/discrete/bernoulli.jl:33\n",
     "output_type": "error",
     "traceback": [
      "MethodError: no method matching Bernoulli(::Nothing)\n",
      "The type `Bernoulli` exists, but no method is defined for this combination of argument types when trying to construct it.\n",
      "\n",
      "Closest candidates are:\n",
      "  Bernoulli()\n",
      "   @ Distributions ~/.julia/packages/Distributions/YQSrn/src/univariate/discrete/bernoulli.jl:39\n",
      "  Bernoulli(!Matched::Integer; check_args)\n",
      "   @ Distributions ~/.julia/packages/Distributions/YQSrn/src/univariate/discrete/bernoulli.jl:38\n",
      "  Bernoulli(!Matched::Real; check_args)\n",
      "   @ Distributions ~/.julia/packages/Distributions/YQSrn/src/univariate/discrete/bernoulli.jl:33\n",
      "\n",
      "\n",
      "Stacktrace:\n",
      " [1] top-level scope\n",
      "   @ ~/Desktop/julia_work/CHEME-5660-Fall-2025/PS2-CHEME-5660-TEMPLATE-Fall-2025/jl_notebook_cell_df34fa98e69747e1a8f8a730347b8e2f_X65sZmlsZQ==.jl:8"
     ]
    }
   ],
   "source": [
    "single_step_simulated_growth_array = let\n",
    "\n",
    "    # initialize -\n",
    "    u = ū # up factor\n",
    "    d = d̄ # down factor\n",
    "    p = p̄ # probability of up movement\n",
    "    T = maximum_number_trading_days; # total number of trading days in the dataset\n",
    "    day = Bernoulli(p); # initialize a Bernoulli random variable\n",
    "    simulated_growth_array = Array{Float64}(undef, T - 1);\n",
    "\n",
    "    # simulate the growth rates\n",
    "    for j ∈ 1:(T - 1)\n",
    "\n",
    "        # everyday is a random Bernoulli trial\n",
    "        Xⱼ = rand(day) == true ? 1 : 0 # did day j go up (1) or down (0)?\n",
    "        simulated_growth_array[j] = (1/Δt)*(log(d) + Xⱼ*log(u/d)) # compute the growth rate\n",
    "    end\n",
    "\n",
    "    simulated_growth_array; # return -\n",
    "end;"
   ]
  },
  {
   "cell_type": "markdown",
   "id": "2e4ff158",
   "metadata": {},
   "source": [
    "So what have we done here? \n",
    "\n",
    "> __Simulation:__ We simulated $T-1$ independent Bernoulli trials, where each trial results in an `up` move with probability $p$ and a `down` move with probability $1-p$. For each trial, we computed the corresponding growth rate $\\mu_{j,j-1}$ using the expression above. The result is a sequence of $T-1$ growth rates stored in the `single_step_simulated_growth_array::Array{Float64,1}` variable.\n",
    "\n",
    "Before we analyze the autocorrelation function for the simulated growth rates, let's compute the expected value and variance of the single-step growth rates using the expressions we derived in class. The expected value and the variance expressions that we derived for the one-step growth rate are given by:\n",
    "$$\n",
    "\\begin{align*}\n",
    "\\mathbb{E}[\\mu_{j,j-1}] & = \\frac{1}{\\Delta t}\\Big[p\\ln u + (1-p)\\ln d\\Big]\\\\\n",
    "\\mathrm{Var}(\\mu_{j,j-1}) & = \\frac{p(1-p)}{\\Delta t^{\\,2}}\\Big[\\ln\\!\\Big(\\frac{u}{d}\\Big)\\Big]^2\n",
    "\\end{align*}\n",
    "$$\n",
    "Let's compare the theoretical and simulated values for the expected value and variance of the single-step growth rate."
   ]
  },
  {
   "cell_type": "code",
   "execution_count": 24,
   "id": "75d58fea",
   "metadata": {},
   "outputs": [
    {
     "ename": "UndefVarError",
     "evalue": "UndefVarError: `single_step_simulated_growth_array` not defined in `Main`\nSuggestion: check for spelling errors or missing imports.",
     "output_type": "error",
     "traceback": [
      "UndefVarError: `single_step_simulated_growth_array` not defined in `Main`\n",
      "Suggestion: check for spelling errors or missing imports.\n",
      "\n",
      "Stacktrace:\n",
      " [1] top-level scope\n",
      "   @ ~/Desktop/julia_work/CHEME-5660-Fall-2025/PS2-CHEME-5660-TEMPLATE-Fall-2025/jl_notebook_cell_df34fa98e69747e1a8f8a730347b8e2f_Y100sZmlsZQ==.jl:11"
     ]
    }
   ],
   "source": [
    "let\n",
    "\n",
    "    # initialize -\n",
    "    df = DataFrame(); # will hold the results for the table.\n",
    "    expected_value_simulated = nothing;\n",
    "    expected_value_theoretical = nothing;\n",
    "    variance_simulated = nothing;\n",
    "    variance_theoretical = nothing;\n",
    "\n",
    "    # TODO: Uncomment the lines below and re-run this cell to compute the expected value and variance for the simulated growth rates\n",
    "    expected_value_simulated = mean(single_step_simulated_growth_array);\n",
    "    expected_value_theoretical = (1/Δt)*(p̄*log(ū) + (1-p̄)*log(d̄))\n",
    "    variance_simulated = var(single_step_simulated_growth_array);\n",
    "    variance_theoretical = (p̄*(1-p̄)/(Δt^2))*(log(ū/d̄))^2\n",
    "\n",
    "    # package the results into a DataFrame, and display the results as a table -\n",
    "    row_df = (\n",
    "        Metric = \"Expected Value\", \n",
    "        Simulated = expected_value_simulated,\n",
    "        Theoretical = expected_value_theoretical,\n",
    "        rtol_percent = 100*abs((expected_value_simulated - expected_value_theoretical)/(expected_value_theoretical))\n",
    "    )\n",
    "    push!(df, row_df)\n",
    "\n",
    "    row_df = (\n",
    "        Metric = \"Variance\", \n",
    "        Simulated = variance_simulated,\n",
    "        Theoretical = variance_theoretical,\n",
    "        rtol_percent = 100*abs((variance_simulated - variance_theoretical)/(variance_theoretical))\n",
    "    )\n",
    "    push!(df, row_df)\n",
    "\n",
    "    # display the table -\n",
    "    pretty_table(df, backend = :text,\n",
    "         table_format = TextTableFormat(borders = text_table_borders__compact));\n",
    "end"
   ]
  },
  {
   "cell_type": "markdown",
   "id": "1441d495",
   "metadata": {},
   "source": [
    "__Results:__ When I ran the code above, my theoretical and simulated values for the variance of the single-step growth rate were close, but the expected values were not as close as I would have expected. Thus, I'm curious about what the single-step growth rate distribution looks like. Let's visualize it.\n",
    "\n",
    "__Unhide__ the code block below to see how we visualized the single-step growth rate sequence from our binomial lattice model. __Note:__ this is a Kernel Density Estimate (KDE) plot, which is a smoothed version of a histogram."
   ]
  },
  {
   "cell_type": "code",
   "execution_count": 25,
   "id": "f33148c0",
   "metadata": {},
   "outputs": [
    {
     "ename": "UndefVarError",
     "evalue": "UndefVarError: `single_step_simulated_growth_array` not defined in `Main`\nSuggestion: check for spelling errors or missing imports.",
     "output_type": "error",
     "traceback": [
      "UndefVarError: `single_step_simulated_growth_array` not defined in `Main`\n",
      "Suggestion: check for spelling errors or missing imports.\n",
      "\n",
      "Stacktrace:\n",
      " [1] top-level scope\n",
      "   @ ~/Desktop/julia_work/CHEME-5660-Fall-2025/PS2-CHEME-5660-TEMPLATE-Fall-2025/jl_notebook_cell_df34fa98e69747e1a8f8a730347b8e2f_Y102sZmlsZQ==.jl:2"
     ]
    }
   ],
   "source": [
    "let\n",
    "    f₋ = findall(x-> x < 0.0, single_step_simulated_growth_array) |> length |> l-> l/(maximum_number_trading_days - 1)\n",
    "    f₊ = findall(x-> x > 0.0, single_step_simulated_growth_array) |> length |> l-> l/(maximum_number_trading_days - 1)\n",
    "    @show f₋, f₊ # fraction: down, up\n",
    "\n",
    "    # initialize - \n",
    "    density(single_step_simulated_growth_array, label=\"\", lw=3, c=:navy)\n",
    "    xlabel!(\"Single-Step Growth Rate (1/years)\", fontsize=18)\n",
    "    ylabel!(\"Density\", fontsize=18)\n",
    "    plot!(bg=\"gray95\", background_color_outside=\"white\", framestyle = :box, fg_legend = :transparent);\n",
    "end"
   ]
  },
  {
   "cell_type": "code",
   "execution_count": 26,
   "id": "dee663e6",
   "metadata": {},
   "outputs": [],
   "source": [
    "do_I_see_single_step_growth_rate_distribution_figure = nothing; # set to true if you see a distribution of single-step growth rates"
   ]
  },
  {
   "cell_type": "markdown",
   "id": "253c608d",
   "metadata": {},
   "source": [
    "### Discussion Questions\n",
    "1. Wow, this plot initially seems strange! Why do two peaks make sense given the binomial lattice model?\n",
    "2. Why is the variance of the single-step growth rate distribution closer to the theoretical value than the expected value?\n",
    "3. Suppose we wanted to make this more realistic. What changes would you make to a lattice model to make the single-step growth rate distribution more realistic?"
   ]
  },
  {
   "cell_type": "code",
   "execution_count": 27,
   "id": "5e51b272",
   "metadata": {},
   "outputs": [],
   "source": [
    "# Fill in your answers here."
   ]
  },
  {
   "cell_type": "code",
   "execution_count": 28,
   "id": "fc1dce3a",
   "metadata": {},
   "outputs": [],
   "source": [
    "did_I_answer_discussion_questions_1 = nothing; # set to true if you answered question 1"
   ]
  },
  {
   "cell_type": "markdown",
   "id": "d7679a8a",
   "metadata": {},
   "source": [
    "### Autocorrelation Function\n",
    "Ok, so we have a sequence of single-step growth rates generated by our binomial lattice model. Let's check if this single-step growth rate sequence has a vanishing autocorrelation function.\n",
    "\n",
    "> __Why do we care about the autocorrelation function?__ If there is correlation between growth rates at different times, we could predict future growth rates based on past growth rates. This would imply that the market is not a random walk, which contradicts the efficient market hypothesis. However, if the autocorrelation function is approximately zero for all lags $\\tau > 1$, then the growth rates are independent, and the market behaves like a random walk.\n",
    "\n",
    "__Unhide__ the code block below to see how we computed and visualized the autocorrelation function for the single-step growth rate sequence generated by our binomial lattice model.\n",
    "\n",
    "If the autocorrelation (red line) is approximately zero (between the 99.9\\% confidence interval) for all lags $\\tau > 1$, then the single-step growth rates are independent, and the binomial lattice model replicates the (approximately) vanishing autocorrelation stylized fact of equity returns."
   ]
  },
  {
   "cell_type": "code",
   "execution_count": 29,
   "id": "0d0a4d16",
   "metadata": {},
   "outputs": [
    {
     "ename": "UndefVarError",
     "evalue": "UndefVarError: `single_step_simulated_growth_array` not defined in `Main`\nSuggestion: check for spelling errors or missing imports.",
     "output_type": "error",
     "traceback": [
      "UndefVarError: `single_step_simulated_growth_array` not defined in `Main`\n",
      "Suggestion: check for spelling errors or missing imports.\n",
      "\n",
      "Stacktrace:\n",
      " [1] top-level scope\n",
      "   @ ~/Desktop/julia_work/CHEME-5660-Fall-2025/PS2-CHEME-5660-TEMPLATE-Fall-2025/jl_notebook_cell_df34fa98e69747e1a8f8a730347b8e2f_Y111sZmlsZQ==.jl:6"
     ]
    }
   ],
   "source": [
    "let\n",
    "\n",
    "    # generate a random index -\n",
    "    number_of_steps = maximum_number_trading_days - 1;\n",
    "    max_number_of_steps_x = 50 # how many lags to visualize\n",
    "    X = single_step_simulated_growth_array;\n",
    "    \n",
    "    plot(autocor(X, (0:(number_of_steps - 1) |> collect)), label=\"Observed $(random_firm_ticker)\", lw=2, c=:red, \n",
    "        bg=\"gray95\", background_color_outside=\"white\", framestyle = :box, fg_legend = :transparent, \n",
    "        linetype=:steppost, xlims=(0,max_number_of_steps_x))\n",
    "\n",
    "    LINE = (3.09/sqrt(number_of_steps))*ones(number_of_steps-1);\n",
    "    plot!(LINE, label=\"99.9% confidence\", lw=2, c=:black, ls=:dash)\n",
    "    plot!(-LINE, label=\"\", lw=2, c=:black, ls=:dash)\n",
    "    xlabel!(\"Lag (trading day)\", fontsize=18)\n",
    "    ylabel!(\"Autocorrelation Growth Rate\", fontsize=18)\n",
    "end"
   ]
  },
  {
   "cell_type": "markdown",
   "id": "6d23cd47",
   "metadata": {},
   "source": [
    "__Reminder__: Ignore the first lag, i.e., $\\tau = 0$, since the autocorrelation at lag zero is always one (by definition)."
   ]
  },
  {
   "cell_type": "code",
   "execution_count": 30,
   "id": "d7e63513",
   "metadata": {},
   "outputs": [],
   "source": [
    "does_my_autocorrelation_function_vanish = nothing; # set to true if the autocorrelation function vanishes for all lags > 1"
   ]
  },
  {
   "cell_type": "markdown",
   "id": "be8725fd",
   "metadata": {},
   "source": [
    "### Multi-step Binomial Growth Rate Distribution\n",
    "The single-step growth rate distribution is a discrete random variable that can take on only two values, corresponding to an `up` move or a `down` move. However, we made a claim in the lecture notes that the multiple step growth rate distribution approaches a normal distribution as the number of steps increases. Let's investigate this claim.\n",
    "\n",
    "> __Claim:__ The multi-step growth rate distribution $\\mu_{T}$ is a linear transformation of a binomially distributed variable $k$. As $T \\to \\infty$, the distribution of $\\mu_{T}$ converges to a normal distribution by the Central Limit Theorem, which has lighter tails than the empirical return distributions observed in financial markets. Let's check this claim.\n",
    "\n",
    "Suppose we consider multiple step growth rates, i.e., intervals that span $t=0\\rightarrow{T}$ in timesteps of length $\\Delta{t}$, where $T=i\\Delta{t}$ for $i=1,2,\\dots$. Then, the multi-step growth rate $\\mu_{T}$ expression for a binomial process is given by (taken from lecture notes): \n",
    "$$\n",
    "\\boxed{\n",
    "\\mu_{T} = \\left(\\frac{1}{\\Delta{t}}\\right)\\;\\Bigl[k\\ln\\left(\\frac{u}{d}\\right)+i\\ln(d)\\Bigr] \\quad\\text{where}\\;k\\sim \\texttt{Binomial}(i,p)\n",
    "}\n",
    "$$\n",
    "\n",
    "Let's simulate the multi-step growth rate distribution for our randomly selected firm. \n",
    "\n",
    "__Unhide__ the code block below to see how we simulated the multi-step growth rate distribution. We simulate $i$ steps, `number_of_trials` times. In other words, we are looking at `number_of_trials` multi-step growth rates, each computed over `i` steps.\n",
    "\n",
    "We'll save the data in the `multiple_step_simulated_growth_array::Array{Float64,1}` variable."
   ]
  },
  {
   "cell_type": "code",
   "execution_count": 31,
   "id": "ee397ffb",
   "metadata": {},
   "outputs": [
    {
     "ename": "MethodError",
     "evalue": "MethodError: no method matching Binomial(::Int64, ::Nothing)\nThe type `Binomial` exists, but no method is defined for this combination of argument types when trying to construct it.\n\nClosest candidates are:\n  Binomial(::Integer, !Matched::Integer; check_args)\n   @ Distributions ~/.julia/packages/Distributions/YQSrn/src/univariate/discrete/binomial.jl:37\n  Binomial(::Integer, !Matched::Real; check_args)\n   @ Distributions ~/.julia/packages/Distributions/YQSrn/src/univariate/discrete/binomial.jl:32\n  Binomial(::Integer; check_args)\n   @ Distributions ~/.julia/packages/Distributions/YQSrn/src/univariate/discrete/binomial.jl:38\n  ...\n",
     "output_type": "error",
     "traceback": [
      "MethodError: no method matching Binomial(::Int64, ::Nothing)\n",
      "The type `Binomial` exists, but no method is defined for this combination of argument types when trying to construct it.\n",
      "\n",
      "Closest candidates are:\n",
      "  Binomial(::Integer, !Matched::Integer; check_args)\n",
      "   @ Distributions ~/.julia/packages/Distributions/YQSrn/src/univariate/discrete/binomial.jl:37\n",
      "  Binomial(::Integer, !Matched::Real; check_args)\n",
      "   @ Distributions ~/.julia/packages/Distributions/YQSrn/src/univariate/discrete/binomial.jl:32\n",
      "  Binomial(::Integer; check_args)\n",
      "   @ Distributions ~/.julia/packages/Distributions/YQSrn/src/univariate/discrete/binomial.jl:38\n",
      "  ...\n",
      "\n",
      "\n",
      "Stacktrace:\n",
      " [1] top-level scope\n",
      "   @ ~/Desktop/julia_work/CHEME-5660-Fall-2025/PS2-CHEME-5660-TEMPLATE-Fall-2025/jl_notebook_cell_df34fa98e69747e1a8f8a730347b8e2f_Y115sZmlsZQ==.jl:9"
     ]
    }
   ],
   "source": [
    "multiple_step_simulated_growth_array = let\n",
    "\n",
    "    # initialize -\n",
    "    u = ū\n",
    "    d = d̄\n",
    "    p = p̄\n",
    "    i = 252; # number of days we are simulating\n",
    "    number_of_trials = 1000; # number of trials to simulate (number of i length sequences)\n",
    "    day = Binomial(i, p); # initialize a Binomial random variable\n",
    "    simulated_growth_array = Array{Float64}(undef, number_of_trials);\n",
    "    \n",
    "    # main loop: simulate the growth rates\n",
    "    for j ∈ 1:number_of_trials\n",
    "        \n",
    "        # everyday is a random Bernoulli trial\n",
    "        Xⱼ = rand(day)\n",
    "        simulated_growth_array[j] = (1/(Δt))*(rand(day)*log(u/d)+i*log(d))\n",
    "    end\n",
    "\n",
    "    simulated_growth_array; # return -\n",
    "end;"
   ]
  },
  {
   "cell_type": "markdown",
   "id": "60ffc2ac",
   "metadata": {},
   "source": [
    "__Unhide__ the code block below to see how we visualized the multi-step growth rate sequence from our binomial lattice model.\n",
    "\n",
    "So what do we see? The blue line is a kernel density estimate (KDE) of the multi-step growth rate distribution generated by our binomial lattice model. The red line is a maximum likelihood estimate (MLE) fit of a normal distribution to the multi-step growth rate distribution.\n",
    "\n",
    "Is the blue line close to the red line? If so, this supports our claim that the multi-step growth rate distribution approaches a normal distribution as the number of steps increases."
   ]
  },
  {
   "cell_type": "code",
   "execution_count": 32,
   "id": "c3d51563",
   "metadata": {},
   "outputs": [
    {
     "ename": "UndefVarError",
     "evalue": "UndefVarError: `multiple_step_simulated_growth_array` not defined in `Main`\nSuggestion: check for spelling errors or missing imports.",
     "output_type": "error",
     "traceback": [
      "UndefVarError: `multiple_step_simulated_growth_array` not defined in `Main`\n",
      "Suggestion: check for spelling errors or missing imports.\n",
      "\n",
      "Stacktrace:\n",
      " [1] top-level scope\n",
      "   @ ~/Desktop/julia_work/CHEME-5660-Fall-2025/PS2-CHEME-5660-TEMPLATE-Fall-2025/jl_notebook_cell_df34fa98e69747e1a8f8a730347b8e2f_Y120sZmlsZQ==.jl:2"
     ]
    }
   ],
   "source": [
    "let\n",
    "    d = fit_mle(Normal, multiple_step_simulated_growth_array);\n",
    "    plot(d, c=:red, label=\"MLE Normal Fit\", lw=3);\n",
    "    density!(multiple_step_simulated_growth_array, c=:blue, label=\"KDE Fit\", lw=3)\n",
    "    plot!(bg=\"gray95\", background_color_outside=\"white\", framestyle = :box, fg_legend = :transparent);\n",
    "    xlabel!(\"Multiple-Step Growth Rate (1/years)\", fontsize=18)\n",
    "    ylabel!(\"Density (AU)\", fontsize=18)\n",
    "end"
   ]
  },
  {
   "cell_type": "markdown",
   "id": "c77cd135",
   "metadata": {},
   "source": [
    "### Discussion Questions\n",
    "1. As you change the number of steps (the `i` variable in the code block above), what do you observe? Do we approach a normal distribution (visually) as the number of steps increases?"
   ]
  },
  {
   "cell_type": "code",
   "execution_count": 33,
   "id": "c10608e7",
   "metadata": {},
   "outputs": [],
   "source": [
    "# Fill in your answer here."
   ]
  },
  {
   "cell_type": "code",
   "execution_count": 34,
   "id": "4ee36c4b",
   "metadata": {},
   "outputs": [],
   "source": [
    "did_I_answer_discussion_question_2 = nothing; # true if you answered question 2"
   ]
  },
  {
   "cell_type": "markdown",
   "id": "be6f1020",
   "metadata": {},
   "source": [
    "### Anderson Darling Test\n",
    "The eye test is one thing, but let's get a little more rigorous. Let's use the Anderson-Darling test to quantify how well the multi-step growth rate distribution fits a normal distribution.\n",
    "\n",
    "> __Null hypothesis:__ The Anderson–Darling test examines the null hypothesis that the data in vector $x$ come from the distribution $d$ against the alternative hypothesis that the sample is not drawn from $d$. This test reports a p-value, the probability that, assuming the null hypothesis is true (your data really are i.i.d. from $d$), the AD test statistic would be at least as extreme as the one computed from your data. \n",
    "\n",
    "Let's run the test."
   ]
  },
  {
   "cell_type": "code",
   "execution_count": 35,
   "id": "e7164a3a",
   "metadata": {},
   "outputs": [
    {
     "ename": "UndefVarError",
     "evalue": "UndefVarError: `multiple_step_simulated_growth_array` not defined in `Main`\nSuggestion: check for spelling errors or missing imports.",
     "output_type": "error",
     "traceback": [
      "UndefVarError: `multiple_step_simulated_growth_array` not defined in `Main`\n",
      "Suggestion: check for spelling errors or missing imports.\n",
      "\n",
      "Stacktrace:\n",
      " [1] top-level scope\n",
      "   @ ~/Desktop/julia_work/CHEME-5660-Fall-2025/PS2-CHEME-5660-TEMPLATE-Fall-2025/jl_notebook_cell_df34fa98e69747e1a8f8a730347b8e2f_Y125sZmlsZQ==.jl:4"
     ]
    }
   ],
   "source": [
    "let\n",
    "\n",
    "    # initialize -\n",
    "    μ = multiple_step_simulated_growth_array; # grab the multi-step growth rate array\n",
    "    d = fit_mle(Normal, μ);   # fit the distribution using maximum likelihood estimation\n",
    "\n",
    "    # TODO: Uncomment the line below to perform the Anderson-Darling test\n",
    "    # TODO: reject the null hypothesis => NOT from a normal distribution\n",
    "    # TODO: A^2 big => data CDF does not fit theoretical CDF well\n",
    "    # ad_test_normal = HypothesisTests.OneSampleADTest(μ, d);\n",
    "end"
   ]
  },
  {
   "cell_type": "markdown",
   "id": "a5b05622",
   "metadata": {},
   "source": [
    "So what do we see?"
   ]
  },
  {
   "cell_type": "code",
   "execution_count": 36,
   "id": "337bede7",
   "metadata": {},
   "outputs": [],
   "source": [
    "does_anderson_darling_test_suggest_normality = nothing; # set to true if we fail to reject the null hypothesis, false otherwise"
   ]
  },
  {
   "cell_type": "markdown",
   "id": "7d3f1e23",
   "metadata": {},
   "source": [
    "## Tests\n",
    "In the code block below, we run a few tests to check if your notebook is set up and running correctly. If you see any errors, please check your code and fix the issues."
   ]
  },
  {
   "cell_type": "code",
   "execution_count": 37,
   "id": "bc4aeed6",
   "metadata": {},
   "outputs": [
    {
     "name": "stdout",
     "output_type": "stream",
     "text": [
      "Growth Rate Calculation: \u001b[91m\u001b[1mTest Failed\u001b[22m\u001b[39m at \u001b[39m\u001b[1m/Users/jeffreyvarner/Desktop/julia_work/CHEME-5660-Fall-2025/PS2-CHEME-5660-TEMPLATE-Fall-2025/jl_notebook_cell_df34fa98e69747e1a8f8a730347b8e2f_Y132sZmlsZQ==.jl:7\u001b[22m\n",
      "  Expression: isnothing(log_growth_array) == false\n",
      "   Evaluated: true == false\n",
      "\n",
      "Stacktrace:\n",
      " [1] \u001b[0m\u001b[1mmacro expansion\u001b[22m\n",
      "\u001b[90m   @\u001b[39m \u001b[90m~/.julia/juliaup/julia-1.11.6+0.aarch64.apple.darwin14/share/julia/stdlib/v1.11/Test/src/\u001b[39m\u001b[90m\u001b[4mTest.jl:680\u001b[24m\u001b[39m\u001b[90m [inlined]\u001b[39m\n",
      " [2] \u001b[0m\u001b[1mmacro expansion\u001b[22m\n",
      "\u001b[90m   @\u001b[39m \u001b[90m~/Desktop/julia_work/CHEME-5660-Fall-2025/PS2-CHEME-5660-TEMPLATE-Fall-2025/\u001b[39m\u001b[90m\u001b[4mjl_notebook_cell_df34fa98e69747e1a8f8a730347b8e2f_Y132sZmlsZQ==.jl:7\u001b[24m\u001b[39m\u001b[90m [inlined]\u001b[39m\n",
      " [3] \u001b[0m\u001b[1mmacro expansion\u001b[22m\n",
      "\u001b[90m   @\u001b[39m \u001b[90m~/.julia/juliaup/julia-1.11.6+0.aarch64.apple.darwin14/share/julia/stdlib/v1.11/Test/src/\u001b[39m\u001b[90m\u001b[4mTest.jl:1709\u001b[24m\u001b[39m\u001b[90m [inlined]\u001b[39m\n",
      " [4] \u001b[0m\u001b[1mmacro expansion\u001b[22m\n",
      "\u001b[90m   @\u001b[39m \u001b[90m~/Desktop/julia_work/CHEME-5660-Fall-2025/PS2-CHEME-5660-TEMPLATE-Fall-2025/\u001b[39m\u001b[90m\u001b[4mjl_notebook_cell_df34fa98e69747e1a8f8a730347b8e2f_Y132sZmlsZQ==.jl:7\u001b[24m\u001b[39m\u001b[90m [inlined]\u001b[39m\n",
      " [5] \u001b[0m\u001b[1mmacro expansion\u001b[22m\n",
      "\u001b[90m   @\u001b[39m \u001b[90m~/.julia/juliaup/julia-1.11.6+0.aarch64.apple.darwin14/share/julia/stdlib/v1.11/Test/src/\u001b[39m\u001b[90m\u001b[4mTest.jl:1709\u001b[24m\u001b[39m\u001b[90m [inlined]\u001b[39m\n",
      " [6] top-level scope\n",
      "\u001b[90m   @\u001b[39m \u001b[90m~/Desktop/julia_work/CHEME-5660-Fall-2025/PS2-CHEME-5660-TEMPLATE-Fall-2025/\u001b[39m\u001b[90m\u001b[4mjl_notebook_cell_df34fa98e69747e1a8f8a730347b8e2f_Y132sZmlsZQ==.jl:6\u001b[24m\u001b[39m\n",
      "Growth Rate Calculation: \u001b[91m\u001b[1mError During Test\u001b[22m\u001b[39m at \u001b[39m\u001b[1m/Users/jeffreyvarner/Desktop/julia_work/CHEME-5660-Fall-2025/PS2-CHEME-5660-TEMPLATE-Fall-2025/jl_notebook_cell_df34fa98e69747e1a8f8a730347b8e2f_Y132sZmlsZQ==.jl:8\u001b[22m\n",
      "  Test threw exception\n",
      "  Expression: isempty(log_growth_array) == false\n",
      "  MethodError: no method matching iterate(::Nothing)\n",
      "  The function `iterate` exists, but no method is defined for this combination of argument types.\n",
      "  \n",
      "  \u001b[0mClosest candidates are:\n",
      "  \u001b[0m  iterate(\u001b[91m::CSV.Chunks\u001b[39m)\n",
      "  \u001b[0m\u001b[90m   @\u001b[39m \u001b[35mCSV\u001b[39m \u001b[90m~/.julia/packages/CSV/XLcqT/src/\u001b[39m\u001b[90m\u001b[4mchunks.jl:91\u001b[24m\u001b[39m\n",
      "  \u001b[0m  iterate(\u001b[91m::CSV.Chunks\u001b[39m, \u001b[91m::Any\u001b[39m)\n",
      "  \u001b[0m\u001b[90m   @\u001b[39m \u001b[35mCSV\u001b[39m \u001b[90m~/.julia/packages/CSV/XLcqT/src/\u001b[39m\u001b[90m\u001b[4mchunks.jl:91\u001b[24m\u001b[39m\n",
      "  \u001b[0m  iterate(\u001b[91m::Base.EnvDict\u001b[39m)\n",
      "  \u001b[0m\u001b[90m   @\u001b[39m \u001b[90mBase\u001b[39m \u001b[90m\u001b[4menv.jl:216\u001b[24m\u001b[39m\n",
      "  \u001b[0m  ...\n",
      "  \n",
      "  Stacktrace:\n",
      "   [1] \u001b[0m\u001b[1misempty\u001b[22m\u001b[0m\u001b[1m(\u001b[22m\u001b[90mitr\u001b[39m::\u001b[0mNothing\u001b[0m\u001b[1m)\u001b[22m\n",
      "  \u001b[90m   @\u001b[39m \u001b[90mBase\u001b[39m \u001b[90m./\u001b[39m\u001b[90m\u001b[4messentials.jl:1121\u001b[24m\u001b[39m\n",
      "   [2] \u001b[0m\u001b[1mmacro expansion\u001b[22m\n",
      "  \u001b[90m   @\u001b[39m \u001b[90m~/.julia/juliaup/julia-1.11.6+0.aarch64.apple.darwin14/share/julia/stdlib/v1.11/Test/src/\u001b[39m\u001b[90m\u001b[4mTest.jl:677\u001b[24m\u001b[39m\u001b[90m [inlined]\u001b[39m\n",
      "   [3] \u001b[0m\u001b[1mmacro expansion\u001b[22m\n",
      "  \u001b[90m   @\u001b[39m \u001b[90m~/Desktop/julia_work/CHEME-5660-Fall-2025/PS2-CHEME-5660-TEMPLATE-Fall-2025/\u001b[39m\u001b[90m\u001b[4mjl_notebook_cell_df34fa98e69747e1a8f8a730347b8e2f_Y132sZmlsZQ==.jl:8\u001b[24m\u001b[39m\u001b[90m [inlined]\u001b[39m\n",
      "   [4] \u001b[0m\u001b[1mmacro expansion\u001b[22m\n",
      "  \u001b[90m   @\u001b[39m \u001b[90m~/.julia/juliaup/julia-1.11.6+0.aarch64.apple.darwin14/share/julia/stdlib/v1.11/Test/src/\u001b[39m\u001b[90m\u001b[4mTest.jl:1709\u001b[24m\u001b[39m\u001b[90m [inlined]\u001b[39m\n",
      "   [5] \u001b[0m\u001b[1mmacro expansion\u001b[22m\n",
      "  \u001b[90m   @\u001b[39m \u001b[90m~/Desktop/julia_work/CHEME-5660-Fall-2025/PS2-CHEME-5660-TEMPLATE-Fall-2025/\u001b[39m\u001b[90m\u001b[4mjl_notebook_cell_df34fa98e69747e1a8f8a730347b8e2f_Y132sZmlsZQ==.jl:7\u001b[24m\u001b[39m\u001b[90m [inlined]\u001b[39m\n",
      "   [6] \u001b[0m\u001b[1mmacro expansion\u001b[22m\n",
      "  \u001b[90m   @\u001b[39m \u001b[90m~/.julia/juliaup/julia-1.11.6+0.aarch64.apple.darwin14/share/julia/stdlib/v1.11/Test/src/\u001b[39m\u001b[90m\u001b[4mTest.jl:1709\u001b[24m\u001b[39m\u001b[90m [inlined]\u001b[39m\n",
      "   [7] top-level scope\n",
      "  \u001b[90m   @\u001b[39m \u001b[90m~/Desktop/julia_work/CHEME-5660-Fall-2025/PS2-CHEME-5660-TEMPLATE-Fall-2025/\u001b[39m\u001b[90m\u001b[4mjl_notebook_cell_df34fa98e69747e1a8f8a730347b8e2f_Y132sZmlsZQ==.jl:6\u001b[24m\u001b[39m\n",
      "Growth Rate Calculation: \u001b[91m\u001b[1mError During Test\u001b[22m\u001b[39m at \u001b[39m\u001b[1m/Users/jeffreyvarner/Desktop/julia_work/CHEME-5660-Fall-2025/PS2-CHEME-5660-TEMPLATE-Fall-2025/jl_notebook_cell_df34fa98e69747e1a8f8a730347b8e2f_Y132sZmlsZQ==.jl:9\u001b[22m\n",
      "  Test threw exception\n",
      "  Expression: length(log_growth_array) == maximum_number_trading_days - 1\n",
      "  MethodError: no method matching length(::Nothing)\n",
      "  The function `length` exists, but no method is defined for this combination of argument types.\n",
      "  \n",
      "  \u001b[0mClosest candidates are:\n",
      "  \u001b[0m  length(\u001b[91m::CSV.Chunks\u001b[39m)\n",
      "  \u001b[0m\u001b[90m   @\u001b[39m \u001b[35mCSV\u001b[39m \u001b[90m~/.julia/packages/CSV/XLcqT/src/\u001b[39m\u001b[90m\u001b[4mchunks.jl:88\u001b[24m\u001b[39m\n",
      "  \u001b[0m  length(\u001b[91m::Base.EnvDict\u001b[39m)\n",
      "  \u001b[0m\u001b[90m   @\u001b[39m \u001b[90mBase\u001b[39m \u001b[90m\u001b[4menv.jl:232\u001b[24m\u001b[39m\n",
      "  \u001b[0m  length(\u001b[91m::LibGit2.GitBlob\u001b[39m)\n",
      "  \u001b[0m\u001b[90m   @\u001b[39m \u001b[36mLibGit2\u001b[39m \u001b[90m~/.julia/juliaup/julia-1.11.6+0.aarch64.apple.darwin14/share/julia/stdlib/v1.11/LibGit2/src/\u001b[39m\u001b[90m\u001b[4mblob.jl:3\u001b[24m\u001b[39m\n",
      "  \u001b[0m  ...\n",
      "  \n",
      "  Stacktrace:\n",
      "   [1] \u001b[0m\u001b[1mmacro expansion\u001b[22m\n",
      "  \u001b[90m   @\u001b[39m \u001b[90m~/.julia/juliaup/julia-1.11.6+0.aarch64.apple.darwin14/share/julia/stdlib/v1.11/Test/src/\u001b[39m\u001b[90m\u001b[4mTest.jl:677\u001b[24m\u001b[39m\u001b[90m [inlined]\u001b[39m\n",
      "   [2] \u001b[0m\u001b[1mmacro expansion\u001b[22m\n",
      "  \u001b[90m   @\u001b[39m \u001b[90m~/Desktop/julia_work/CHEME-5660-Fall-2025/PS2-CHEME-5660-TEMPLATE-Fall-2025/\u001b[39m\u001b[90m\u001b[4mjl_notebook_cell_df34fa98e69747e1a8f8a730347b8e2f_Y132sZmlsZQ==.jl:9\u001b[24m\u001b[39m\u001b[90m [inlined]\u001b[39m\n",
      "   [3] \u001b[0m\u001b[1mmacro expansion\u001b[22m\n",
      "  \u001b[90m   @\u001b[39m \u001b[90m~/.julia/juliaup/julia-1.11.6+0.aarch64.apple.darwin14/share/julia/stdlib/v1.11/Test/src/\u001b[39m\u001b[90m\u001b[4mTest.jl:1709\u001b[24m\u001b[39m\u001b[90m [inlined]\u001b[39m\n",
      "   [4] \u001b[0m\u001b[1mmacro expansion\u001b[22m\n",
      "  \u001b[90m   @\u001b[39m \u001b[90m~/Desktop/julia_work/CHEME-5660-Fall-2025/PS2-CHEME-5660-TEMPLATE-Fall-2025/\u001b[39m\u001b[90m\u001b[4mjl_notebook_cell_df34fa98e69747e1a8f8a730347b8e2f_Y132sZmlsZQ==.jl:7\u001b[24m\u001b[39m\u001b[90m [inlined]\u001b[39m\n",
      "   [5] \u001b[0m\u001b[1mmacro expansion\u001b[22m\n",
      "  \u001b[90m   @\u001b[39m \u001b[90m~/.julia/juliaup/julia-1.11.6+0.aarch64.apple.darwin14/share/julia/stdlib/v1.11/Test/src/\u001b[39m\u001b[90m\u001b[4mTest.jl:1709\u001b[24m\u001b[39m\u001b[90m [inlined]\u001b[39m\n",
      "   [6] top-level scope\n",
      "  \u001b[90m   @\u001b[39m \u001b[90m~/Desktop/julia_work/CHEME-5660-Fall-2025/PS2-CHEME-5660-TEMPLATE-Fall-2025/\u001b[39m\u001b[90m\u001b[4mjl_notebook_cell_df34fa98e69747e1a8f8a730347b8e2f_Y132sZmlsZQ==.jl:6\u001b[24m\u001b[39m\n",
      "Growth Rate Calculation: \u001b[91m\u001b[1mTest Failed\u001b[22m\u001b[39m at \u001b[39m\u001b[1m/Users/jeffreyvarner/Desktop/julia_work/CHEME-5660-Fall-2025/PS2-CHEME-5660-TEMPLATE-Fall-2025/jl_notebook_cell_df34fa98e69747e1a8f8a730347b8e2f_Y132sZmlsZQ==.jl:10\u001b[22m\n",
      "  Expression: is_observed_growth_rate_distribution_normal == false\n",
      "   Evaluated: nothing == false\n",
      "\n",
      "Stacktrace:\n",
      " [1] \u001b[0m\u001b[1mmacro expansion\u001b[22m\n",
      "\u001b[90m   @\u001b[39m \u001b[90m~/.julia/juliaup/julia-1.11.6+0.aarch64.apple.darwin14/share/julia/stdlib/v1.11/Test/src/\u001b[39m\u001b[90m\u001b[4mTest.jl:680\u001b[24m\u001b[39m\u001b[90m [inlined]\u001b[39m\n",
      " [2] \u001b[0m\u001b[1mmacro expansion\u001b[22m\n",
      "\u001b[90m   @\u001b[39m \u001b[90m~/Desktop/julia_work/CHEME-5660-Fall-2025/PS2-CHEME-5660-TEMPLATE-Fall-2025/\u001b[39m\u001b[90m\u001b[4mjl_notebook_cell_df34fa98e69747e1a8f8a730347b8e2f_Y132sZmlsZQ==.jl:10\u001b[24m\u001b[39m\u001b[90m [inlined]\u001b[39m\n",
      " [3] \u001b[0m\u001b[1mmacro expansion\u001b[22m\n",
      "\u001b[90m   @\u001b[39m \u001b[90m~/.julia/juliaup/julia-1.11.6+0.aarch64.apple.darwin14/share/julia/stdlib/v1.11/Test/src/\u001b[39m\u001b[90m\u001b[4mTest.jl:1709\u001b[24m\u001b[39m\u001b[90m [inlined]\u001b[39m\n",
      " [4] \u001b[0m\u001b[1mmacro expansion\u001b[22m\n",
      "\u001b[90m   @\u001b[39m \u001b[90m~/Desktop/julia_work/CHEME-5660-Fall-2025/PS2-CHEME-5660-TEMPLATE-Fall-2025/\u001b[39m\u001b[90m\u001b[4mjl_notebook_cell_df34fa98e69747e1a8f8a730347b8e2f_Y132sZmlsZQ==.jl:7\u001b[24m\u001b[39m\u001b[90m [inlined]\u001b[39m\n",
      " [5] \u001b[0m\u001b[1mmacro expansion\u001b[22m\n",
      "\u001b[90m   @\u001b[39m \u001b[90m~/.julia/juliaup/julia-1.11.6+0.aarch64.apple.darwin14/share/julia/stdlib/v1.11/Test/src/\u001b[39m\u001b[90m\u001b[4mTest.jl:1709\u001b[24m\u001b[39m\u001b[90m [inlined]\u001b[39m\n",
      " [6] top-level scope\n",
      "\u001b[90m   @\u001b[39m \u001b[90m~/Desktop/julia_work/CHEME-5660-Fall-2025/PS2-CHEME-5660-TEMPLATE-Fall-2025/\u001b[39m\u001b[90m\u001b[4mjl_notebook_cell_df34fa98e69747e1a8f8a730347b8e2f_Y132sZmlsZQ==.jl:6\u001b[24m\u001b[39m\n",
      "Random Test Model: \u001b[91m\u001b[1mTest Failed\u001b[22m\u001b[39m at \u001b[39m\u001b[1m/Users/jeffreyvarner/Desktop/julia_work/CHEME-5660-Fall-2025/PS2-CHEME-5660-TEMPLATE-Fall-2025/jl_notebook_cell_df34fa98e69747e1a8f8a730347b8e2f_Y132sZmlsZQ==.jl:15\u001b[22m\n",
      "  Expression: isnothing(random_test_model) == false\n",
      "   Evaluated: true == false\n",
      "\n",
      "Stacktrace:\n",
      " [1] \u001b[0m\u001b[1mmacro expansion\u001b[22m\n",
      "\u001b[90m   @\u001b[39m \u001b[90m~/.julia/juliaup/julia-1.11.6+0.aarch64.apple.darwin14/share/julia/stdlib/v1.11/Test/src/\u001b[39m\u001b[90m\u001b[4mTest.jl:680\u001b[24m\u001b[39m\u001b[90m [inlined]\u001b[39m\n",
      " [2] \u001b[0m\u001b[1mmacro expansion\u001b[22m\n",
      "\u001b[90m   @\u001b[39m \u001b[90m~/Desktop/julia_work/CHEME-5660-Fall-2025/PS2-CHEME-5660-TEMPLATE-Fall-2025/\u001b[39m\u001b[90m\u001b[4mjl_notebook_cell_df34fa98e69747e1a8f8a730347b8e2f_Y132sZmlsZQ==.jl:15\u001b[24m\u001b[39m\u001b[90m [inlined]\u001b[39m\n",
      " [3] \u001b[0m\u001b[1mmacro expansion\u001b[22m\n",
      "\u001b[90m   @\u001b[39m \u001b[90m~/.julia/juliaup/julia-1.11.6+0.aarch64.apple.darwin14/share/julia/stdlib/v1.11/Test/src/\u001b[39m\u001b[90m\u001b[4mTest.jl:1709\u001b[24m\u001b[39m\u001b[90m [inlined]\u001b[39m\n",
      " [4] \u001b[0m\u001b[1mmacro expansion\u001b[22m\n",
      "\u001b[90m   @\u001b[39m \u001b[90m~/Desktop/julia_work/CHEME-5660-Fall-2025/PS2-CHEME-5660-TEMPLATE-Fall-2025/\u001b[39m\u001b[90m\u001b[4mjl_notebook_cell_df34fa98e69747e1a8f8a730347b8e2f_Y132sZmlsZQ==.jl:15\u001b[24m\u001b[39m\u001b[90m [inlined]\u001b[39m\n",
      " [5] \u001b[0m\u001b[1mmacro expansion\u001b[22m\n",
      "\u001b[90m   @\u001b[39m \u001b[90m~/.julia/juliaup/julia-1.11.6+0.aarch64.apple.darwin14/share/julia/stdlib/v1.11/Test/src/\u001b[39m\u001b[90m\u001b[4mTest.jl:1709\u001b[24m\u001b[39m\u001b[90m [inlined]\u001b[39m\n",
      " [6] top-level scope\n",
      "\u001b[90m   @\u001b[39m \u001b[90m~/Desktop/julia_work/CHEME-5660-Fall-2025/PS2-CHEME-5660-TEMPLATE-Fall-2025/\u001b[39m\u001b[90m\u001b[4mjl_notebook_cell_df34fa98e69747e1a8f8a730347b8e2f_Y132sZmlsZQ==.jl:6\u001b[24m\u001b[39m\n",
      "Random Test Model: \u001b[91m\u001b[1mError During Test\u001b[22m\u001b[39m at \u001b[39m\u001b[1m/Users/jeffreyvarner/Desktop/julia_work/CHEME-5660-Fall-2025/PS2-CHEME-5660-TEMPLATE-Fall-2025/jl_notebook_cell_df34fa98e69747e1a8f8a730347b8e2f_Y132sZmlsZQ==.jl:16\u001b[22m\n",
      "  Test threw exception\n",
      "  Expression: isempty(random_test_model.data) == false\n",
      "  type Nothing has no field data\n",
      "  Stacktrace:\n",
      "   [1] \u001b[0m\u001b[1mgetproperty\u001b[22m\u001b[0m\u001b[1m(\u001b[22m\u001b[90mx\u001b[39m::\u001b[0mNothing, \u001b[90mf\u001b[39m::\u001b[0mSymbol\u001b[0m\u001b[1m)\u001b[22m\n",
      "  \u001b[90m   @\u001b[39m \u001b[90mBase\u001b[39m \u001b[90m./\u001b[39m\u001b[90m\u001b[4mBase.jl:49\u001b[24m\u001b[39m\n",
      "   [2] \u001b[0m\u001b[1mmacro expansion\u001b[22m\n",
      "  \u001b[90m   @\u001b[39m \u001b[90m~/.julia/juliaup/julia-1.11.6+0.aarch64.apple.darwin14/share/julia/stdlib/v1.11/Test/src/\u001b[39m\u001b[90m\u001b[4mTest.jl:677\u001b[24m\u001b[39m\u001b[90m [inlined]\u001b[39m\n",
      "   [3] \u001b[0m\u001b[1mmacro expansion\u001b[22m\n",
      "  \u001b[90m   @\u001b[39m \u001b[90m~/Desktop/julia_work/CHEME-5660-Fall-2025/PS2-CHEME-5660-TEMPLATE-Fall-2025/\u001b[39m\u001b[90m\u001b[4mjl_notebook_cell_df34fa98e69747e1a8f8a730347b8e2f_Y132sZmlsZQ==.jl:16\u001b[24m\u001b[39m\u001b[90m [inlined]\u001b[39m\n",
      "   [4] \u001b[0m\u001b[1mmacro expansion\u001b[22m\n",
      "  \u001b[90m   @\u001b[39m \u001b[90m~/.julia/juliaup/julia-1.11.6+0.aarch64.apple.darwin14/share/julia/stdlib/v1.11/Test/src/\u001b[39m\u001b[90m\u001b[4mTest.jl:1709\u001b[24m\u001b[39m\u001b[90m [inlined]\u001b[39m\n",
      "   [5] \u001b[0m\u001b[1mmacro expansion\u001b[22m\n",
      "  \u001b[90m   @\u001b[39m \u001b[90m~/Desktop/julia_work/CHEME-5660-Fall-2025/PS2-CHEME-5660-TEMPLATE-Fall-2025/\u001b[39m\u001b[90m\u001b[4mjl_notebook_cell_df34fa98e69747e1a8f8a730347b8e2f_Y132sZmlsZQ==.jl:15\u001b[24m\u001b[39m\u001b[90m [inlined]\u001b[39m\n",
      "   [6] \u001b[0m\u001b[1mmacro expansion\u001b[22m\n",
      "  \u001b[90m   @\u001b[39m \u001b[90m~/.julia/juliaup/julia-1.11.6+0.aarch64.apple.darwin14/share/julia/stdlib/v1.11/Test/src/\u001b[39m\u001b[90m\u001b[4mTest.jl:1709\u001b[24m\u001b[39m\u001b[90m [inlined]\u001b[39m\n",
      "   [7] top-level scope\n",
      "  \u001b[90m   @\u001b[39m \u001b[90m~/Desktop/julia_work/CHEME-5660-Fall-2025/PS2-CHEME-5660-TEMPLATE-Fall-2025/\u001b[39m\u001b[90m\u001b[4mjl_notebook_cell_df34fa98e69747e1a8f8a730347b8e2f_Y132sZmlsZQ==.jl:6\u001b[24m\u001b[39m\n",
      "Random Test Model: \u001b[91m\u001b[1mError During Test\u001b[22m\u001b[39m at \u001b[39m\u001b[1m/Users/jeffreyvarner/Desktop/julia_work/CHEME-5660-Fall-2025/PS2-CHEME-5660-TEMPLATE-Fall-2025/jl_notebook_cell_df34fa98e69747e1a8f8a730347b8e2f_Y132sZmlsZQ==.jl:17\u001b[22m\n",
      "  Test threw exception\n",
      "  Expression: isempty(random_test_model.connectivity) == false\n",
      "  type Nothing has no field connectivity\n",
      "  Stacktrace:\n",
      "   [1] \u001b[0m\u001b[1mgetproperty\u001b[22m\u001b[0m\u001b[1m(\u001b[22m\u001b[90mx\u001b[39m::\u001b[0mNothing, \u001b[90mf\u001b[39m::\u001b[0mSymbol\u001b[0m\u001b[1m)\u001b[22m\n",
      "  \u001b[90m   @\u001b[39m \u001b[90mBase\u001b[39m \u001b[90m./\u001b[39m\u001b[90m\u001b[4mBase.jl:49\u001b[24m\u001b[39m\n",
      "   [2] \u001b[0m\u001b[1mmacro expansion\u001b[22m\n",
      "  \u001b[90m   @\u001b[39m \u001b[90m~/.julia/juliaup/julia-1.11.6+0.aarch64.apple.darwin14/share/julia/stdlib/v1.11/Test/src/\u001b[39m\u001b[90m\u001b[4mTest.jl:677\u001b[24m\u001b[39m\u001b[90m [inlined]\u001b[39m\n",
      "   [3] \u001b[0m\u001b[1mmacro expansion\u001b[22m\n",
      "  \u001b[90m   @\u001b[39m \u001b[90m~/Desktop/julia_work/CHEME-5660-Fall-2025/PS2-CHEME-5660-TEMPLATE-Fall-2025/\u001b[39m\u001b[90m\u001b[4mjl_notebook_cell_df34fa98e69747e1a8f8a730347b8e2f_Y132sZmlsZQ==.jl:17\u001b[24m\u001b[39m\u001b[90m [inlined]\u001b[39m\n",
      "   [4] \u001b[0m\u001b[1mmacro expansion\u001b[22m\n",
      "  \u001b[90m   @\u001b[39m \u001b[90m~/.julia/juliaup/julia-1.11.6+0.aarch64.apple.darwin14/share/julia/stdlib/v1.11/Test/src/\u001b[39m\u001b[90m\u001b[4mTest.jl:1709\u001b[24m\u001b[39m\u001b[90m [inlined]\u001b[39m\n",
      "   [5] \u001b[0m\u001b[1mmacro expansion\u001b[22m\n",
      "  \u001b[90m   @\u001b[39m \u001b[90m~/Desktop/julia_work/CHEME-5660-Fall-2025/PS2-CHEME-5660-TEMPLATE-Fall-2025/\u001b[39m\u001b[90m\u001b[4mjl_notebook_cell_df34fa98e69747e1a8f8a730347b8e2f_Y132sZmlsZQ==.jl:15\u001b[24m\u001b[39m\u001b[90m [inlined]\u001b[39m\n",
      "   [6] \u001b[0m\u001b[1mmacro expansion\u001b[22m\n",
      "  \u001b[90m   @\u001b[39m \u001b[90m~/.julia/juliaup/julia-1.11.6+0.aarch64.apple.darwin14/share/julia/stdlib/v1.11/Test/src/\u001b[39m\u001b[90m\u001b[4mTest.jl:1709\u001b[24m\u001b[39m\u001b[90m [inlined]\u001b[39m\n",
      "   [7] top-level scope\n",
      "  \u001b[90m   @\u001b[39m \u001b[90m~/Desktop/julia_work/CHEME-5660-Fall-2025/PS2-CHEME-5660-TEMPLATE-Fall-2025/\u001b[39m\u001b[90m\u001b[4mjl_notebook_cell_df34fa98e69747e1a8f8a730347b8e2f_Y132sZmlsZQ==.jl:6\u001b[24m\u001b[39m\n",
      "Random Test Model: \u001b[91m\u001b[1mError During Test\u001b[22m\u001b[39m at \u001b[39m\u001b[1m/Users/jeffreyvarner/Desktop/julia_work/CHEME-5660-Fall-2025/PS2-CHEME-5660-TEMPLATE-Fall-2025/jl_notebook_cell_df34fa98e69747e1a8f8a730347b8e2f_Y132sZmlsZQ==.jl:18\u001b[22m\n",
      "  Test threw exception\n",
      "  Expression: isempty(random_test_model.levels) == false\n",
      "  type Nothing has no field levels\n",
      "  Stacktrace:\n",
      "   [1] \u001b[0m\u001b[1mgetproperty\u001b[22m\u001b[0m\u001b[1m(\u001b[22m\u001b[90mx\u001b[39m::\u001b[0mNothing, \u001b[90mf\u001b[39m::\u001b[0mSymbol\u001b[0m\u001b[1m)\u001b[22m\n",
      "  \u001b[90m   @\u001b[39m \u001b[90mBase\u001b[39m \u001b[90m./\u001b[39m\u001b[90m\u001b[4mBase.jl:49\u001b[24m\u001b[39m\n",
      "   [2] \u001b[0m\u001b[1mmacro expansion\u001b[22m\n",
      "  \u001b[90m   @\u001b[39m \u001b[90m~/.julia/juliaup/julia-1.11.6+0.aarch64.apple.darwin14/share/julia/stdlib/v1.11/Test/src/\u001b[39m\u001b[90m\u001b[4mTest.jl:677\u001b[24m\u001b[39m\u001b[90m [inlined]\u001b[39m\n",
      "   [3] \u001b[0m\u001b[1mmacro expansion\u001b[22m\n",
      "  \u001b[90m   @\u001b[39m \u001b[90m~/Desktop/julia_work/CHEME-5660-Fall-2025/PS2-CHEME-5660-TEMPLATE-Fall-2025/\u001b[39m\u001b[90m\u001b[4mjl_notebook_cell_df34fa98e69747e1a8f8a730347b8e2f_Y132sZmlsZQ==.jl:18\u001b[24m\u001b[39m\u001b[90m [inlined]\u001b[39m\n",
      "   [4] \u001b[0m\u001b[1mmacro expansion\u001b[22m\n",
      "  \u001b[90m   @\u001b[39m \u001b[90m~/.julia/juliaup/julia-1.11.6+0.aarch64.apple.darwin14/share/julia/stdlib/v1.11/Test/src/\u001b[39m\u001b[90m\u001b[4mTest.jl:1709\u001b[24m\u001b[39m\u001b[90m [inlined]\u001b[39m\n",
      "   [5] \u001b[0m\u001b[1mmacro expansion\u001b[22m\n",
      "  \u001b[90m   @\u001b[39m \u001b[90m~/Desktop/julia_work/CHEME-5660-Fall-2025/PS2-CHEME-5660-TEMPLATE-Fall-2025/\u001b[39m\u001b[90m\u001b[4mjl_notebook_cell_df34fa98e69747e1a8f8a730347b8e2f_Y132sZmlsZQ==.jl:15\u001b[24m\u001b[39m\u001b[90m [inlined]\u001b[39m\n",
      "   [6] \u001b[0m\u001b[1mmacro expansion\u001b[22m\n",
      "  \u001b[90m   @\u001b[39m \u001b[90m~/.julia/juliaup/julia-1.11.6+0.aarch64.apple.darwin14/share/julia/stdlib/v1.11/Test/src/\u001b[39m\u001b[90m\u001b[4mTest.jl:1709\u001b[24m\u001b[39m\u001b[90m [inlined]\u001b[39m\n",
      "   [7] top-level scope\n",
      "  \u001b[90m   @\u001b[39m \u001b[90m~/Desktop/julia_work/CHEME-5660-Fall-2025/PS2-CHEME-5660-TEMPLATE-Fall-2025/\u001b[39m\u001b[90m\u001b[4mjl_notebook_cell_df34fa98e69747e1a8f8a730347b8e2f_Y132sZmlsZQ==.jl:6\u001b[24m\u001b[39m\n",
      "Figures, Tables and DQs: \u001b[91m\u001b[1mTest Failed\u001b[22m\u001b[39m at \u001b[39m\u001b[1m/Users/jeffreyvarner/Desktop/julia_work/CHEME-5660-Fall-2025/PS2-CHEME-5660-TEMPLATE-Fall-2025/jl_notebook_cell_df34fa98e69747e1a8f8a730347b8e2f_Y132sZmlsZQ==.jl:23\u001b[22m\n",
      "  Expression: do_I_see_price_simulation_figure == true\n",
      "   Evaluated: nothing == true\n",
      "\n",
      "Stacktrace:\n",
      " [1] \u001b[0m\u001b[1mmacro expansion\u001b[22m\n",
      "\u001b[90m   @\u001b[39m \u001b[90m~/.julia/juliaup/julia-1.11.6+0.aarch64.apple.darwin14/share/julia/stdlib/v1.11/Test/src/\u001b[39m\u001b[90m\u001b[4mTest.jl:680\u001b[24m\u001b[39m\u001b[90m [inlined]\u001b[39m\n",
      " [2] \u001b[0m\u001b[1mmacro expansion\u001b[22m\n",
      "\u001b[90m   @\u001b[39m \u001b[90m~/Desktop/julia_work/CHEME-5660-Fall-2025/PS2-CHEME-5660-TEMPLATE-Fall-2025/\u001b[39m\u001b[90m\u001b[4mjl_notebook_cell_df34fa98e69747e1a8f8a730347b8e2f_Y132sZmlsZQ==.jl:23\u001b[24m\u001b[39m\u001b[90m [inlined]\u001b[39m\n",
      " [3] \u001b[0m\u001b[1mmacro expansion\u001b[22m\n",
      "\u001b[90m   @\u001b[39m \u001b[90m~/.julia/juliaup/julia-1.11.6+0.aarch64.apple.darwin14/share/julia/stdlib/v1.11/Test/src/\u001b[39m\u001b[90m\u001b[4mTest.jl:1709\u001b[24m\u001b[39m\u001b[90m [inlined]\u001b[39m\n",
      " [4] \u001b[0m\u001b[1mmacro expansion\u001b[22m\n",
      "\u001b[90m   @\u001b[39m \u001b[90m~/Desktop/julia_work/CHEME-5660-Fall-2025/PS2-CHEME-5660-TEMPLATE-Fall-2025/\u001b[39m\u001b[90m\u001b[4mjl_notebook_cell_df34fa98e69747e1a8f8a730347b8e2f_Y132sZmlsZQ==.jl:23\u001b[24m\u001b[39m\u001b[90m [inlined]\u001b[39m\n",
      " [5] \u001b[0m\u001b[1mmacro expansion\u001b[22m\n",
      "\u001b[90m   @\u001b[39m \u001b[90m~/.julia/juliaup/julia-1.11.6+0.aarch64.apple.darwin14/share/julia/stdlib/v1.11/Test/src/\u001b[39m\u001b[90m\u001b[4mTest.jl:1709\u001b[24m\u001b[39m\u001b[90m [inlined]\u001b[39m\n",
      " [6] top-level scope\n",
      "\u001b[90m   @\u001b[39m \u001b[90m~/Desktop/julia_work/CHEME-5660-Fall-2025/PS2-CHEME-5660-TEMPLATE-Fall-2025/\u001b[39m\u001b[90m\u001b[4mjl_notebook_cell_df34fa98e69747e1a8f8a730347b8e2f_Y132sZmlsZQ==.jl:6\u001b[24m\u001b[39m\n",
      "Figures, Tables and DQs: \u001b[91m\u001b[1mTest Failed\u001b[22m\u001b[39m at \u001b[39m\u001b[1m/Users/jeffreyvarner/Desktop/julia_work/CHEME-5660-Fall-2025/PS2-CHEME-5660-TEMPLATE-Fall-2025/jl_notebook_cell_df34fa98e69747e1a8f8a730347b8e2f_Y132sZmlsZQ==.jl:24\u001b[22m\n",
      "  Expression: do_I_see_single_step_growth_rate_distribution_figure == true\n",
      "   Evaluated: nothing == true\n",
      "\n",
      "Stacktrace:\n",
      " [1] \u001b[0m\u001b[1mmacro expansion\u001b[22m\n",
      "\u001b[90m   @\u001b[39m \u001b[90m~/.julia/juliaup/julia-1.11.6+0.aarch64.apple.darwin14/share/julia/stdlib/v1.11/Test/src/\u001b[39m\u001b[90m\u001b[4mTest.jl:680\u001b[24m\u001b[39m\u001b[90m [inlined]\u001b[39m\n",
      " [2] \u001b[0m\u001b[1mmacro expansion\u001b[22m\n",
      "\u001b[90m   @\u001b[39m \u001b[90m~/Desktop/julia_work/CHEME-5660-Fall-2025/PS2-CHEME-5660-TEMPLATE-Fall-2025/\u001b[39m\u001b[90m\u001b[4mjl_notebook_cell_df34fa98e69747e1a8f8a730347b8e2f_Y132sZmlsZQ==.jl:24\u001b[24m\u001b[39m\u001b[90m [inlined]\u001b[39m\n",
      " [3] \u001b[0m\u001b[1mmacro expansion\u001b[22m\n",
      "\u001b[90m   @\u001b[39m \u001b[90m~/.julia/juliaup/julia-1.11.6+0.aarch64.apple.darwin14/share/julia/stdlib/v1.11/Test/src/\u001b[39m\u001b[90m\u001b[4mTest.jl:1709\u001b[24m\u001b[39m\u001b[90m [inlined]\u001b[39m\n",
      " [4] \u001b[0m\u001b[1mmacro expansion\u001b[22m\n",
      "\u001b[90m   @\u001b[39m \u001b[90m~/Desktop/julia_work/CHEME-5660-Fall-2025/PS2-CHEME-5660-TEMPLATE-Fall-2025/\u001b[39m\u001b[90m\u001b[4mjl_notebook_cell_df34fa98e69747e1a8f8a730347b8e2f_Y132sZmlsZQ==.jl:23\u001b[24m\u001b[39m\u001b[90m [inlined]\u001b[39m\n",
      " [5] \u001b[0m\u001b[1mmacro expansion\u001b[22m\n",
      "\u001b[90m   @\u001b[39m \u001b[90m~/.julia/juliaup/julia-1.11.6+0.aarch64.apple.darwin14/share/julia/stdlib/v1.11/Test/src/\u001b[39m\u001b[90m\u001b[4mTest.jl:1709\u001b[24m\u001b[39m\u001b[90m [inlined]\u001b[39m\n",
      " [6] top-level scope\n",
      "\u001b[90m   @\u001b[39m \u001b[90m~/Desktop/julia_work/CHEME-5660-Fall-2025/PS2-CHEME-5660-TEMPLATE-Fall-2025/\u001b[39m\u001b[90m\u001b[4mjl_notebook_cell_df34fa98e69747e1a8f8a730347b8e2f_Y132sZmlsZQ==.jl:6\u001b[24m\u001b[39m\n",
      "Figures, Tables and DQs: \u001b[91m\u001b[1mTest Failed\u001b[22m\u001b[39m at \u001b[39m\u001b[1m/Users/jeffreyvarner/Desktop/julia_work/CHEME-5660-Fall-2025/PS2-CHEME-5660-TEMPLATE-Fall-2025/jl_notebook_cell_df34fa98e69747e1a8f8a730347b8e2f_Y132sZmlsZQ==.jl:25\u001b[22m\n",
      "  Expression: did_I_answer_discussion_questions_1 == true\n",
      "   Evaluated: nothing == true\n",
      "\n",
      "Stacktrace:\n",
      " [1] \u001b[0m\u001b[1mmacro expansion\u001b[22m\n",
      "\u001b[90m   @\u001b[39m \u001b[90m~/.julia/juliaup/julia-1.11.6+0.aarch64.apple.darwin14/share/julia/stdlib/v1.11/Test/src/\u001b[39m\u001b[90m\u001b[4mTest.jl:680\u001b[24m\u001b[39m\u001b[90m [inlined]\u001b[39m\n",
      " [2] \u001b[0m\u001b[1mmacro expansion\u001b[22m\n",
      "\u001b[90m   @\u001b[39m \u001b[90m~/Desktop/julia_work/CHEME-5660-Fall-2025/PS2-CHEME-5660-TEMPLATE-Fall-2025/\u001b[39m\u001b[90m\u001b[4mjl_notebook_cell_df34fa98e69747e1a8f8a730347b8e2f_Y132sZmlsZQ==.jl:25\u001b[24m\u001b[39m\u001b[90m [inlined]\u001b[39m\n",
      " [3] \u001b[0m\u001b[1mmacro expansion\u001b[22m\n",
      "\u001b[90m   @\u001b[39m \u001b[90m~/.julia/juliaup/julia-1.11.6+0.aarch64.apple.darwin14/share/julia/stdlib/v1.11/Test/src/\u001b[39m\u001b[90m\u001b[4mTest.jl:1709\u001b[24m\u001b[39m\u001b[90m [inlined]\u001b[39m\n",
      " [4] \u001b[0m\u001b[1mmacro expansion\u001b[22m\n",
      "\u001b[90m   @\u001b[39m \u001b[90m~/Desktop/julia_work/CHEME-5660-Fall-2025/PS2-CHEME-5660-TEMPLATE-Fall-2025/\u001b[39m\u001b[90m\u001b[4mjl_notebook_cell_df34fa98e69747e1a8f8a730347b8e2f_Y132sZmlsZQ==.jl:23\u001b[24m\u001b[39m\u001b[90m [inlined]\u001b[39m\n",
      " [5] \u001b[0m\u001b[1mmacro expansion\u001b[22m\n",
      "\u001b[90m   @\u001b[39m \u001b[90m~/.julia/juliaup/julia-1.11.6+0.aarch64.apple.darwin14/share/julia/stdlib/v1.11/Test/src/\u001b[39m\u001b[90m\u001b[4mTest.jl:1709\u001b[24m\u001b[39m\u001b[90m [inlined]\u001b[39m\n",
      " [6] top-level scope\n",
      "\u001b[90m   @\u001b[39m \u001b[90m~/Desktop/julia_work/CHEME-5660-Fall-2025/PS2-CHEME-5660-TEMPLATE-Fall-2025/\u001b[39m\u001b[90m\u001b[4mjl_notebook_cell_df34fa98e69747e1a8f8a730347b8e2f_Y132sZmlsZQ==.jl:6\u001b[24m\u001b[39m\n",
      "Figures, Tables and DQs: \u001b[91m\u001b[1mTest Failed\u001b[22m\u001b[39m at \u001b[39m\u001b[1m/Users/jeffreyvarner/Desktop/julia_work/CHEME-5660-Fall-2025/PS2-CHEME-5660-TEMPLATE-Fall-2025/jl_notebook_cell_df34fa98e69747e1a8f8a730347b8e2f_Y132sZmlsZQ==.jl:26\u001b[22m\n",
      "  Expression: did_I_answer_discussion_question_2 == true\n",
      "   Evaluated: nothing == true\n",
      "\n",
      "Stacktrace:\n",
      " [1] \u001b[0m\u001b[1mmacro expansion\u001b[22m\n",
      "\u001b[90m   @\u001b[39m \u001b[90m~/.julia/juliaup/julia-1.11.6+0.aarch64.apple.darwin14/share/julia/stdlib/v1.11/Test/src/\u001b[39m\u001b[90m\u001b[4mTest.jl:680\u001b[24m\u001b[39m\u001b[90m [inlined]\u001b[39m\n",
      " [2] \u001b[0m\u001b[1mmacro expansion\u001b[22m\n",
      "\u001b[90m   @\u001b[39m \u001b[90m~/Desktop/julia_work/CHEME-5660-Fall-2025/PS2-CHEME-5660-TEMPLATE-Fall-2025/\u001b[39m\u001b[90m\u001b[4mjl_notebook_cell_df34fa98e69747e1a8f8a730347b8e2f_Y132sZmlsZQ==.jl:26\u001b[24m\u001b[39m\u001b[90m [inlined]\u001b[39m\n",
      " [3] \u001b[0m\u001b[1mmacro expansion\u001b[22m\n",
      "\u001b[90m   @\u001b[39m \u001b[90m~/.julia/juliaup/julia-1.11.6+0.aarch64.apple.darwin14/share/julia/stdlib/v1.11/Test/src/\u001b[39m\u001b[90m\u001b[4mTest.jl:1709\u001b[24m\u001b[39m\u001b[90m [inlined]\u001b[39m\n",
      " [4] \u001b[0m\u001b[1mmacro expansion\u001b[22m\n",
      "\u001b[90m   @\u001b[39m \u001b[90m~/Desktop/julia_work/CHEME-5660-Fall-2025/PS2-CHEME-5660-TEMPLATE-Fall-2025/\u001b[39m\u001b[90m\u001b[4mjl_notebook_cell_df34fa98e69747e1a8f8a730347b8e2f_Y132sZmlsZQ==.jl:23\u001b[24m\u001b[39m\u001b[90m [inlined]\u001b[39m\n",
      " [5] \u001b[0m\u001b[1mmacro expansion\u001b[22m\n",
      "\u001b[90m   @\u001b[39m \u001b[90m~/.julia/juliaup/julia-1.11.6+0.aarch64.apple.darwin14/share/julia/stdlib/v1.11/Test/src/\u001b[39m\u001b[90m\u001b[4mTest.jl:1709\u001b[24m\u001b[39m\u001b[90m [inlined]\u001b[39m\n",
      " [6] top-level scope\n",
      "\u001b[90m   @\u001b[39m \u001b[90m~/Desktop/julia_work/CHEME-5660-Fall-2025/PS2-CHEME-5660-TEMPLATE-Fall-2025/\u001b[39m\u001b[90m\u001b[4mjl_notebook_cell_df34fa98e69747e1a8f8a730347b8e2f_Y132sZmlsZQ==.jl:6\u001b[24m\u001b[39m\n",
      "Figures, Tables and DQs: \u001b[91m\u001b[1mError During Test\u001b[22m\u001b[39m at \u001b[39m\u001b[1m/Users/jeffreyvarner/Desktop/julia_work/CHEME-5660-Fall-2025/PS2-CHEME-5660-TEMPLATE-Fall-2025/jl_notebook_cell_df34fa98e69747e1a8f8a730347b8e2f_Y132sZmlsZQ==.jl:27\u001b[22m\n",
      "  Test threw exception\n",
      "  Expression: isnothing(was_simulation_successful) == false\n",
      "  UndefVarError: `was_simulation_successful` not defined in `Main`\n",
      "  Suggestion: check for spelling errors or missing imports.\n",
      "  Stacktrace:\n",
      "   [1] \u001b[0m\u001b[1mmacro expansion\u001b[22m\n",
      "  \u001b[90m   @\u001b[39m \u001b[90m~/.julia/juliaup/julia-1.11.6+0.aarch64.apple.darwin14/share/julia/stdlib/v1.11/Test/src/\u001b[39m\u001b[90m\u001b[4mTest.jl:677\u001b[24m\u001b[39m\u001b[90m [inlined]\u001b[39m\n",
      "   [2] \u001b[0m\u001b[1mmacro expansion\u001b[22m\n",
      "  \u001b[90m   @\u001b[39m \u001b[90m~/Desktop/julia_work/CHEME-5660-Fall-2025/PS2-CHEME-5660-TEMPLATE-Fall-2025/\u001b[39m\u001b[90m\u001b[4mjl_notebook_cell_df34fa98e69747e1a8f8a730347b8e2f_Y132sZmlsZQ==.jl:27\u001b[24m\u001b[39m\u001b[90m [inlined]\u001b[39m\n",
      "   [3] \u001b[0m\u001b[1mmacro expansion\u001b[22m\n",
      "  \u001b[90m   @\u001b[39m \u001b[90m~/.julia/juliaup/julia-1.11.6+0.aarch64.apple.darwin14/share/julia/stdlib/v1.11/Test/src/\u001b[39m\u001b[90m\u001b[4mTest.jl:1709\u001b[24m\u001b[39m\u001b[90m [inlined]\u001b[39m\n",
      "   [4] \u001b[0m\u001b[1mmacro expansion\u001b[22m\n",
      "  \u001b[90m   @\u001b[39m \u001b[90m~/Desktop/julia_work/CHEME-5660-Fall-2025/PS2-CHEME-5660-TEMPLATE-Fall-2025/\u001b[39m\u001b[90m\u001b[4mjl_notebook_cell_df34fa98e69747e1a8f8a730347b8e2f_Y132sZmlsZQ==.jl:23\u001b[24m\u001b[39m\u001b[90m [inlined]\u001b[39m\n",
      "   [5] \u001b[0m\u001b[1mmacro expansion\u001b[22m\n",
      "  \u001b[90m   @\u001b[39m \u001b[90m~/.julia/juliaup/julia-1.11.6+0.aarch64.apple.darwin14/share/julia/stdlib/v1.11/Test/src/\u001b[39m\u001b[90m\u001b[4mTest.jl:1709\u001b[24m\u001b[39m\u001b[90m [inlined]\u001b[39m\n",
      "   [6] top-level scope\n",
      "  \u001b[90m   @\u001b[39m \u001b[90m~/Desktop/julia_work/CHEME-5660-Fall-2025/PS2-CHEME-5660-TEMPLATE-Fall-2025/\u001b[39m\u001b[90m\u001b[4mjl_notebook_cell_df34fa98e69747e1a8f8a730347b8e2f_Y132sZmlsZQ==.jl:6\u001b[24m\u001b[39m\n",
      "Figures, Tables and DQs: \u001b[91m\u001b[1mError During Test\u001b[22m\u001b[39m at \u001b[39m\u001b[1m/Users/jeffreyvarner/Desktop/julia_work/CHEME-5660-Fall-2025/PS2-CHEME-5660-TEMPLATE-Fall-2025/jl_notebook_cell_df34fa98e69747e1a8f8a730347b8e2f_Y132sZmlsZQ==.jl:28\u001b[22m\n",
      "  Test threw exception\n",
      "  Expression: was_simulation_successful == true || was_simulation_successful == false\n",
      "  UndefVarError: `was_simulation_successful` not defined in `Main`\n",
      "  Suggestion: check for spelling errors or missing imports.\n",
      "  Stacktrace:\n",
      "   [1] \u001b[0m\u001b[1mmacro expansion\u001b[22m\n",
      "  \u001b[90m   @\u001b[39m \u001b[90m~/Desktop/julia_work/CHEME-5660-Fall-2025/PS2-CHEME-5660-TEMPLATE-Fall-2025/\u001b[39m\u001b[90m\u001b[4mjl_notebook_cell_df34fa98e69747e1a8f8a730347b8e2f_Y132sZmlsZQ==.jl:28\u001b[24m\u001b[39m\u001b[90m [inlined]\u001b[39m\n",
      "   [2] \u001b[0m\u001b[1mmacro expansion\u001b[22m\n",
      "  \u001b[90m   @\u001b[39m \u001b[90m~/.julia/juliaup/julia-1.11.6+0.aarch64.apple.darwin14/share/julia/stdlib/v1.11/Test/src/\u001b[39m\u001b[90m\u001b[4mTest.jl:677\u001b[24m\u001b[39m\u001b[90m [inlined]\u001b[39m\n",
      "   [3] \u001b[0m\u001b[1mmacro expansion\u001b[22m\n",
      "  \u001b[90m   @\u001b[39m \u001b[90m~/Desktop/julia_work/CHEME-5660-Fall-2025/PS2-CHEME-5660-TEMPLATE-Fall-2025/\u001b[39m\u001b[90m\u001b[4mjl_notebook_cell_df34fa98e69747e1a8f8a730347b8e2f_Y132sZmlsZQ==.jl:28\u001b[24m\u001b[39m\u001b[90m [inlined]\u001b[39m\n",
      "   [4] \u001b[0m\u001b[1mmacro expansion\u001b[22m\n",
      "  \u001b[90m   @\u001b[39m \u001b[90m~/.julia/juliaup/julia-1.11.6+0.aarch64.apple.darwin14/share/julia/stdlib/v1.11/Test/src/\u001b[39m\u001b[90m\u001b[4mTest.jl:1709\u001b[24m\u001b[39m\u001b[90m [inlined]\u001b[39m\n",
      "   [5] \u001b[0m\u001b[1mmacro expansion\u001b[22m\n",
      "  \u001b[90m   @\u001b[39m \u001b[90m~/Desktop/julia_work/CHEME-5660-Fall-2025/PS2-CHEME-5660-TEMPLATE-Fall-2025/\u001b[39m\u001b[90m\u001b[4mjl_notebook_cell_df34fa98e69747e1a8f8a730347b8e2f_Y132sZmlsZQ==.jl:23\u001b[24m\u001b[39m\u001b[90m [inlined]\u001b[39m\n",
      "   [6] \u001b[0m\u001b[1mmacro expansion\u001b[22m\n",
      "  \u001b[90m   @\u001b[39m \u001b[90m~/.julia/juliaup/julia-1.11.6+0.aarch64.apple.darwin14/share/julia/stdlib/v1.11/Test/src/\u001b[39m\u001b[90m\u001b[4mTest.jl:1709\u001b[24m\u001b[39m\u001b[90m [inlined]\u001b[39m\n",
      "   [7] top-level scope\n",
      "  \u001b[90m   @\u001b[39m \u001b[90m~/Desktop/julia_work/CHEME-5660-Fall-2025/PS2-CHEME-5660-TEMPLATE-Fall-2025/\u001b[39m\u001b[90m\u001b[4mjl_notebook_cell_df34fa98e69747e1a8f8a730347b8e2f_Y132sZmlsZQ==.jl:6\u001b[24m\u001b[39m\n",
      "Stylized Facts: \u001b[91m\u001b[1mTest Failed\u001b[22m\u001b[39m at \u001b[39m\u001b[1m/Users/jeffreyvarner/Desktop/julia_work/CHEME-5660-Fall-2025/PS2-CHEME-5660-TEMPLATE-Fall-2025/jl_notebook_cell_df34fa98e69747e1a8f8a730347b8e2f_Y132sZmlsZQ==.jl:33\u001b[22m\n",
      "  Expression: isnothing(does_my_autocorrelation_function_vanish) == false\n",
      "   Evaluated: true == false\n",
      "\n",
      "Stacktrace:\n",
      " [1] \u001b[0m\u001b[1mmacro expansion\u001b[22m\n",
      "\u001b[90m   @\u001b[39m \u001b[90m~/.julia/juliaup/julia-1.11.6+0.aarch64.apple.darwin14/share/julia/stdlib/v1.11/Test/src/\u001b[39m\u001b[90m\u001b[4mTest.jl:680\u001b[24m\u001b[39m\u001b[90m [inlined]\u001b[39m\n",
      " [2] \u001b[0m\u001b[1mmacro expansion\u001b[22m\n",
      "\u001b[90m   @\u001b[39m \u001b[90m~/Desktop/julia_work/CHEME-5660-Fall-2025/PS2-CHEME-5660-TEMPLATE-Fall-2025/\u001b[39m\u001b[90m\u001b[4mjl_notebook_cell_df34fa98e69747e1a8f8a730347b8e2f_Y132sZmlsZQ==.jl:33\u001b[24m\u001b[39m\u001b[90m [inlined]\u001b[39m\n",
      " [3] \u001b[0m\u001b[1mmacro expansion\u001b[22m\n",
      "\u001b[90m   @\u001b[39m \u001b[90m~/.julia/juliaup/julia-1.11.6+0.aarch64.apple.darwin14/share/julia/stdlib/v1.11/Test/src/\u001b[39m\u001b[90m\u001b[4mTest.jl:1709\u001b[24m\u001b[39m\u001b[90m [inlined]\u001b[39m\n",
      " [4] \u001b[0m\u001b[1mmacro expansion\u001b[22m\n",
      "\u001b[90m   @\u001b[39m \u001b[90m~/Desktop/julia_work/CHEME-5660-Fall-2025/PS2-CHEME-5660-TEMPLATE-Fall-2025/\u001b[39m\u001b[90m\u001b[4mjl_notebook_cell_df34fa98e69747e1a8f8a730347b8e2f_Y132sZmlsZQ==.jl:33\u001b[24m\u001b[39m\u001b[90m [inlined]\u001b[39m\n",
      " [5] \u001b[0m\u001b[1mmacro expansion\u001b[22m\n",
      "\u001b[90m   @\u001b[39m \u001b[90m~/.julia/juliaup/julia-1.11.6+0.aarch64.apple.darwin14/share/julia/stdlib/v1.11/Test/src/\u001b[39m\u001b[90m\u001b[4mTest.jl:1709\u001b[24m\u001b[39m\u001b[90m [inlined]\u001b[39m\n",
      " [6] top-level scope\n",
      "\u001b[90m   @\u001b[39m \u001b[90m~/Desktop/julia_work/CHEME-5660-Fall-2025/PS2-CHEME-5660-TEMPLATE-Fall-2025/\u001b[39m\u001b[90m\u001b[4mjl_notebook_cell_df34fa98e69747e1a8f8a730347b8e2f_Y132sZmlsZQ==.jl:6\u001b[24m\u001b[39m\n",
      "Stylized Facts: \u001b[91m\u001b[1mTest Failed\u001b[22m\u001b[39m at \u001b[39m\u001b[1m/Users/jeffreyvarner/Desktop/julia_work/CHEME-5660-Fall-2025/PS2-CHEME-5660-TEMPLATE-Fall-2025/jl_notebook_cell_df34fa98e69747e1a8f8a730347b8e2f_Y132sZmlsZQ==.jl:34\u001b[22m\n",
      "  Expression: does_my_autocorrelation_function_vanish == true\n",
      "   Evaluated: nothing == true\n",
      "\n",
      "Stacktrace:\n",
      " [1] \u001b[0m\u001b[1mmacro expansion\u001b[22m\n",
      "\u001b[90m   @\u001b[39m \u001b[90m~/.julia/juliaup/julia-1.11.6+0.aarch64.apple.darwin14/share/julia/stdlib/v1.11/Test/src/\u001b[39m\u001b[90m\u001b[4mTest.jl:680\u001b[24m\u001b[39m\u001b[90m [inlined]\u001b[39m\n",
      " [2] \u001b[0m\u001b[1mmacro expansion\u001b[22m\n",
      "\u001b[90m   @\u001b[39m \u001b[90m~/Desktop/julia_work/CHEME-5660-Fall-2025/PS2-CHEME-5660-TEMPLATE-Fall-2025/\u001b[39m\u001b[90m\u001b[4mjl_notebook_cell_df34fa98e69747e1a8f8a730347b8e2f_Y132sZmlsZQ==.jl:34\u001b[24m\u001b[39m\u001b[90m [inlined]\u001b[39m\n",
      " [3] \u001b[0m\u001b[1mmacro expansion\u001b[22m\n",
      "\u001b[90m   @\u001b[39m \u001b[90m~/.julia/juliaup/julia-1.11.6+0.aarch64.apple.darwin14/share/julia/stdlib/v1.11/Test/src/\u001b[39m\u001b[90m\u001b[4mTest.jl:1709\u001b[24m\u001b[39m\u001b[90m [inlined]\u001b[39m\n",
      " [4] \u001b[0m\u001b[1mmacro expansion\u001b[22m\n",
      "\u001b[90m   @\u001b[39m \u001b[90m~/Desktop/julia_work/CHEME-5660-Fall-2025/PS2-CHEME-5660-TEMPLATE-Fall-2025/\u001b[39m\u001b[90m\u001b[4mjl_notebook_cell_df34fa98e69747e1a8f8a730347b8e2f_Y132sZmlsZQ==.jl:33\u001b[24m\u001b[39m\u001b[90m [inlined]\u001b[39m\n",
      " [5] \u001b[0m\u001b[1mmacro expansion\u001b[22m\n",
      "\u001b[90m   @\u001b[39m \u001b[90m~/.julia/juliaup/julia-1.11.6+0.aarch64.apple.darwin14/share/julia/stdlib/v1.11/Test/src/\u001b[39m\u001b[90m\u001b[4mTest.jl:1709\u001b[24m\u001b[39m\u001b[90m [inlined]\u001b[39m\n",
      " [6] top-level scope\n",
      "\u001b[90m   @\u001b[39m \u001b[90m~/Desktop/julia_work/CHEME-5660-Fall-2025/PS2-CHEME-5660-TEMPLATE-Fall-2025/\u001b[39m\u001b[90m\u001b[4mjl_notebook_cell_df34fa98e69747e1a8f8a730347b8e2f_Y132sZmlsZQ==.jl:6\u001b[24m\u001b[39m\n",
      "Stylized Facts: \u001b[91m\u001b[1mTest Failed\u001b[22m\u001b[39m at \u001b[39m\u001b[1m/Users/jeffreyvarner/Desktop/julia_work/CHEME-5660-Fall-2025/PS2-CHEME-5660-TEMPLATE-Fall-2025/jl_notebook_cell_df34fa98e69747e1a8f8a730347b8e2f_Y132sZmlsZQ==.jl:35\u001b[22m\n",
      "  Expression: isnothing(does_anderson_darling_test_suggest_normality) == false\n",
      "   Evaluated: true == false\n",
      "\n",
      "Stacktrace:\n",
      " [1] \u001b[0m\u001b[1mmacro expansion\u001b[22m\n",
      "\u001b[90m   @\u001b[39m \u001b[90m~/.julia/juliaup/julia-1.11.6+0.aarch64.apple.darwin14/share/julia/stdlib/v1.11/Test/src/\u001b[39m\u001b[90m\u001b[4mTest.jl:680\u001b[24m\u001b[39m\u001b[90m [inlined]\u001b[39m\n",
      " [2] \u001b[0m\u001b[1mmacro expansion\u001b[22m\n",
      "\u001b[90m   @\u001b[39m \u001b[90m~/Desktop/julia_work/CHEME-5660-Fall-2025/PS2-CHEME-5660-TEMPLATE-Fall-2025/\u001b[39m\u001b[90m\u001b[4mjl_notebook_cell_df34fa98e69747e1a8f8a730347b8e2f_Y132sZmlsZQ==.jl:35\u001b[24m\u001b[39m\u001b[90m [inlined]\u001b[39m\n",
      " [3] \u001b[0m\u001b[1mmacro expansion\u001b[22m\n",
      "\u001b[90m   @\u001b[39m \u001b[90m~/.julia/juliaup/julia-1.11.6+0.aarch64.apple.darwin14/share/julia/stdlib/v1.11/Test/src/\u001b[39m\u001b[90m\u001b[4mTest.jl:1709\u001b[24m\u001b[39m\u001b[90m [inlined]\u001b[39m\n",
      " [4] \u001b[0m\u001b[1mmacro expansion\u001b[22m\n",
      "\u001b[90m   @\u001b[39m \u001b[90m~/Desktop/julia_work/CHEME-5660-Fall-2025/PS2-CHEME-5660-TEMPLATE-Fall-2025/\u001b[39m\u001b[90m\u001b[4mjl_notebook_cell_df34fa98e69747e1a8f8a730347b8e2f_Y132sZmlsZQ==.jl:33\u001b[24m\u001b[39m\u001b[90m [inlined]\u001b[39m\n",
      " [5] \u001b[0m\u001b[1mmacro expansion\u001b[22m\n",
      "\u001b[90m   @\u001b[39m \u001b[90m~/.julia/juliaup/julia-1.11.6+0.aarch64.apple.darwin14/share/julia/stdlib/v1.11/Test/src/\u001b[39m\u001b[90m\u001b[4mTest.jl:1709\u001b[24m\u001b[39m\u001b[90m [inlined]\u001b[39m\n",
      " [6] top-level scope\n",
      "\u001b[90m   @\u001b[39m \u001b[90m~/Desktop/julia_work/CHEME-5660-Fall-2025/PS2-CHEME-5660-TEMPLATE-Fall-2025/\u001b[39m\u001b[90m\u001b[4mjl_notebook_cell_df34fa98e69747e1a8f8a730347b8e2f_Y132sZmlsZQ==.jl:6\u001b[24m\u001b[39m\n",
      "Stylized Facts: \u001b[91m\u001b[1mTest Failed\u001b[22m\u001b[39m at \u001b[39m\u001b[1m/Users/jeffreyvarner/Desktop/julia_work/CHEME-5660-Fall-2025/PS2-CHEME-5660-TEMPLATE-Fall-2025/jl_notebook_cell_df34fa98e69747e1a8f8a730347b8e2f_Y132sZmlsZQ==.jl:36\u001b[22m\n",
      "  Expression: does_anderson_darling_test_suggest_normality == true\n",
      "   Evaluated: nothing == true\n",
      "\n",
      "Stacktrace:\n",
      " [1] \u001b[0m\u001b[1mmacro expansion\u001b[22m\n",
      "\u001b[90m   @\u001b[39m \u001b[90m~/.julia/juliaup/julia-1.11.6+0.aarch64.apple.darwin14/share/julia/stdlib/v1.11/Test/src/\u001b[39m\u001b[90m\u001b[4mTest.jl:680\u001b[24m\u001b[39m\u001b[90m [inlined]\u001b[39m\n",
      " [2] \u001b[0m\u001b[1mmacro expansion\u001b[22m\n",
      "\u001b[90m   @\u001b[39m \u001b[90m~/Desktop/julia_work/CHEME-5660-Fall-2025/PS2-CHEME-5660-TEMPLATE-Fall-2025/\u001b[39m\u001b[90m\u001b[4mjl_notebook_cell_df34fa98e69747e1a8f8a730347b8e2f_Y132sZmlsZQ==.jl:36\u001b[24m\u001b[39m\u001b[90m [inlined]\u001b[39m\n",
      " [3] \u001b[0m\u001b[1mmacro expansion\u001b[22m\n",
      "\u001b[90m   @\u001b[39m \u001b[90m~/.julia/juliaup/julia-1.11.6+0.aarch64.apple.darwin14/share/julia/stdlib/v1.11/Test/src/\u001b[39m\u001b[90m\u001b[4mTest.jl:1709\u001b[24m\u001b[39m\u001b[90m [inlined]\u001b[39m\n",
      " [4] \u001b[0m\u001b[1mmacro expansion\u001b[22m\n",
      "\u001b[90m   @\u001b[39m \u001b[90m~/Desktop/julia_work/CHEME-5660-Fall-2025/PS2-CHEME-5660-TEMPLATE-Fall-2025/\u001b[39m\u001b[90m\u001b[4mjl_notebook_cell_df34fa98e69747e1a8f8a730347b8e2f_Y132sZmlsZQ==.jl:33\u001b[24m\u001b[39m\u001b[90m [inlined]\u001b[39m\n",
      " [5] \u001b[0m\u001b[1mmacro expansion\u001b[22m\n",
      "\u001b[90m   @\u001b[39m \u001b[90m~/.julia/juliaup/julia-1.11.6+0.aarch64.apple.darwin14/share/julia/stdlib/v1.11/Test/src/\u001b[39m\u001b[90m\u001b[4mTest.jl:1709\u001b[24m\u001b[39m\u001b[90m [inlined]\u001b[39m\n",
      " [6] top-level scope\n",
      "\u001b[90m   @\u001b[39m \u001b[90m~/Desktop/julia_work/CHEME-5660-Fall-2025/PS2-CHEME-5660-TEMPLATE-Fall-2025/\u001b[39m\u001b[90m\u001b[4mjl_notebook_cell_df34fa98e69747e1a8f8a730347b8e2f_Y132sZmlsZQ==.jl:6\u001b[24m\u001b[39m\n",
      "\u001b[0m\u001b[1mTest Summary:             | \u001b[22m\u001b[91m\u001b[1mFail  \u001b[22m\u001b[39m\u001b[91m\u001b[1mError  \u001b[22m\u001b[39m\u001b[36m\u001b[1mTotal  \u001b[22m\u001b[39m\u001b[0m\u001b[1mTime\u001b[22m\n",
      "PS2 CHEME 5660 Test Suite | \u001b[91m  11  \u001b[39m\u001b[91m    7  \u001b[39m\u001b[36m   18  \u001b[39m\u001b[0m1.6s\n",
      "  Growth Rate Calculation | \u001b[91m   2  \u001b[39m\u001b[91m    2  \u001b[39m\u001b[36m    4  \u001b[39m\u001b[0m1.4s\n",
      "  Random Test Model       | \u001b[91m   1  \u001b[39m\u001b[91m    3  \u001b[39m\u001b[36m    4  \u001b[39m\u001b[0m0.0s\n",
      "  Figures, Tables and DQs | \u001b[91m   4  \u001b[39m\u001b[91m    2  \u001b[39m\u001b[36m    6  \u001b[39m\u001b[0m0.1s\n",
      "  Stylized Facts          | \u001b[91m   4  \u001b[39m\u001b[91m       \u001b[39m\u001b[36m    4  \u001b[39m\u001b[0m0.0s\n"
     ]
    },
    {
     "ename": "TestSetException",
     "evalue": "Some tests did not pass: 0 passed, 11 failed, 7 errored, 0 broken.",
     "output_type": "error",
     "traceback": [
      "Some tests did not pass: 0 passed, 11 failed, 7 errored, 0 broken.\n",
      "\n",
      "Stacktrace:\n",
      " [1] finish(ts::Test.DefaultTestSet; print_results::Bool)\n",
      "   @ Test ~/.julia/juliaup/julia-1.11.6+0.aarch64.apple.darwin14/share/julia/stdlib/v1.11/Test/src/Test.jl:1259\n",
      " [2] finish(ts::Test.DefaultTestSet)\n",
      "   @ Test ~/.julia/juliaup/julia-1.11.6+0.aarch64.apple.darwin14/share/julia/stdlib/v1.11/Test/src/Test.jl:1234\n",
      " [3] macro expansion\n",
      "   @ ~/.julia/juliaup/julia-1.11.6+0.aarch64.apple.darwin14/share/julia/stdlib/v1.11/Test/src/Test.jl:1725 [inlined]\n",
      " [4] top-level scope\n",
      "   @ ~/Desktop/julia_work/CHEME-5660-Fall-2025/PS2-CHEME-5660-TEMPLATE-Fall-2025/jl_notebook_cell_df34fa98e69747e1a8f8a730347b8e2f_Y132sZmlsZQ==.jl:6"
     ]
    }
   ],
   "source": [
    "@testset verbose=true \"PS2 CHEME 5660 Test Suite\" begin\n",
    "\n",
    "    # simple tests to make sure you completed the assignment.\n",
    "    \n",
    "    # growth rate tests -\n",
    "    @testset verbose = true \"Growth Rate Calculation\" begin\n",
    "        @test isnothing(log_growth_array) == false;\n",
    "        @test isempty(log_growth_array) == false;\n",
    "        @test length(log_growth_array) == (maximum_number_trading_days - 1)\n",
    "        @test is_observed_growth_rate_distribution_normal  == false\n",
    "    end\n",
    "\n",
    "    # model tests -\n",
    "    @testset verbose = true \"Random Test Model\" begin\n",
    "        @test isnothing(random_test_model) == false;\n",
    "        @test isempty(random_test_model.data) == false;\n",
    "        @test isempty(random_test_model.connectivity) == false\n",
    "        @test isempty(random_test_model.levels) == false;\n",
    "    end\n",
    "    \n",
    "    # figure tests -\n",
    "    @testset verbose = true \"Figures, Tables and DQs\" begin\n",
    "        @test do_I_see_price_simulation_figure == true;\n",
    "        @test do_I_see_single_step_growth_rate_distribution_figure == true\n",
    "        @test did_I_answer_discussion_questions_1 == true\n",
    "        @test did_I_answer_discussion_question_2  == true\n",
    "        @test isnothing(was_simulation_successful) == false;\n",
    "        @test was_simulation_successful == true || was_simulation_successful == false;\n",
    "    end\n",
    "\n",
    "    # stylized facts -\n",
    "    @testset verbose = true \"Stylized Facts\" begin\n",
    "        @test isnothing(does_my_autocorrelation_function_vanish) == false\n",
    "        @test does_my_autocorrelation_function_vanish == true\n",
    "        @test isnothing(does_anderson_darling_test_suggest_normality) == false\n",
    "        @test does_anderson_darling_test_suggest_normality == true\n",
    "    end\n",
    "end"
   ]
  },
  {
   "cell_type": "markdown",
   "id": "ab93ec7c",
   "metadata": {},
   "source": [
    "___"
   ]
  },
  {
   "cell_type": "markdown",
   "id": "15cc66d3-ddff-4215-8872-a4558041bdd0",
   "metadata": {},
   "source": [
    "## Disclaimer and Risks\n",
    "__This content is offered solely for training and informational purposes__. No offer or solicitation to buy or sell securities or derivative products, or any investment or trading advice or strategy, is made, given, or endorsed by the teaching team. \n",
    "\n",
    "__Trading involves risk__. Carefully review your financial situation before investing in securities, futures contracts, options, or commodity interests. Past performance, whether actual or indicated by historical tests of strategies, is no guarantee of future performance or success. Trading is generally inappropriate for someone with limited resources, investment or trading experience, or a low-risk tolerance. Only risk capital that is not required for living expenses should be used.\n",
    "\n",
    "__You are fully responsible for any investment or trading decisions you make__. Such decisions should be based solely on evaluating your financial circumstances, investment or trading objectives, risk tolerance, and liquidity needs."
   ]
  }
 ],
 "metadata": {
  "kernelspec": {
   "display_name": "Julia 1.11.6",
   "language": "julia",
   "name": "julia-1.11"
  },
  "language_info": {
   "file_extension": ".jl",
   "mimetype": "application/julia",
   "name": "julia",
   "version": "1.11.6"
  }
 },
 "nbformat": 4,
 "nbformat_minor": 5
}
